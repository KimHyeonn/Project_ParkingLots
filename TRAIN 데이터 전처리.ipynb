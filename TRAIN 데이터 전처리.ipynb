{
 "cells": [
  {
   "cell_type": "markdown",
   "id": "ddd1a9fe-4cb9-47d9-917f-4684f3538851",
   "metadata": {},
   "source": [
    "# <비율컬럼 추가>"
   ]
  },
  {
   "cell_type": "code",
   "execution_count": 21,
   "id": "4efce28a-1555-44c3-9497-825e0aea12a2",
   "metadata": {},
   "outputs": [],
   "source": [
    "import matplotlib.pyplot as plt"
   ]
  },
  {
   "cell_type": "code",
   "execution_count": 22,
   "id": "3ac255b6-5eac-43f3-919b-c3cb8b3df208",
   "metadata": {},
   "outputs": [],
   "source": [
    "df = pd.read_csv('train.csv')"
   ]
  },
  {
   "cell_type": "code",
   "execution_count": 23,
   "id": "18779e9e-298d-40db-adfc-ccd518b69fa7",
   "metadata": {},
   "outputs": [
    {
     "name": "stdout",
     "output_type": "stream",
     "text": [
      "pandas version:  1.3.0\n"
     ]
    }
   ],
   "source": [
    "print(\"pandas version: \", pd.__version__)\n",
    "pd.set_option('display.max_row', 100)\n",
    "pd.set_option('display.max_columns', 85)"
   ]
  },
  {
   "cell_type": "code",
   "execution_count": 24,
   "id": "24c96f0d-89a1-49f4-8b28-16b8f44e5037",
   "metadata": {},
   "outputs": [],
   "source": [
    "df.columns = ['단지코드', '총세대수', '임대건물구분', '지역', '공급유형', '전용면적', '전용면적별세대수', '공가수',\n",
    "       '자격유형', '임대보증금', '임대료', '지하철역', '버스정류장', '단지내주차면수', '등록차량수']"
   ]
  },
  {
   "cell_type": "markdown",
   "id": "5985dc8e-0177-410c-be2f-6ff0f368b543",
   "metadata": {},
   "source": [
    "# 1. 데이터 오류 처리"
   ]
  },
  {
   "cell_type": "code",
   "execution_count": 25,
   "id": "8a11d314-93d7-4513-8cf8-638f1a29f33f",
   "metadata": {},
   "outputs": [
    {
     "data": {
      "text/plain": [
       "15"
      ]
     },
     "execution_count": 25,
     "metadata": {},
     "output_type": "execute_result"
    }
   ],
   "source": [
    "error_list=['C2335', 'C1327', 'C1095', 'C2051', 'C1218', 'C1894', 'C2483', 'C1502', 'C1988', 'C2085', 'C1397', 'C2431', 'C1649', 'C1036', 'C2675'] \n",
    "len(error_list)"
   ]
  },
  {
   "cell_type": "code",
   "execution_count": 26,
   "id": "50e8b3d6-bbbc-4e46-a2c5-2fd81e563e34",
   "metadata": {},
   "outputs": [
    {
     "data": {
      "text/plain": [
       "423"
      ]
     },
     "execution_count": 26,
     "metadata": {},
     "output_type": "execute_result"
    }
   ],
   "source": [
    "df.단지코드.nunique()"
   ]
  },
  {
   "cell_type": "code",
   "execution_count": 27,
   "id": "d2956473-67f6-46f2-bc34-007044719cf8",
   "metadata": {},
   "outputs": [
    {
     "data": {
      "text/plain": [
       "411"
      ]
     },
     "execution_count": 27,
     "metadata": {},
     "output_type": "execute_result"
    }
   ],
   "source": [
    "code_list = [i for i in df.단지코드.unique() if i not in error_list]\n",
    "len(code_list)"
   ]
  },
  {
   "cell_type": "code",
   "execution_count": 28,
   "id": "7fd0f54c-3343-4e8d-9ff4-45a8f4039ef7",
   "metadata": {},
   "outputs": [],
   "source": [
    "df_r = pd.DataFrame()\n",
    "\n",
    "for i in code_list:\n",
    "    temp = df[df.단지코드 == i]\n",
    "    df_r = pd.concat([df_r, temp])"
   ]
  },
  {
   "cell_type": "code",
   "execution_count": 29,
   "id": "4e5ac032-eb66-403a-90a6-4bcf8c7f3367",
   "metadata": {},
   "outputs": [],
   "source": [
    "df_r.to_csv('data/train_0_semi.csv')"
   ]
  },
  {
   "cell_type": "code",
   "execution_count": 30,
   "id": "318c6d4c-7256-4927-bb6f-22f749f2eb72",
   "metadata": {},
   "outputs": [],
   "source": [
    "df = df_r.copy()"
   ]
  },
  {
   "cell_type": "markdown",
   "id": "0af3f4cb-cacb-4b31-8981-c02dbd06d9c2",
   "metadata": {},
   "source": [
    "# 2.결측치 처리"
   ]
  },
  {
   "cell_type": "code",
   "execution_count": 31,
   "id": "eeb1e328-2c71-466e-847f-3110e84bcb0e",
   "metadata": {},
   "outputs": [],
   "source": [
    "df['임대료'] = df.임대료.replace('-', np.nan)\n",
    "df['임대보증금'] = df.임대보증금.replace('-', np.nan)"
   ]
  },
  {
   "cell_type": "code",
   "execution_count": 32,
   "id": "b9afaa81-d200-42ae-ad3d-a1908976ee34",
   "metadata": {},
   "outputs": [],
   "source": [
    "df['임대료'] = df['임대료'].fillna(0)\n",
    "df['임대보증금'] = df['임대보증금'].fillna(0)"
   ]
  },
  {
   "cell_type": "markdown",
   "id": "dae40562-9f3b-400e-b285-9c23ba2c86cf",
   "metadata": {},
   "source": [
    "### 지하철역수\n",
    "- 대전은 1, 충청남도는 0"
   ]
  },
  {
   "cell_type": "code",
   "execution_count": 33,
   "id": "94c033b1-ccd0-4451-a02c-6465b481482f",
   "metadata": {},
   "outputs": [
    {
     "data": {
      "text/plain": [
       "0.7225433526011561"
      ]
     },
     "execution_count": 33,
     "metadata": {},
     "output_type": "execute_result"
    }
   ],
   "source": [
    "np.mean(df[df['지역'] == '대전광역시']['지하철역'])"
   ]
  },
  {
   "cell_type": "code",
   "execution_count": 34,
   "id": "512cac08-1272-4f8c-9ded-153a7fc14f9e",
   "metadata": {},
   "outputs": [
    {
     "data": {
      "text/plain": [
       "0.0"
      ]
     },
     "execution_count": 34,
     "metadata": {},
     "output_type": "execute_result"
    }
   ],
   "source": [
    "np.mean(df[df['지역'] == '충청남도']['지하철역'])"
   ]
  },
  {
   "cell_type": "code",
   "execution_count": 35,
   "id": "5f16f40d-b244-4671-abf1-764f97638a2c",
   "metadata": {},
   "outputs": [],
   "source": [
    "df['지하철역'] = np.where((df.지역 =='대전광역시') & (df['지하철역'].isnull()), 1, df['지하철역'])\n",
    "df['지하철역'] = np.where((df.지역 =='충청남도') & (df['지하철역'].isnull()), 0, df['지하철역'])"
   ]
  },
  {
   "cell_type": "markdown",
   "id": "dbdc0567-79c5-4c2c-81a9-85c5c6683e43",
   "metadata": {},
   "source": [
    "# 3.이상치 처리"
   ]
  },
  {
   "cell_type": "code",
   "execution_count": 36,
   "id": "719ce549-a9bf-4511-9272-c7a75b1d5454",
   "metadata": {},
   "outputs": [
    {
     "data": {
      "text/plain": [
       "Index(['단지코드', '총세대수', '임대건물구분', '지역', '공급유형', '전용면적', '전용면적별세대수', '공가수',\n",
       "       '자격유형', '임대보증금', '임대료', '지하철역', '버스정류장', '단지내주차면수', '등록차량수'],\n",
       "      dtype='object')"
      ]
     },
     "execution_count": 36,
     "metadata": {},
     "output_type": "execute_result"
    }
   ],
   "source": [
    "df.columns"
   ]
  },
  {
   "cell_type": "code",
   "execution_count": 37,
   "id": "b9c51c61-4586-4aed-b1a8-aeccf1225e5c",
   "metadata": {
    "tags": []
   },
   "outputs": [
    {
     "data": {
      "image/png": "[encoded data removed]",
      "text/plain": [
       "<Figure size 432x288 with 1 Axes>"
      ]
     },
     "metadata": {
      "image/png": {
       "height": 251,
       "width": 380
      }
     },
     "output_type": "display_data"
    }
   ],
   "source": [
    "plt.boxplot(df['버스정류장'])\n",
    "plt.show()"
   ]
  },
  {
   "cell_type": "code",
   "execution_count": 38,
   "id": "fc6ba5c9-231d-44ab-892b-3ec5d288bf10",
   "metadata": {},
   "outputs": [],
   "source": [
    "q25 = np.percentile(df['버스정류장'], 25)\n",
    "q75 = np.percentile(df['버스정류장'], 75)\n",
    "IQR = q75 - q25\n",
    "df['버스정류장'] = np.where(df['버스정류장'] > 7, 7, df['버스정류장'])"
   ]
  },
  {
   "cell_type": "code",
   "execution_count": 39,
   "id": "38d89469-fc45-4dfc-abf5-a6679ed863bc",
   "metadata": {},
   "outputs": [
    {
     "data": {
      "text/plain": [
       "3.409898919484141"
      ]
     },
     "execution_count": 39,
     "metadata": {},
     "output_type": "execute_result"
    }
   ],
   "source": [
    "np.mean(df['버스정류장']) "
   ]
  },
  {
   "cell_type": "code",
   "execution_count": 40,
   "id": "ca93287d-bb0b-4dd2-aa4f-024d8e0e586d",
   "metadata": {},
   "outputs": [
    {
     "data": {
      "text/plain": [
       "(array([  2., 270., 774.,   0., 716., 485.,   0., 162., 153., 307.]),\n",
       " array([0. , 0.7, 1.4, 2.1, 2.8, 3.5, 4.2, 4.9, 5.6, 6.3, 7. ]),\n",
       " <BarContainer object of 10 artists>)"
      ]
     },
     "execution_count": 40,
     "metadata": {},
     "output_type": "execute_result"
    },
    {
     "data": {
      "image/png": "[encoded data removed]",
      "text/plain": [
       "<Figure size 432x288 with 1 Axes>"
      ]
     },
     "metadata": {
      "image/png": {
       "height": 251,
       "width": 376
      }
     },
     "output_type": "display_data"
    }
   ],
   "source": [
    "plt.hist(df['버스정류장'])"
   ]
  },
  {
   "cell_type": "code",
   "execution_count": 41,
   "id": "31989d17-a139-41ee-a48d-705adc348846",
   "metadata": {},
   "outputs": [],
   "source": [
    "df.to_csv('data/train_1_semi.csv', index=False)"
   ]
  },
  {
   "cell_type": "code",
   "execution_count": 42,
   "id": "da33c294-68c0-4bd0-b7a4-e72bbe8c552d",
   "metadata": {},
   "outputs": [],
   "source": [
    "#전처리 완료\n",
    "df = pd.read_csv('data/train_1_semi.csv')"
   ]
  },
  {
   "cell_type": "markdown",
   "id": "a033072f-8055-4d9e-98d0-94b936a0909f",
   "metadata": {},
   "source": [
    "# 4.그룹"
   ]
  },
  {
   "cell_type": "markdown",
   "id": "8c2a1c2e-02b8-49b7-bdfc-daaff85f1bf5",
   "metadata": {},
   "source": [
    "### 공급유형 그룹"
   ]
  },
  {
   "cell_type": "code",
   "execution_count": 43,
   "id": "2435e5c6-b09a-4faa-8f29-64da63b95d37",
   "metadata": {},
   "outputs": [],
   "source": [
    "df['period'] = np.where((df.공급유형=='영구임대')|(df.공급유형=='공공임대(50년)')|(df.공급유형=='공공분양'), 'exL',\n",
    "        np.where((df.공급유형=='국민임대')|(df.공급유형 =='장기전세'), 'L', 'S'))"
   ]
  },
  {
   "cell_type": "code",
   "execution_count": 44,
   "id": "9c9f4ddb-54fe-42f5-8c7f-299b2164c02e",
   "metadata": {},
   "outputs": [],
   "source": [
    "# from collections import Counter"
   ]
  },
  {
   "cell_type": "code",
   "execution_count": 45,
   "id": "04b651d0-19bd-47bc-bf5e-2f121140045e",
   "metadata": {},
   "outputs": [
    {
     "data": {
      "text/plain": [
       "(array([1730.,    0.,    0.,    0.,    0.,  190.,    0.,    0.,    0.,\n",
       "         949.]),\n",
       " array([0. , 0.2, 0.4, 0.6, 0.8, 1. , 1.2, 1.4, 1.6, 1.8, 2. ]),\n",
       " <BarContainer object of 10 artists>)"
      ]
     },
     "execution_count": 45,
     "metadata": {},
     "output_type": "execute_result"
    },
    {
     "data": {
      "image/png": "[encoded data removed]",
      "text/plain": [
       "<Figure size 432x288 with 1 Axes>"
      ]
     },
     "metadata": {
      "image/png": {
       "height": 251,
       "width": 383
      }
     },
     "output_type": "display_data"
    }
   ],
   "source": [
    "plt.hist(df.period)"
   ]
  },
  {
   "cell_type": "markdown",
   "id": "3669c425-2010-47de-bb78-9bcac437ebd3",
   "metadata": {},
   "source": [
    "### 자격유형 그룹"
   ]
  },
  {
   "cell_type": "code",
   "execution_count": 46,
   "id": "dbe7f3c2-b467-4aa8-bf28-4a2ee1b7483d",
   "metadata": {},
   "outputs": [],
   "source": [
    "ls=[]\n",
    "for i in df.공급유형.unique():\n",
    "    temp = df[df.공급유형 == i]\n",
    "    cert = temp.자격유형.unique()\n",
    "    ls.append([i, cert])"
   ]
  },
  {
   "cell_type": "markdown",
   "id": "5f445b06-bd80-488f-9fdc-2be704e70816",
   "metadata": {},
   "source": [
    "- A : 공공임대(50년), 공공임대(10년), 공공임대(분납), 장기전세, 공공임대(5년) - \n",
    "- D : 임대상가, 공공분양 - \n",
    "- A, C, E, F, I : 영구임대\n",
    "- J, K, L, M, N, O : 행복주택\n",
    "- A, B, E, G, H : 국민임대"
   ]
  },
  {
   "cell_type": "code",
   "execution_count": 47,
   "id": "99256a0a-cb0a-4be5-91d0-549d5a312efd",
   "metadata": {},
   "outputs": [],
   "source": [
    "df['자격유형_cat'] = np.where(df.공급유형 =='행복주택', 'JKLMNO',\n",
    "        np.where(df.공급유형 == '국민임대', 'ABEGH',\n",
    "                np.where(df.공급유형 =='영구임대', 'ACEFI',\n",
    "                        np.where((df.공급유형 =='임대상가') | (df.공급유형 =='공공분양'), 'D', 'A'))))"
   ]
  },
  {
   "cell_type": "code",
   "execution_count": 48,
   "id": "a1eac826-e8f6-4cf2-81ec-12f0f357bd99",
   "metadata": {},
   "outputs": [
    {
     "data": {
      "text/plain": [
       "array(['ABEGH', 'A', 'ACEFI', 'D', 'JKLMNO'], dtype=object)"
      ]
     },
     "execution_count": 48,
     "metadata": {},
     "output_type": "execute_result"
    }
   ],
   "source": [
    "df['자격유형_cat'].unique()"
   ]
  },
  {
   "cell_type": "code",
   "execution_count": 49,
   "id": "201bb71a-1337-40b4-afa2-e85892fc3979",
   "metadata": {},
   "outputs": [
    {
     "data": {
      "text/plain": [
       "(array([1727.,    0.,  219.,    0.,    0.,  152.,    0.,  569.,    0.,\n",
       "         202.]),\n",
       " array([0. , 0.4, 0.8, 1.2, 1.6, 2. , 2.4, 2.8, 3.2, 3.6, 4. ]),\n",
       " <BarContainer object of 10 artists>)"
      ]
     },
     "execution_count": 49,
     "metadata": {},
     "output_type": "execute_result"
    },
    {
     "data": {
      "image/png": "[encoded data removed]",
      "text/plain": [
       "<Figure size 432x288 with 1 Axes>"
      ]
     },
     "metadata": {
      "image/png": {
       "height": 251,
       "width": 390
      }
     },
     "output_type": "display_data"
    }
   ],
   "source": [
    "plt.hist(df['자격유형_cat'])"
   ]
  },
  {
   "cell_type": "markdown",
   "id": "80c31a71-c243-4855-b096-55810f5a7c21",
   "metadata": {},
   "source": [
    "### 전용면적 그룹\n",
    "- 상한선 100, 하한선 15"
   ]
  },
  {
   "cell_type": "code",
   "execution_count": 50,
   "id": "680f4c3c-2330-4032-aff5-c7ce0c63c45a",
   "metadata": {},
   "outputs": [
    {
     "data": {
      "text/plain": [
       "count    2869.000000\n",
       "mean       44.421394\n",
       "std        32.072217\n",
       "min        12.620000\n",
       "25%        32.100000\n",
       "50%        39.840000\n",
       "75%        51.050000\n",
       "max       583.400000\n",
       "Name: 전용면적, dtype: float64"
      ]
     },
     "execution_count": 50,
     "metadata": {},
     "output_type": "execute_result"
    }
   ],
   "source": [
    "df.전용면적.describe()"
   ]
  },
  {
   "cell_type": "code",
   "execution_count": 51,
   "id": "59a98804-15d9-4a4f-a72d-2f42f75ee3d1",
   "metadata": {},
   "outputs": [],
   "source": [
    "df['전용면적'] = df.전용면적//5 *5"
   ]
  },
  {
   "cell_type": "code",
   "execution_count": 52,
   "id": "b85de580-a71d-46f2-a082-949afef7ad18",
   "metadata": {},
   "outputs": [],
   "source": [
    "df.전용면적 = np.where(df.전용면적 > 80, 80,\n",
    "        np.where(df.전용면적 < 15, 15, df.전용면적))\n",
    "df.전용면적 = df.전용면적.astype('int64')"
   ]
  },
  {
   "cell_type": "code",
   "execution_count": 53,
   "id": "6d049daa-ea32-4500-8f3c-32ce878e4c8d",
   "metadata": {},
   "outputs": [
    {
     "data": {
      "text/plain": [
       "count    2869.000000\n",
       "mean       39.855350\n",
       "std        13.474432\n",
       "min        15.000000\n",
       "25%        30.000000\n",
       "50%        35.000000\n",
       "75%        50.000000\n",
       "max        80.000000\n",
       "Name: 전용면적, dtype: float64"
      ]
     },
     "execution_count": 53,
     "metadata": {},
     "output_type": "execute_result"
    }
   ],
   "source": [
    "df.전용면적.describe()"
   ]
  },
  {
   "cell_type": "code",
   "execution_count": 54,
   "id": "be923d7e-5010-48f0-80e5-e554ebaf5d69",
   "metadata": {},
   "outputs": [
    {
     "data": {
      "text/plain": [
       "(array([231., 322., 261., 697., 631., 376., 203.,   8.,  44.,  96.]),\n",
       " array([15. , 21.5, 28. , 34.5, 41. , 47.5, 54. , 60.5, 67. , 73.5, 80. ]),\n",
       " <BarContainer object of 10 artists>)"
      ]
     },
     "execution_count": 54,
     "metadata": {},
     "output_type": "execute_result"
    },
    {
     "data": {
      "image/png": "[encoded data removed]",
      "text/plain": [
       "<Figure size 432x288 with 1 Axes>"
      ]
     },
     "metadata": {
      "image/png": {
       "height": 251,
       "width": 376
      }
     },
     "output_type": "display_data"
    }
   ],
   "source": [
    "plt.hist(df.전용면적)"
   ]
  },
  {
   "cell_type": "markdown",
   "id": "882f323f-5c0b-4f8b-a761-8a6841e72d81",
   "metadata": {},
   "source": [
    "# 5. 데이터프레임 만들기 시작"
   ]
  },
  {
   "cell_type": "code",
   "execution_count": 55,
   "id": "3a825c7b-7231-498b-aa4b-6801f18a6f45",
   "metadata": {},
   "outputs": [],
   "source": [
    "df1 = pd.DataFrame(df.groupby('단지코드').sum().reset_index()['단지코드'], columns=['단지코드']) #단지코드 데이터프레임"
   ]
  },
  {
   "cell_type": "markdown",
   "id": "f72a9cd1-93b1-4eb7-b30e-2cc4a535765c",
   "metadata": {},
   "source": [
    "## 1) 임대건물구분"
   ]
  },
  {
   "cell_type": "markdown",
   "id": "f81cb8a1-bbe0-4b77-99e5-6f98827e4b7d",
   "metadata": {},
   "source": [
    "### 아파트/상가 세대수"
   ]
  },
  {
   "cell_type": "code",
   "execution_count": 56,
   "id": "f39c782c-bc20-4ea5-ade4-04876a8f4aa1",
   "metadata": {},
   "outputs": [],
   "source": [
    "df1 = pd.DataFrame(df.groupby('단지코드').sum()['전용면적별세대수'].reset_index()['단지코드'], columns = ['단지코드'])\n",
    "temp = df.groupby(['단지코드', '임대건물구분']).sum()['전용면적별세대수'].reset_index()\n",
    "\n",
    "df1 = df1.merge(temp.loc[temp['임대건물구분'] == '아파트'].reset_index(drop=True)[['단지코드','전용면적별세대수']], on = '단지코드', how = 'left')\n",
    "\n",
    "df1.columns = ['단지코드','아파트세대수']\n",
    "\n",
    "df1 = df1.merge(temp.loc[temp['임대건물구분'] == '상가'].reset_index(drop=True)[['단지코드','전용면적별세대수']], on = '단지코드', how = 'left' )\n",
    "\n",
    "df1.columns = ['단지코드','아파트세대수', '상가세대수']\n",
    "\n",
    "df1 = df1.fillna(0)"
   ]
  },
  {
   "cell_type": "markdown",
   "id": "cea5c1a4-70e0-45f5-a618-a96d38ab1246",
   "metadata": {},
   "source": [
    "### 총세대수 & 아파트/상가 비율"
   ]
  },
  {
   "cell_type": "code",
   "execution_count": 57,
   "id": "7ea16965-f911-4566-939e-83e1a0e73664",
   "metadata": {},
   "outputs": [],
   "source": [
    "# temp = df[['단지코드', '총세대수']].drop_duplicates() #총세대수\n",
    "# df1 = df1.merge(temp, on='단지코드', how='left')"
   ]
  },
  {
   "cell_type": "code",
   "execution_count": 58,
   "id": "f752cd93-a191-49de-9e78-b7d1e36f3c12",
   "metadata": {},
   "outputs": [],
   "source": [
    "df1['총세대수'] = df1['아파트세대수'] + df1['상가세대수']"
   ]
  },
  {
   "cell_type": "code",
   "execution_count": 59,
   "id": "fabea427-d37c-40d2-8b27-3d610eb8f810",
   "metadata": {},
   "outputs": [],
   "source": [
    "df1['아파트비율'] = df1['아파트세대수']/df1['총세대수']\n",
    "df1['상가비율'] = df1['상가세대수']/df1['총세대수']"
   ]
  },
  {
   "cell_type": "code",
   "execution_count": 60,
   "id": "e11653aa-2d07-4b57-a9f2-4c84ffadb3b0",
   "metadata": {},
   "outputs": [],
   "source": [
    "df1 = df1.drop(['아파트세대수', '상가세대수'], axis=1)"
   ]
  },
  {
   "cell_type": "markdown",
   "id": "a9168a6c-93d5-4926-9e64-0a1314a0907e",
   "metadata": {},
   "source": [
    "## 2) 기본정보 ★"
   ]
  },
  {
   "cell_type": "code",
   "execution_count": 61,
   "id": "3bfc2483-b2d5-4133-b7ea-d1c87460ee15",
   "metadata": {},
   "outputs": [],
   "source": [
    "#제외 : 총세대수, 임대건물구분(df1), 전용면적별세대수, 전용면적, 공급유형, 자격유형\n",
    "#포함 : 단지코드, 지역, 공가수, 도보 10분거리 내 지하철역 수(환승노선 수 반영),  도보 10분거리 내 버스정류장 수, 단지내주차면수, 등록차량수"
   ]
  },
  {
   "cell_type": "code",
   "execution_count": 62,
   "id": "ea9c5cbd-4178-4e75-9556-78001f416f0d",
   "metadata": {},
   "outputs": [],
   "source": [
    "temp = df[['단지코드', '지역', '공가수', '지하철역',\n",
    "                     '버스정류장', '단지내주차면수', '등록차량수']].drop_duplicates()\n",
    "df1=df1.merge(temp, on='단지코드', how='left')"
   ]
  },
  {
   "cell_type": "code",
   "execution_count": 63,
   "id": "992fd1a6-6f21-4056-b1b5-e8507fb29295",
   "metadata": {
    "tags": []
   },
   "outputs": [],
   "source": [
    "#비율만\n",
    "df1.columns = ['단지코드', '총세대수', '아파트비율', '상가비율', '지역', '공가수',\n",
    "       '지하철역', '버스정류장', '단지내주차면수',\n",
    "       '등록차량수']"
   ]
  },
  {
   "cell_type": "markdown",
   "id": "477691bc-48aa-4d04-8bca-f11c5d235111",
   "metadata": {},
   "source": [
    "## 3) 전용면적"
   ]
  },
  {
   "cell_type": "markdown",
   "id": "d46cb038-31f7-491a-963b-a569e0eaa45f",
   "metadata": {},
   "source": [
    "### 전용면적 세대수\n",
    "- 10번 후에 삭제"
   ]
  },
  {
   "cell_type": "code",
   "execution_count": 64,
   "id": "e9071248-7c49-43b4-8906-ac6c22eb7d80",
   "metadata": {},
   "outputs": [],
   "source": [
    "for i in df.sort_values('전용면적').전용면적.unique():\n",
    "    temp = df[df.전용면적 ==i].groupby('단지코드').sum().reset_index()[['단지코드', '전용면적별세대수']]\n",
    "    temp.columns = ['단지코드', '전용면적_{}_세대수'.format(i)]\n",
    "    df1 = df1.merge(temp,on='단지코드', how='left')\n",
    "    \n",
    "df1 = df1.fillna(0)"
   ]
  },
  {
   "cell_type": "markdown",
   "id": "7f02956d-f15b-4349-90ba-05971a3507e3",
   "metadata": {},
   "source": [
    "### 전용면적 비율 ★"
   ]
  },
  {
   "cell_type": "code",
   "execution_count": 65,
   "id": "2f2c9018-8da0-431a-af7e-a81298c19330",
   "metadata": {},
   "outputs": [],
   "source": [
    "ls = ['전용면적_15_세대수', '전용면적_20_세대수', '전용면적_25_세대수',\n",
    "       '전용면적_30_세대수', '전용면적_35_세대수', '전용면적_40_세대수', '전용면적_45_세대수',\n",
    "       '전용면적_50_세대수', '전용면적_55_세대수', '전용면적_60_세대수', '전용면적_65_세대수',\n",
    "       '전용면적_70_세대수', '전용면적_75_세대수', '전용면적_80_세대수']"
   ]
  },
  {
   "cell_type": "code",
   "execution_count": 66,
   "id": "0f62a882-ba89-4fe4-ba85-6026bb90ac8e",
   "metadata": {},
   "outputs": [],
   "source": [
    "ls1 = df.sort_values('전용면적').전용면적.unique()\n",
    "for i in ls1:\n",
    "    df1['전용면적_{}_비율'.format(i)] = df1['전용면적_{}_세대수'.format(i)] / df1['총세대수']"
   ]
  },
  {
   "cell_type": "markdown",
   "id": "9503be2f-4497-4b80-aaaf-cdf4452e6c3d",
   "metadata": {},
   "source": [
    "## 4) 공급유형"
   ]
  },
  {
   "cell_type": "markdown",
   "id": "adeb01b5-85bb-4a6b-8aab-56a67a59df2d",
   "metadata": {},
   "source": [
    "### 공급유형 cat 비율"
   ]
  },
  {
   "cell_type": "code",
   "execution_count": 67,
   "id": "e71c00e8-70e4-405a-96b6-ddad0cfb2407",
   "metadata": {},
   "outputs": [],
   "source": [
    "df2 = pd.DataFrame(df.groupby('단지코드').sum().reset_index()['단지코드'], columns=['단지코드']) #단지코드 데이터프레임\n",
    "\n",
    "temp = df.groupby(['단지코드', 'period']).sum().reset_index()\n",
    "\n",
    "temp1 = temp.loc[temp['period'] == 'exL'][['단지코드', '전용면적별세대수']]\n",
    "temp1.columns = ['단지코드', '초장기세대수']\n",
    "df2 = df2.merge(temp1, on = '단지코드', how = 'left')\n",
    "\n",
    "temp2 = temp.loc[temp['period'] == 'L'][['단지코드', '전용면적별세대수']]\n",
    "temp2.columns = ['단지코드', '장기세대수']\n",
    "df2 = df2.merge(temp2, on = '단지코드', how = 'left')\n",
    "\n",
    "temp3 = temp.loc[temp['period'] == 'S'][['단지코드', '전용면적별세대수']]\n",
    "temp3.columns = ['단지코드', '단기세대수']\n",
    "df2 = df2.merge(temp3, on = '단지코드', how = 'left')\n",
    "\n",
    "df2 = df2.fillna(0)"
   ]
  },
  {
   "cell_type": "code",
   "execution_count": 68,
   "id": "25665f09-cb45-4975-9eeb-339895e60f66",
   "metadata": {},
   "outputs": [],
   "source": [
    "df2['총세대수'] = df2['초장기세대수'] + df2['장기세대수'] + df2['단기세대수']\n",
    "df2['초장기비율'] = df2['초장기세대수'] / df2['총세대수']\n",
    "df2['장기비율'] = df2['장기세대수'] / df2['총세대수']\n",
    "df2['단기비율'] = df2['단기세대수'] / df2['총세대수']\n",
    "df2 = df2.drop(['초장기세대수', '장기세대수', '단기세대수', '총세대수'], axis=1)\n",
    "df1 = df1.merge(df2, on='단지코드', how='left')"
   ]
  },
  {
   "cell_type": "markdown",
   "id": "15f1aaac-f69f-43d7-8843-dac006a23a7f",
   "metadata": {},
   "source": [
    "## 5) 자격유형"
   ]
  },
  {
   "cell_type": "markdown",
   "id": "a9668625-ebb6-4e08-a7db-8a484c26b60e",
   "metadata": {},
   "source": [
    "### 자격유형cat 비율"
   ]
  },
  {
   "cell_type": "code",
   "execution_count": 69,
   "id": "21554c2c-ba62-4ef1-8893-c63a52b3eef9",
   "metadata": {},
   "outputs": [
    {
     "data": {
      "text/plain": [
       "array(['ABEGH', 'A', 'ACEFI', 'D', 'JKLMNO'], dtype=object)"
      ]
     },
     "execution_count": 69,
     "metadata": {},
     "output_type": "execute_result"
    }
   ],
   "source": [
    "df['자격유형_cat'].unique()"
   ]
  },
  {
   "cell_type": "code",
   "execution_count": 70,
   "id": "54582d67-d757-4043-adb1-cd4e862cccbe",
   "metadata": {},
   "outputs": [],
   "source": [
    "df2 = pd.DataFrame(df.groupby('단지코드').sum().reset_index()['단지코드'], columns=['단지코드']) #단지코드 데이터프레임\n",
    "\n",
    "temp = df.groupby(['단지코드', '자격유형_cat']).sum().reset_index()\n",
    "\n",
    "temp1 = temp.loc[temp['자격유형_cat'] == 'ABEGH'][['단지코드', '전용면적별세대수']]\n",
    "temp1.columns = ['단지코드', 'ABEGH세대수']\n",
    "df2 = df2.merge(temp1, on = '단지코드', how = 'left')\n",
    "\n",
    "temp2 = temp.loc[temp['자격유형_cat'] == 'A'][['단지코드', '전용면적별세대수']]\n",
    "temp2.columns = ['단지코드', 'A세대수']\n",
    "df2 = df2.merge(temp2, on = '단지코드', how = 'left')\n",
    "\n",
    "temp3 = temp.loc[temp['자격유형_cat'] == 'ACEFI'][['단지코드', '전용면적별세대수']]\n",
    "temp3.columns = ['단지코드', 'ACEFI세대수']\n",
    "df2 = df2.merge(temp3, on = '단지코드', how = 'left')\n",
    "\n",
    "temp4 = temp.loc[temp['자격유형_cat'] == 'D'][['단지코드', '전용면적별세대수']]\n",
    "temp4.columns = ['단지코드', 'D세대수']\n",
    "df2 = df2.merge(temp4, on = '단지코드', how = 'left')\n",
    "\n",
    "temp5 = temp.loc[temp['자격유형_cat'] == 'JKLMNO'][['단지코드', '전용면적별세대수']]\n",
    "temp5.columns = ['단지코드', 'JKLMNO세대수']\n",
    "df2 = df2.merge(temp5, on = '단지코드', how = 'left')\n",
    "\n",
    "df2 = df2.fillna(0)\n",
    "\n",
    "df2['총세대수'] = df2.iloc[:, 1] + df2.iloc[:, 2] + df2.iloc[:, 3] + df2.iloc[:, 4] + df2.iloc[:, 5]\n",
    "df2['ABEGH비율'] = df2['ABEGH세대수'] / df2['총세대수']\n",
    "df2['A비율'] = df2['A세대수'] / df2['총세대수']\n",
    "df2['ACEFI비율'] = df2['ACEFI세대수'] / df2['총세대수']\n",
    "df2['D비율'] = df2['D세대수'] / df2['총세대수']\n",
    "df2['JKLMNO비율'] = df2['JKLMNO세대수'] / df2['총세대수']"
   ]
  },
  {
   "cell_type": "code",
   "execution_count": 71,
   "id": "cbdcc591-2c61-4e8f-b4ae-85f50447171a",
   "metadata": {},
   "outputs": [],
   "source": [
    "df2 = df2.drop(['ABEGH세대수', 'A세대수', 'ACEFI세대수', 'D세대수', 'JKLMNO세대수', '총세대수'], axis=1)"
   ]
  },
  {
   "cell_type": "code",
   "execution_count": 72,
   "id": "3e6f9e67-7d35-4e54-b3e6-48a501b3c2ae",
   "metadata": {},
   "outputs": [],
   "source": [
    "df1 = df1.merge(df2, on='단지코드', how='left')"
   ]
  },
  {
   "cell_type": "markdown",
   "id": "7d015c2f-22c8-48a5-90ab-e583f75513f0",
   "metadata": {},
   "source": [
    "## 6) 나이/성별 인구수\n",
    "- 나이대별로 합치는건 결과에 그다지 영향 안 미침. 그대로 붙여도 무관"
   ]
  },
  {
   "cell_type": "code",
   "execution_count": 73,
   "id": "64e44a42-2ba0-416b-a207-5f3b13786c36",
   "metadata": {},
   "outputs": [],
   "source": [
    "ageinfo = pd.read_csv('data/age_gender_info.csv')\n",
    "df1 = df1.merge(ageinfo, on = '지역', how = 'left')"
   ]
  },
  {
   "cell_type": "code",
   "execution_count": 74,
   "id": "a37f2720-d20e-4bf2-b0f7-d5711f423403",
   "metadata": {
    "tags": []
   },
   "outputs": [],
   "source": [
    "# age = pd.DataFrame()\n",
    "# for i in range(11):\n",
    "#     age['지역'] = ageinfo['지역']\n",
    "#     age['{}0대'.format(i)] = ageinfo.iloc[:, (2*i)+1] + ageinfo.iloc[:, 2*i+2]"
   ]
  },
  {
   "cell_type": "markdown",
   "id": "bdb46319-0a14-457d-b7ea-229a68e40f17",
   "metadata": {},
   "source": [
    "## 7) 1인당 자동차등록수"
   ]
  },
  {
   "cell_type": "code",
   "execution_count": 75,
   "id": "0c8b4876-fd5b-4ca2-ada3-79227274b9bf",
   "metadata": {},
   "outputs": [],
   "source": [
    "car_2019 = pd.read_csv('data/1인당자동차_2019.csv', encoding='euc-kr', header=1)"
   ]
  },
  {
   "cell_type": "code",
   "execution_count": 76,
   "id": "4a36e0b2-0fed-40fe-a7b0-38d52b7d1011",
   "metadata": {},
   "outputs": [],
   "source": [
    "car_2019.columns = ['지역', '1인당_자동차등록대수', '자동차등록대수', '주민등록인구']\n",
    "car_2019['1인당자동차'] = car_2019.자동차등록대수 / car_2019.주민등록인구\n",
    "car_2019 = car_2019[['지역', '1인당자동차']]\n",
    "df1 = df1.merge(car_2019, on='지역', how='left')"
   ]
  },
  {
   "cell_type": "markdown",
   "id": "c269beeb-0190-4d0b-b541-5e07a664b38f",
   "metadata": {},
   "source": [
    "## 8) 주택연면적"
   ]
  },
  {
   "cell_type": "code",
   "execution_count": 77,
   "id": "29090c60-8bc4-428a-b495-5b3b5484edf6",
   "metadata": {},
   "outputs": [],
   "source": [
    "size = pd.read_csv('data/주택연면적_2019.csv', encoding='euc-kr', header=1)"
   ]
  },
  {
   "cell_type": "code",
   "execution_count": 78,
   "id": "4d6533db-6278-4790-b6b1-ae91f1390ffd",
   "metadata": {},
   "outputs": [],
   "source": [
    "size = size[['행정구역별(시군구)', '2019년']].iloc[4:, :].reset_index(drop=True)\n",
    "size.columns = ['지역', '연면적']"
   ]
  },
  {
   "cell_type": "code",
   "execution_count": 79,
   "id": "ca04d0cb-70d7-477f-a23b-480c21da1d96",
   "metadata": {},
   "outputs": [],
   "source": [
    "df1 = df1.merge(size, on='지역', how='left')"
   ]
  },
  {
   "cell_type": "markdown",
   "id": "c0449fde-d052-4af8-8e76-c319523d9a00",
   "metadata": {},
   "source": [
    "## 9) 평당가격"
   ]
  },
  {
   "cell_type": "code",
   "execution_count": 80,
   "id": "60fa09cb-590c-4119-a4c2-0b634f7f21df",
   "metadata": {
    "tags": []
   },
   "outputs": [],
   "source": [
    "price = pd.read_csv('data/평균분양가격_2019.csv', encoding='euc-kr', header=1)\n",
    "price = price[['지역별(2)', '전체.11']]\n",
    "price = price.iloc[2:, :]\n",
    "idx = price.index.difference([5]).difference([12]).difference([3])\n",
    "price = price.loc[idx, :].reset_index(drop=True)\n",
    "price.columns = ['지역', '평균분양가격']\n",
    "price = price.sort_values('지역').reset_index(drop=True)\n",
    "price['지역'] = df.sort_values('지역').지역.unique()"
   ]
  },
  {
   "cell_type": "code",
   "execution_count": 81,
   "id": "b922c27e-77c6-493a-987f-1a2a90407c49",
   "metadata": {},
   "outputs": [],
   "source": [
    "df1 = df1.merge(price, on='지역', how='left')"
   ]
  },
  {
   "cell_type": "markdown",
   "id": "5ce5e02c-efaa-4dfa-bf09-9ca3eea3a373",
   "metadata": {},
   "source": [
    "## 10) 총면적구하기 ★\n",
    "- 전용면적별 세대수 사용"
   ]
  },
  {
   "cell_type": "code",
   "execution_count": 82,
   "id": "98b7a6e3-be9c-456a-9c26-2af0d0e0a7de",
   "metadata": {},
   "outputs": [],
   "source": [
    "size_ls = df.sort_values('전용면적')['전용면적'].unique()"
   ]
  },
  {
   "cell_type": "code",
   "execution_count": 83,
   "id": "56aed120-9e0b-4377-880e-fba61b4c77e9",
   "metadata": {},
   "outputs": [
    {
     "data": {
      "text/plain": [
       "14"
      ]
     },
     "execution_count": 83,
     "metadata": {},
     "output_type": "execute_result"
    }
   ],
   "source": [
    "len(size_ls)"
   ]
  },
  {
   "cell_type": "code",
   "execution_count": 84,
   "id": "889ae684-041a-41ea-b6c0-00b8ca3b8d50",
   "metadata": {},
   "outputs": [],
   "source": [
    "all_size=0\n",
    "for i in range(14):\n",
    "    all_size += df1.iloc[:,i+10] * size_ls[i]"
   ]
  },
  {
   "cell_type": "code",
   "execution_count": 85,
   "id": "ea3de8e8-0ff5-4bcf-8d9b-b94f6eb6fd4f",
   "metadata": {},
   "outputs": [],
   "source": [
    "df1['총면적'] = all_size"
   ]
  },
  {
   "cell_type": "code",
   "execution_count": 86,
   "id": "c9880b66-ad25-45b0-b96d-4b2616c340c2",
   "metadata": {},
   "outputs": [],
   "source": [
    "df1 = df1.drop(ls, axis=1)"
   ]
  },
  {
   "cell_type": "markdown",
   "id": "6cb9cf15-f1d2-4f6a-8873-d74ed1a1ad2c",
   "metadata": {
    "tags": []
   },
   "source": [
    "## 11) 규모별 가격"
   ]
  },
  {
   "cell_type": "code",
   "execution_count": 87,
   "id": "e49915c0-3817-41d0-8f81-37498925dc34",
   "metadata": {},
   "outputs": [],
   "source": [
    "df1['규모별가격'] = df1['총면적'] * df1['평균분양가격']"
   ]
  },
  {
   "cell_type": "code",
   "execution_count": 88,
   "id": "5cb52db5-7538-4beb-8f75-cc20c78e207c",
   "metadata": {},
   "outputs": [
    {
     "data": {
      "text/plain": [
       "(411, 59)"
      ]
     },
     "execution_count": 88,
     "metadata": {},
     "output_type": "execute_result"
    }
   ],
   "source": [
    "df1.shape"
   ]
  },
  {
   "cell_type": "markdown",
   "id": "9b5d8f50-5e8a-4228-8ab5-476b2b6ae217",
   "metadata": {},
   "source": [
    "## 12)자전거도로"
   ]
  },
  {
   "cell_type": "code",
   "execution_count": 159,
   "id": "a194eb15-0b8c-42f8-9088-8a107bb45cf0",
   "metadata": {},
   "outputs": [],
   "source": [
    "bicycle = pd.read_csv('data/자전거도로_2019.csv', encoding='euc-kr', header=1)\n",
    "bicycle = bicycle.iloc[:, :2]\n",
    "bicycle.columns = ['지역', '자전거도로']\n",
    "bicycle['전국'] =23849.87\n",
    "bicycle['자전거도로비율'] = bicycle.자전거도로 / bicycle.전국\n",
    "bicycle = bicycle.iloc[1:, :]\n",
    "bicycle = bicycle.drop(['자전거도로', '전국'], axis=1)"
   ]
  },
  {
   "cell_type": "code",
   "execution_count": 160,
   "id": "1395fd8d-8c1a-4956-bbd6-5df7bf63e9ae",
   "metadata": {},
   "outputs": [],
   "source": [
    "df1 = df1.merge(bicycle, on='지역', how='left')"
   ]
  },
  {
   "cell_type": "markdown",
   "id": "7b0c4433-73ab-4bb4-9cc5-8fba0f60d706",
   "metadata": {},
   "source": [
    "## 13) 운전면허소지자현황"
   ]
  },
  {
   "cell_type": "code",
   "execution_count": 161,
   "id": "1a1e1e56-8da3-4838-8af0-f9b2a278686c",
   "metadata": {
    "tags": []
   },
   "outputs": [],
   "source": [
    "driver = pd.read_csv('data/운전면허소지자현황.csv', encoding='euc-kr')\n",
    "driver = driver.iloc[3:, :2].reset_index(drop=True)\n",
    "driver['2019'] = driver['2019'].astype('int64')\n",
    "경기 = driver.iloc[7, :] + driver.iloc[8, :]\n",
    "driver.iloc[7, :] = 경기\n",
    "driver.iloc[8, :] = 경기\n",
    "driver = driver.drop_duplicates()\n",
    "driver.columns = ['지역', '운전면허소지자현황']\n",
    "idx = driver.index.difference([3])\n",
    "driver = driver.loc[idx, :].reset_index(drop=True)\n",
    "driver = driver.sort_values('지역').reset_index(drop=True)\n",
    "driver.지역 = df.sort_values('지역').지역.unique()\n",
    "driver['운전면허소지자비율'] = driver['운전면허소지자현황'].apply(lambda x : x/driver.운전면허소지자현황.sum())\n",
    "driver = driver.drop('운전면허소지자현황', axis=1)"
   ]
  },
  {
   "cell_type": "code",
   "execution_count": 162,
   "id": "eeecf468-91f4-41ae-8e49-0c2b9ec27acd",
   "metadata": {
    "tags": []
   },
   "outputs": [],
   "source": [
    "df1 = df1.merge(driver, on='지역', how='left')"
   ]
  },
  {
   "cell_type": "markdown",
   "id": "e912419d-b116-4ecf-8381-68b5ec870e90",
   "metadata": {},
   "source": [
    "## 14) 지역인코딩"
   ]
  },
  {
   "cell_type": "code",
   "execution_count": 89,
   "id": "2a41f740-cc71-4f8f-a88d-581c41d94a78",
   "metadata": {},
   "outputs": [],
   "source": [
    "df1 = pd.concat([df1.drop('지역', axis = 1),pd.get_dummies(df1.지역)], axis = 1)"
   ]
  },
  {
   "cell_type": "markdown",
   "id": "0e062d6e-e8a0-43fd-8341-83134487bbb5",
   "metadata": {},
   "source": [
    "## 15) train data 저장"
   ]
  },
  {
   "cell_type": "code",
   "execution_count": 91,
   "id": "cecea175-9a85-4376-9463-63ce3e3c77f9",
   "metadata": {},
   "outputs": [],
   "source": [
    "df1.to_csv('data/train_ratio_0728_dash.csv', index=False) #비율 + 여부"
   ]
  },
  {
   "cell_type": "code",
   "execution_count": 90,
   "id": "ff76e442-4b6c-4c62-ba6e-83c581759377",
   "metadata": {
    "tags": []
   },
   "outputs": [
    {
     "ename": "FileNotFoundError",
     "evalue": "[Errno 2] No such file or directory: 'data/train_ratio_dash.csv'",
     "output_type": "error",
     "traceback": [
      "\u001b[1;31m---------------------------------------------------------------------------\u001b[0m",
      "\u001b[1;31mFileNotFoundError\u001b[0m                         Traceback (most recent call last)",
      "\u001b[1;32m<ipython-input-90-9ee278c4d851>\u001b[0m in \u001b[0;36m<module>\u001b[1;34m\u001b[0m\n\u001b[1;32m----> 1\u001b[1;33m \u001b[0mdf1\u001b[0m \u001b[1;33m=\u001b[0m \u001b[0mpd\u001b[0m\u001b[1;33m.\u001b[0m\u001b[0mread_csv\u001b[0m\u001b[1;33m(\u001b[0m\u001b[1;34m'data/train_ratio_dash.csv'\u001b[0m\u001b[1;33m)\u001b[0m \u001b[1;31m#비율만 넣은 것\u001b[0m\u001b[1;33m\u001b[0m\u001b[1;33m\u001b[0m\u001b[0m\n\u001b[0m",
      "\u001b[1;32m~\\Anaconda3\\lib\\site-packages\\pandas\\util\\_decorators.py\u001b[0m in \u001b[0;36mwrapper\u001b[1;34m(*args, **kwargs)\u001b[0m\n\u001b[0;32m    309\u001b[0m                     \u001b[0mstacklevel\u001b[0m\u001b[1;33m=\u001b[0m\u001b[0mstacklevel\u001b[0m\u001b[1;33m,\u001b[0m\u001b[1;33m\u001b[0m\u001b[1;33m\u001b[0m\u001b[0m\n\u001b[0;32m    310\u001b[0m                 )\n\u001b[1;32m--> 311\u001b[1;33m             \u001b[1;32mreturn\u001b[0m \u001b[0mfunc\u001b[0m\u001b[1;33m(\u001b[0m\u001b[1;33m*\u001b[0m\u001b[0margs\u001b[0m\u001b[1;33m,\u001b[0m \u001b[1;33m**\u001b[0m\u001b[0mkwargs\u001b[0m\u001b[1;33m)\u001b[0m\u001b[1;33m\u001b[0m\u001b[1;33m\u001b[0m\u001b[0m\n\u001b[0m\u001b[0;32m    312\u001b[0m \u001b[1;33m\u001b[0m\u001b[0m\n\u001b[0;32m    313\u001b[0m         \u001b[1;32mreturn\u001b[0m \u001b[0mwrapper\u001b[0m\u001b[1;33m\u001b[0m\u001b[1;33m\u001b[0m\u001b[0m\n",
      "\u001b[1;32m~\\Anaconda3\\lib\\site-packages\\pandas\\io\\parsers\\readers.py\u001b[0m in \u001b[0;36mread_csv\u001b[1;34m(filepath_or_buffer, sep, delimiter, header, names, index_col, usecols, squeeze, prefix, mangle_dupe_cols, dtype, engine, converters, true_values, false_values, skipinitialspace, skiprows, skipfooter, nrows, na_values, keep_default_na, na_filter, verbose, skip_blank_lines, parse_dates, infer_datetime_format, keep_date_col, date_parser, dayfirst, cache_dates, iterator, chunksize, compression, thousands, decimal, lineterminator, quotechar, quoting, doublequote, escapechar, comment, encoding, encoding_errors, dialect, error_bad_lines, warn_bad_lines, on_bad_lines, delim_whitespace, low_memory, memory_map, float_precision, storage_options)\u001b[0m\n\u001b[0;32m    584\u001b[0m     \u001b[0mkwds\u001b[0m\u001b[1;33m.\u001b[0m\u001b[0mupdate\u001b[0m\u001b[1;33m(\u001b[0m\u001b[0mkwds_defaults\u001b[0m\u001b[1;33m)\u001b[0m\u001b[1;33m\u001b[0m\u001b[1;33m\u001b[0m\u001b[0m\n\u001b[0;32m    585\u001b[0m \u001b[1;33m\u001b[0m\u001b[0m\n\u001b[1;32m--> 586\u001b[1;33m     \u001b[1;32mreturn\u001b[0m \u001b[0m_read\u001b[0m\u001b[1;33m(\u001b[0m\u001b[0mfilepath_or_buffer\u001b[0m\u001b[1;33m,\u001b[0m \u001b[0mkwds\u001b[0m\u001b[1;33m)\u001b[0m\u001b[1;33m\u001b[0m\u001b[1;33m\u001b[0m\u001b[0m\n\u001b[0m\u001b[0;32m    587\u001b[0m \u001b[1;33m\u001b[0m\u001b[0m\n\u001b[0;32m    588\u001b[0m \u001b[1;33m\u001b[0m\u001b[0m\n",
      "\u001b[1;32m~\\Anaconda3\\lib\\site-packages\\pandas\\io\\parsers\\readers.py\u001b[0m in \u001b[0;36m_read\u001b[1;34m(filepath_or_buffer, kwds)\u001b[0m\n\u001b[0;32m    480\u001b[0m \u001b[1;33m\u001b[0m\u001b[0m\n\u001b[0;32m    481\u001b[0m     \u001b[1;31m# Create the parser.\u001b[0m\u001b[1;33m\u001b[0m\u001b[1;33m\u001b[0m\u001b[1;33m\u001b[0m\u001b[0m\n\u001b[1;32m--> 482\u001b[1;33m     \u001b[0mparser\u001b[0m \u001b[1;33m=\u001b[0m \u001b[0mTextFileReader\u001b[0m\u001b[1;33m(\u001b[0m\u001b[0mfilepath_or_buffer\u001b[0m\u001b[1;33m,\u001b[0m \u001b[1;33m**\u001b[0m\u001b[0mkwds\u001b[0m\u001b[1;33m)\u001b[0m\u001b[1;33m\u001b[0m\u001b[1;33m\u001b[0m\u001b[0m\n\u001b[0m\u001b[0;32m    483\u001b[0m \u001b[1;33m\u001b[0m\u001b[0m\n\u001b[0;32m    484\u001b[0m     \u001b[1;32mif\u001b[0m \u001b[0mchunksize\u001b[0m \u001b[1;32mor\u001b[0m \u001b[0miterator\u001b[0m\u001b[1;33m:\u001b[0m\u001b[1;33m\u001b[0m\u001b[1;33m\u001b[0m\u001b[0m\n",
      "\u001b[1;32m~\\Anaconda3\\lib\\site-packages\\pandas\\io\\parsers\\readers.py\u001b[0m in \u001b[0;36m__init__\u001b[1;34m(self, f, engine, **kwds)\u001b[0m\n\u001b[0;32m    809\u001b[0m             \u001b[0mself\u001b[0m\u001b[1;33m.\u001b[0m\u001b[0moptions\u001b[0m\u001b[1;33m[\u001b[0m\u001b[1;34m\"has_index_names\"\u001b[0m\u001b[1;33m]\u001b[0m \u001b[1;33m=\u001b[0m \u001b[0mkwds\u001b[0m\u001b[1;33m[\u001b[0m\u001b[1;34m\"has_index_names\"\u001b[0m\u001b[1;33m]\u001b[0m\u001b[1;33m\u001b[0m\u001b[1;33m\u001b[0m\u001b[0m\n\u001b[0;32m    810\u001b[0m \u001b[1;33m\u001b[0m\u001b[0m\n\u001b[1;32m--> 811\u001b[1;33m         \u001b[0mself\u001b[0m\u001b[1;33m.\u001b[0m\u001b[0m_engine\u001b[0m \u001b[1;33m=\u001b[0m \u001b[0mself\u001b[0m\u001b[1;33m.\u001b[0m\u001b[0m_make_engine\u001b[0m\u001b[1;33m(\u001b[0m\u001b[0mself\u001b[0m\u001b[1;33m.\u001b[0m\u001b[0mengine\u001b[0m\u001b[1;33m)\u001b[0m\u001b[1;33m\u001b[0m\u001b[1;33m\u001b[0m\u001b[0m\n\u001b[0m\u001b[0;32m    812\u001b[0m \u001b[1;33m\u001b[0m\u001b[0m\n\u001b[0;32m    813\u001b[0m     \u001b[1;32mdef\u001b[0m \u001b[0mclose\u001b[0m\u001b[1;33m(\u001b[0m\u001b[0mself\u001b[0m\u001b[1;33m)\u001b[0m\u001b[1;33m:\u001b[0m\u001b[1;33m\u001b[0m\u001b[1;33m\u001b[0m\u001b[0m\n",
      "\u001b[1;32m~\\Anaconda3\\lib\\site-packages\\pandas\\io\\parsers\\readers.py\u001b[0m in \u001b[0;36m_make_engine\u001b[1;34m(self, engine)\u001b[0m\n\u001b[0;32m   1038\u001b[0m             )\n\u001b[0;32m   1039\u001b[0m         \u001b[1;31m# error: Too many arguments for \"ParserBase\"\u001b[0m\u001b[1;33m\u001b[0m\u001b[1;33m\u001b[0m\u001b[1;33m\u001b[0m\u001b[0m\n\u001b[1;32m-> 1040\u001b[1;33m         \u001b[1;32mreturn\u001b[0m \u001b[0mmapping\u001b[0m\u001b[1;33m[\u001b[0m\u001b[0mengine\u001b[0m\u001b[1;33m]\u001b[0m\u001b[1;33m(\u001b[0m\u001b[0mself\u001b[0m\u001b[1;33m.\u001b[0m\u001b[0mf\u001b[0m\u001b[1;33m,\u001b[0m \u001b[1;33m**\u001b[0m\u001b[0mself\u001b[0m\u001b[1;33m.\u001b[0m\u001b[0moptions\u001b[0m\u001b[1;33m)\u001b[0m  \u001b[1;31m# type: ignore[call-arg]\u001b[0m\u001b[1;33m\u001b[0m\u001b[1;33m\u001b[0m\u001b[0m\n\u001b[0m\u001b[0;32m   1041\u001b[0m \u001b[1;33m\u001b[0m\u001b[0m\n\u001b[0;32m   1042\u001b[0m     \u001b[1;32mdef\u001b[0m \u001b[0m_failover_to_python\u001b[0m\u001b[1;33m(\u001b[0m\u001b[0mself\u001b[0m\u001b[1;33m)\u001b[0m\u001b[1;33m:\u001b[0m\u001b[1;33m\u001b[0m\u001b[1;33m\u001b[0m\u001b[0m\n",
      "\u001b[1;32m~\\Anaconda3\\lib\\site-packages\\pandas\\io\\parsers\\c_parser_wrapper.py\u001b[0m in \u001b[0;36m__init__\u001b[1;34m(self, src, **kwds)\u001b[0m\n\u001b[0;32m     49\u001b[0m \u001b[1;33m\u001b[0m\u001b[0m\n\u001b[0;32m     50\u001b[0m         \u001b[1;31m# open handles\u001b[0m\u001b[1;33m\u001b[0m\u001b[1;33m\u001b[0m\u001b[1;33m\u001b[0m\u001b[0m\n\u001b[1;32m---> 51\u001b[1;33m         \u001b[0mself\u001b[0m\u001b[1;33m.\u001b[0m\u001b[0m_open_handles\u001b[0m\u001b[1;33m(\u001b[0m\u001b[0msrc\u001b[0m\u001b[1;33m,\u001b[0m \u001b[0mkwds\u001b[0m\u001b[1;33m)\u001b[0m\u001b[1;33m\u001b[0m\u001b[1;33m\u001b[0m\u001b[0m\n\u001b[0m\u001b[0;32m     52\u001b[0m         \u001b[1;32massert\u001b[0m \u001b[0mself\u001b[0m\u001b[1;33m.\u001b[0m\u001b[0mhandles\u001b[0m \u001b[1;32mis\u001b[0m \u001b[1;32mnot\u001b[0m \u001b[1;32mNone\u001b[0m\u001b[1;33m\u001b[0m\u001b[1;33m\u001b[0m\u001b[0m\n\u001b[0;32m     53\u001b[0m \u001b[1;33m\u001b[0m\u001b[0m\n",
      "\u001b[1;32m~\\Anaconda3\\lib\\site-packages\\pandas\\io\\parsers\\base_parser.py\u001b[0m in \u001b[0;36m_open_handles\u001b[1;34m(self, src, kwds)\u001b[0m\n\u001b[0;32m    227\u001b[0m             \u001b[0mmemory_map\u001b[0m\u001b[1;33m=\u001b[0m\u001b[0mkwds\u001b[0m\u001b[1;33m.\u001b[0m\u001b[0mget\u001b[0m\u001b[1;33m(\u001b[0m\u001b[1;34m\"memory_map\"\u001b[0m\u001b[1;33m,\u001b[0m \u001b[1;32mFalse\u001b[0m\u001b[1;33m)\u001b[0m\u001b[1;33m,\u001b[0m\u001b[1;33m\u001b[0m\u001b[1;33m\u001b[0m\u001b[0m\n\u001b[0;32m    228\u001b[0m             \u001b[0mstorage_options\u001b[0m\u001b[1;33m=\u001b[0m\u001b[0mkwds\u001b[0m\u001b[1;33m.\u001b[0m\u001b[0mget\u001b[0m\u001b[1;33m(\u001b[0m\u001b[1;34m\"storage_options\"\u001b[0m\u001b[1;33m,\u001b[0m \u001b[1;32mNone\u001b[0m\u001b[1;33m)\u001b[0m\u001b[1;33m,\u001b[0m\u001b[1;33m\u001b[0m\u001b[1;33m\u001b[0m\u001b[0m\n\u001b[1;32m--> 229\u001b[1;33m             \u001b[0merrors\u001b[0m\u001b[1;33m=\u001b[0m\u001b[0mkwds\u001b[0m\u001b[1;33m.\u001b[0m\u001b[0mget\u001b[0m\u001b[1;33m(\u001b[0m\u001b[1;34m\"encoding_errors\"\u001b[0m\u001b[1;33m,\u001b[0m \u001b[1;34m\"strict\"\u001b[0m\u001b[1;33m)\u001b[0m\u001b[1;33m,\u001b[0m\u001b[1;33m\u001b[0m\u001b[1;33m\u001b[0m\u001b[0m\n\u001b[0m\u001b[0;32m    230\u001b[0m         )\n\u001b[0;32m    231\u001b[0m \u001b[1;33m\u001b[0m\u001b[0m\n",
      "\u001b[1;32m~\\Anaconda3\\lib\\site-packages\\pandas\\io\\common.py\u001b[0m in \u001b[0;36mget_handle\u001b[1;34m(path_or_buf, mode, encoding, compression, memory_map, is_text, errors, storage_options)\u001b[0m\n\u001b[0;32m    704\u001b[0m                 \u001b[0mencoding\u001b[0m\u001b[1;33m=\u001b[0m\u001b[0mioargs\u001b[0m\u001b[1;33m.\u001b[0m\u001b[0mencoding\u001b[0m\u001b[1;33m,\u001b[0m\u001b[1;33m\u001b[0m\u001b[1;33m\u001b[0m\u001b[0m\n\u001b[0;32m    705\u001b[0m                 \u001b[0merrors\u001b[0m\u001b[1;33m=\u001b[0m\u001b[0merrors\u001b[0m\u001b[1;33m,\u001b[0m\u001b[1;33m\u001b[0m\u001b[1;33m\u001b[0m\u001b[0m\n\u001b[1;32m--> 706\u001b[1;33m                 \u001b[0mnewline\u001b[0m\u001b[1;33m=\u001b[0m\u001b[1;34m\"\"\u001b[0m\u001b[1;33m,\u001b[0m\u001b[1;33m\u001b[0m\u001b[1;33m\u001b[0m\u001b[0m\n\u001b[0m\u001b[0;32m    707\u001b[0m             )\n\u001b[0;32m    708\u001b[0m         \u001b[1;32melse\u001b[0m\u001b[1;33m:\u001b[0m\u001b[1;33m\u001b[0m\u001b[1;33m\u001b[0m\u001b[0m\n",
      "\u001b[1;31mFileNotFoundError\u001b[0m: [Errno 2] No such file or directory: 'data/train_ratio_dash.csv'"
     ]
    }
   ],
   "source": [
    "# df1 = pd.read_csv('data/train_ratio_0728.csv') #비율만 넣은 것"
   ]
  },
  {
   "cell_type": "markdown",
   "id": "b7e54470-f24b-4068-9870-417e9612e16d",
   "metadata": {},
   "source": [
    "## 모델링 - 모델 생성은 모델생성 및 제출생성.ipynb 참고"
   ]
  },
  {
   "cell_type": "code",
   "execution_count": 2,
   "id": "41c1c6a0-c5ba-4878-806f-f96e9828c4d9",
   "metadata": {
    "tags": []
   },
   "outputs": [
    {
     "name": "stdout",
     "output_type": "stream",
     "text": [
      "pandas version:  1.3.0\n"
     ]
    }
   ],
   "source": [
    "print(\"pandas version: \", pd.__version__)\n",
    "pd.set_option('display.max_row', 100)\n",
    "pd.set_option('display.max_columns', 85)"
   ]
  },
  {
   "cell_type": "markdown",
   "id": "87364cad-17da-4697-884d-4f3275101562",
   "metadata": {},
   "source": [
    "## X, y"
   ]
  },
  {
   "cell_type": "code",
   "execution_count": 3,
   "id": "9459fddb-b92b-48c6-ac6d-fdc0a11a6947",
   "metadata": {
    "tags": []
   },
   "outputs": [],
   "source": [
    "df1 = df1.drop('전용면적_65_비율', axis=1)\n",
    "df1 = df1.drop('서울특별시', axis=1)"
   ]
  },
  {
   "cell_type": "code",
   "execution_count": 4,
   "id": "ad228f6c-67cf-4558-a962-78b52f413e7d",
   "metadata": {},
   "outputs": [],
   "source": [
    "x = df1.columns.difference(['등록차량수'], sort=False).difference(['단지코드'], sort=False)\n",
    "# x = ['임대건물구분_아파트', '임대건물구분_상가', '공가수', '지하철역 수', '버스정류장 수', '단지내주차면수']\n",
    "X= df1[x]\n",
    "y = pd.DataFrame(df1['등록차량수'])"
   ]
  },
  {
   "cell_type": "code",
   "execution_count": 5,
   "id": "657732fb-f079-4c46-815b-c91f5493f23c",
   "metadata": {},
   "outputs": [
    {
     "data": {
      "text/plain": [
       "(411, 72)"
      ]
     },
     "execution_count": 5,
     "metadata": {},
     "output_type": "execute_result"
    }
   ],
   "source": [
    "X.shape"
   ]
  },
  {
   "cell_type": "code",
   "execution_count": 13,
   "id": "68b5c271-817f-428a-a400-e9a6398004f9",
   "metadata": {},
   "outputs": [],
   "source": [
    "from scipy import stats"
   ]
  },
  {
   "cell_type": "code",
   "execution_count": 15,
   "id": "9b23111c-adb0-4bb8-b7e5-fffbd6515708",
   "metadata": {
    "tags": []
   },
   "outputs": [],
   "source": [
    "model = sm.OLS(y, X)\n",
    "result = model.fit()"
   ]
  },
  {
   "cell_type": "code",
   "execution_count": 20,
   "id": "281c59ac-e079-4908-b96a-205ee3ce18ff",
   "metadata": {},
   "outputs": [
    {
     "data": {
      "text/plain": [
       "<class 'statsmodels.stats.contrast.ContrastResults'>\n",
       "                             Test for Constraints                             \n",
       "==============================================================================\n",
       "                 coef    std err          t      P>|t|      [0.025      0.975]\n",
       "------------------------------------------------------------------------------\n",
       "c0           -10.8070     24.031     -0.034      0.973     -58.063      36.449\n",
       "=============================================================================="
      ]
     },
     "execution_count": 20,
     "metadata": {},
     "output_type": "execute_result"
    }
   ],
   "source": [
    "result.t_test('지하철역 = -10')"
   ]
  },
  {
   "cell_type": "code",
   "execution_count": 16,
   "id": "f5440251-99ba-4a3a-bdca-9480b8924536",
   "metadata": {
    "tags": []
   },
   "outputs": [
    {
     "name": "stdout",
     "output_type": "stream",
     "text": [
      "                            OLS Regression Results                            \n",
      "==============================================================================\n",
      "Dep. Variable:                  등록차량수   R-squared:                       0.858\n",
      "Model:                            OLS   Adj. R-squared:                  0.842\n",
      "Method:                 Least Squares   F-statistic:                     52.85\n",
      "Date:                Wed, 28 Jul 2021   Prob (F-statistic):          1.58e-130\n",
      "Time:                        12:43:10   Log-Likelihood:                -2630.6\n",
      "No. Observations:                 411   AIC:                             5347.\n",
      "Df Residuals:                     368   BIC:                             5520.\n",
      "Df Model:                          42                                         \n",
      "Covariance Type:            nonrobust                                         \n",
      "==============================================================================\n",
      "                 coef    std err          t      P>|t|      [0.025      0.975]\n",
      "------------------------------------------------------------------------------\n",
      "총세대수          -0.1870      0.081     -2.301      0.022      -0.347      -0.027\n",
      "아파트비율        262.1772    998.449      0.263      0.793   -1701.203    2225.558\n",
      "상가비율         212.6348   1824.844      0.117      0.907   -3375.796    3801.065\n",
      "공가수           -4.3928      1.001     -4.389      0.000      -6.361      -2.425\n",
      "지하철역         -10.8070     24.031     -0.450      0.653     -58.063      36.449\n",
      "버스정류장          6.0371      4.612      1.309      0.191      -3.032      15.107\n",
      "단지내주차면수        0.5638      0.072      7.821      0.000       0.422       0.706\n",
      "전용면적_15_비율  -124.2488    337.972     -0.368      0.713    -788.847     540.349\n",
      "전용면적_20_비율  -380.8985    289.788     -1.314      0.190    -950.747     188.951\n",
      "전용면적_25_비율  -372.4563    275.694     -1.351      0.178    -914.589     169.676\n",
      "전용면적_30_비율  -601.5124    274.175     -2.194      0.029   -1140.660     -62.365\n",
      "전용면적_35_비율  -528.5990    264.873     -1.996      0.047   -1049.454      -7.744\n",
      "전용면적_40_비율  -526.0428    288.894     -1.821      0.069   -1094.133      42.047\n",
      "전용면적_45_비율  -430.2713    261.704     -1.644      0.101    -944.893      84.351\n",
      "전용면적_50_비율  -475.1304    262.758     -1.808      0.071    -991.825      41.564\n",
      "전용면적_55_비율  -494.8984    256.278     -1.931      0.054    -998.852       9.056\n",
      "전용면적_60_비율   799.7792   2.67e+04      0.030      0.976   -5.17e+04    5.33e+04\n",
      "전용면적_70_비율  -551.2876    332.723     -1.657      0.098   -1205.564     102.989\n",
      "전용면적_75_비율  1281.3632    522.932      2.450      0.015     253.054    2309.672\n",
      "전용면적_80_비율  -612.0353    247.568     -2.472      0.014   -1098.861    -125.209\n",
      "초장기비율        164.2784    325.496      0.505      0.614    -475.786     804.343\n",
      "장기비율         -35.2407    476.309     -0.074      0.941    -971.869     901.388\n",
      "단기비율         345.7737    324.214      1.066      0.287    -291.771     983.319\n",
      "ABEGH비율      135.6141    463.559      0.293      0.770    -775.943    1047.171\n",
      "A비율          -99.4848    235.988     -0.422      0.674    -563.539     364.570\n",
      "ACEFI비율     -229.0733    195.235     -1.173      0.241    -612.990     154.843\n",
      "D비율         1018.9014    340.632      2.991      0.003     349.071    1688.731\n",
      "JKLMNO비율    -351.1459    238.529     -1.472      0.142    -820.196     117.905\n",
      "10대미만(여자)     21.7524     31.533      0.690      0.491     -40.254      83.759\n",
      "10대미만(남자)     22.4500     33.001      0.680      0.497     -42.444      87.344\n",
      "10대(여자)       34.3199     56.308      0.610      0.543     -76.406     145.046\n",
      "10대(남자)       33.9924     58.546      0.581      0.562     -81.133     149.118\n",
      "20대(여자)       38.8462     59.414      0.654      0.514     -77.986     155.679\n",
      "20대(남자)       34.7141     62.145      0.559      0.577     -87.489     156.917\n",
      "30대(여자)       50.2604     61.184      0.821      0.412     -70.054     170.575\n",
      "30대(남자)       47.3317     56.962      0.831      0.407     -64.681     159.344\n",
      "40대(여자)       44.9549     75.922      0.592      0.554    -104.340     194.249\n",
      "40대(남자)       37.8081     59.466      0.636      0.525     -79.127     154.743\n",
      "50대(여자)       36.2210     72.389      0.500      0.617    -106.127     178.569\n",
      "50대(남자)       31.7621     62.698      0.507      0.613     -91.529     155.054\n",
      "60대(여자)       18.8349     52.464      0.359      0.720     -84.332     122.002\n",
      "60대(남자)       20.6818     50.892      0.406      0.685     -79.394     120.758\n",
      "70대(여자)       -2.7863     16.603     -0.168      0.867     -35.436      29.863\n",
      "70대(남자)        2.0300     15.305      0.133      0.895     -28.066      32.126\n",
      "80대(여자)        2.1226     16.669      0.127      0.899     -30.656      34.901\n",
      "80대(남자)       -0.5830      4.468     -0.130      0.896      -9.368       8.202\n",
      "90대(여자)        0.1493      2.170      0.069      0.945      -4.117       4.416\n",
      "90대(남자)       -0.1050      0.349     -0.301      0.764      -0.792       0.582\n",
      "100대(여자)       0.0377      0.032      1.179      0.239      -0.025       0.100\n",
      "100대(남자)       0.0161      0.022      0.724      0.470      -0.028       0.060\n",
      "1인당자동차       267.4929    476.193      0.562      0.575    -668.908    1203.894\n",
      "연면적            0.0004      0.001      0.442      0.658      -0.001       0.002\n",
      "평균분양가격        -0.0091      0.045     -0.202      0.840      -0.097       0.079\n",
      "총면적            0.0069      0.003      2.058      0.040       0.000       0.013\n",
      "규모별가격       1.457e-06   6.65e-07      2.190      0.029    1.49e-07    2.76e-06\n",
      "자전거도로비율       21.9264     43.875      0.500      0.618     -64.351     108.204\n",
      "운전면허소지자비율    -38.6010     49.440     -0.781      0.435    -135.822      58.620\n",
      "강원도           62.3829    133.110      0.469      0.640    -199.370     324.135\n",
      "경기도            5.5946     10.195      0.549      0.583     -14.452      25.641\n",
      "경상남도          10.4846     98.098      0.107      0.915    -182.417     203.387\n",
      "경상북도         150.4335    101.304      1.485      0.138     -48.774     349.641\n",
      "광주광역시        122.0938    106.098      1.151      0.251     -86.541     330.728\n",
      "대구광역시        103.2503     84.096      1.228      0.220     -62.118     268.619\n",
      "대전광역시        -16.0899    128.818     -0.125      0.901    -269.401     237.222\n",
      "부산광역시        -83.2914    129.116     -0.645      0.519    -337.190     170.607\n",
      "세종특별자치시      355.8044    141.125      2.521      0.012      78.292     633.317\n",
      "울산광역시        -38.9308    129.890     -0.300      0.765    -294.350     216.488\n",
      "전라남도          51.7863    113.955      0.454      0.650    -172.297     275.870\n",
      "전라북도          58.7126    139.135      0.422      0.673    -214.887     332.313\n",
      "제주특별자치도      -84.8963    102.929     -0.825      0.410    -287.299     117.506\n",
      "충청남도           2.3571    123.128      0.019      0.985    -239.766     244.480\n",
      "충청북도          80.9555    138.708      0.584      0.560    -191.804     353.715\n",
      "==============================================================================\n",
      "Omnibus:                       49.568   Durbin-Watson:                   2.050\n",
      "Prob(Omnibus):                  0.000   Jarque-Bera (JB):              348.314\n",
      "Skew:                           0.107   Prob(JB):                     2.31e-76\n",
      "Kurtosis:                       7.505   Cond. No.                     1.06e+16\n",
      "==============================================================================\n",
      "\n",
      "Notes:\n",
      "[1] Standard Errors assume that the covariance matrix of the errors is correctly specified.\n",
      "[2] The smallest eigenvalue is 5.71e-14. This might indicate that there are\n",
      "strong multicollinearity problems or that the design matrix is singular.\n"
     ]
    }
   ],
   "source": [
    "print(result.summary())"
   ]
  },
  {
   "cell_type": "code",
   "execution_count": 191,
   "id": "9c4d6c58-ae3a-4992-b6d7-7b7e1a716299",
   "metadata": {
    "collapsed": true,
    "jupyter": {
     "outputs_hidden": true
    },
    "tags": []
   },
   "outputs": [
    {
     "name": "stderr",
     "output_type": "stream",
     "text": [
      "C:\\Users\\admin\\Anaconda3\\lib\\site-packages\\statsmodels\\stats\\outliers_influence.py:193: RuntimeWarning: divide by zero encountered in double_scalars\n",
      "  vif = 1. / (1. - r_squared_i)\n"
     ]
    },
    {
     "data": {
      "text/html": [
       "<div>\n",
       "<style scoped>\n",
       "    .dataframe tbody tr th:only-of-type {\n",
       "        vertical-align: middle;\n",
       "    }\n",
       "\n",
       "    .dataframe tbody tr th {\n",
       "        vertical-align: top;\n",
       "    }\n",
       "\n",
       "    .dataframe thead th {\n",
       "        text-align: right;\n",
       "    }\n",
       "</style>\n",
       "<table border=\"1\" class=\"dataframe\">\n",
       "  <thead>\n",
       "    <tr style=\"text-align: right;\">\n",
       "      <th></th>\n",
       "      <th>VIF Factor</th>\n",
       "      <th>features</th>\n",
       "    </tr>\n",
       "  </thead>\n",
       "  <tbody>\n",
       "    <tr>\n",
       "      <th>0</th>\n",
       "      <td>1.924204e+01</td>\n",
       "      <td>총세대수</td>\n",
       "    </tr>\n",
       "    <tr>\n",
       "      <th>1</th>\n",
       "      <td>1.577415e+11</td>\n",
       "      <td>아파트비율</td>\n",
       "    </tr>\n",
       "    <tr>\n",
       "      <th>2</th>\n",
       "      <td>2.199958e+10</td>\n",
       "      <td>상가비율</td>\n",
       "    </tr>\n",
       "    <tr>\n",
       "      <th>3</th>\n",
       "      <td>1.846799e+00</td>\n",
       "      <td>공가수</td>\n",
       "    </tr>\n",
       "    <tr>\n",
       "      <th>4</th>\n",
       "      <td>1.620752e+00</td>\n",
       "      <td>지하철역</td>\n",
       "    </tr>\n",
       "    <tr>\n",
       "      <th>5</th>\n",
       "      <td>1.177790e+00</td>\n",
       "      <td>버스정류장</td>\n",
       "    </tr>\n",
       "    <tr>\n",
       "      <th>6</th>\n",
       "      <td>1.165892e+01</td>\n",
       "      <td>단지내주차면수</td>\n",
       "    </tr>\n",
       "    <tr>\n",
       "      <th>7</th>\n",
       "      <td>1.178695e+01</td>\n",
       "      <td>전용면적_15_비율</td>\n",
       "    </tr>\n",
       "    <tr>\n",
       "      <th>8</th>\n",
       "      <td>1.376123e+01</td>\n",
       "      <td>전용면적_20_비율</td>\n",
       "    </tr>\n",
       "    <tr>\n",
       "      <th>9</th>\n",
       "      <td>5.442327e+01</td>\n",
       "      <td>전용면적_25_비율</td>\n",
       "    </tr>\n",
       "    <tr>\n",
       "      <th>10</th>\n",
       "      <td>2.345688e+01</td>\n",
       "      <td>전용면적_30_비율</td>\n",
       "    </tr>\n",
       "    <tr>\n",
       "      <th>11</th>\n",
       "      <td>7.574951e+01</td>\n",
       "      <td>전용면적_35_비율</td>\n",
       "    </tr>\n",
       "    <tr>\n",
       "      <th>12</th>\n",
       "      <td>5.919719e+00</td>\n",
       "      <td>전용면적_40_비율</td>\n",
       "    </tr>\n",
       "    <tr>\n",
       "      <th>13</th>\n",
       "      <td>5.411387e+01</td>\n",
       "      <td>전용면적_45_비율</td>\n",
       "    </tr>\n",
       "    <tr>\n",
       "      <th>14</th>\n",
       "      <td>5.558478e+01</td>\n",
       "      <td>전용면적_50_비율</td>\n",
       "    </tr>\n",
       "    <tr>\n",
       "      <th>15</th>\n",
       "      <td>4.270860e+01</td>\n",
       "      <td>전용면적_55_비율</td>\n",
       "    </tr>\n",
       "    <tr>\n",
       "      <th>16</th>\n",
       "      <td>1.170797e+00</td>\n",
       "      <td>전용면적_60_비율</td>\n",
       "    </tr>\n",
       "    <tr>\n",
       "      <th>17</th>\n",
       "      <td>1.210875e+01</td>\n",
       "      <td>전용면적_70_비율</td>\n",
       "    </tr>\n",
       "    <tr>\n",
       "      <th>18</th>\n",
       "      <td>2.092480e+00</td>\n",
       "      <td>전용면적_75_비율</td>\n",
       "    </tr>\n",
       "    <tr>\n",
       "      <th>19</th>\n",
       "      <td>2.051669e+01</td>\n",
       "      <td>전용면적_80_비율</td>\n",
       "    </tr>\n",
       "    <tr>\n",
       "      <th>20</th>\n",
       "      <td>6.004800e+14</td>\n",
       "      <td>초장기비율</td>\n",
       "    </tr>\n",
       "    <tr>\n",
       "      <th>21</th>\n",
       "      <td>2.251800e+15</td>\n",
       "      <td>장기비율</td>\n",
       "    </tr>\n",
       "    <tr>\n",
       "      <th>22</th>\n",
       "      <td>2.251800e+15</td>\n",
       "      <td>단기비율</td>\n",
       "    </tr>\n",
       "    <tr>\n",
       "      <th>23</th>\n",
       "      <td>8.188363e+14</td>\n",
       "      <td>ABEGH비율</td>\n",
       "    </tr>\n",
       "    <tr>\n",
       "      <th>24</th>\n",
       "      <td>1.501200e+15</td>\n",
       "      <td>A비율</td>\n",
       "    </tr>\n",
       "    <tr>\n",
       "      <th>25</th>\n",
       "      <td>1.501200e+15</td>\n",
       "      <td>ACEFI비율</td>\n",
       "    </tr>\n",
       "    <tr>\n",
       "      <th>26</th>\n",
       "      <td>3.477683e+13</td>\n",
       "      <td>D비율</td>\n",
       "    </tr>\n",
       "    <tr>\n",
       "      <th>27</th>\n",
       "      <td>1.125900e+15</td>\n",
       "      <td>JKLMNO비율</td>\n",
       "    </tr>\n",
       "    <tr>\n",
       "      <th>28</th>\n",
       "      <td>1.958087e+14</td>\n",
       "      <td>10대미만(여자)</td>\n",
       "    </tr>\n",
       "    <tr>\n",
       "      <th>29</th>\n",
       "      <td>1.268620e+14</td>\n",
       "      <td>10대미만(남자)</td>\n",
       "    </tr>\n",
       "    <tr>\n",
       "      <th>30</th>\n",
       "      <td>7.505999e+14</td>\n",
       "      <td>10대(여자)</td>\n",
       "    </tr>\n",
       "    <tr>\n",
       "      <th>31</th>\n",
       "      <td>4.415294e+13</td>\n",
       "      <td>10대(남자)</td>\n",
       "    </tr>\n",
       "    <tr>\n",
       "      <th>32</th>\n",
       "      <td>6.823636e+13</td>\n",
       "      <td>20대(여자)</td>\n",
       "    </tr>\n",
       "    <tr>\n",
       "      <th>33</th>\n",
       "      <td>2.992425e+13</td>\n",
       "      <td>20대(남자)</td>\n",
       "    </tr>\n",
       "    <tr>\n",
       "      <th>34</th>\n",
       "      <td>7.505999e+14</td>\n",
       "      <td>30대(여자)</td>\n",
       "    </tr>\n",
       "    <tr>\n",
       "      <th>35</th>\n",
       "      <td>1.012045e+14</td>\n",
       "      <td>30대(남자)</td>\n",
       "    </tr>\n",
       "    <tr>\n",
       "      <th>36</th>\n",
       "      <td>8.417943e+13</td>\n",
       "      <td>40대(여자)</td>\n",
       "    </tr>\n",
       "    <tr>\n",
       "      <th>37</th>\n",
       "      <td>7.148571e+13</td>\n",
       "      <td>40대(남자)</td>\n",
       "    </tr>\n",
       "    <tr>\n",
       "      <th>38</th>\n",
       "      <td>7.764827e+13</td>\n",
       "      <td>50대(여자)</td>\n",
       "    </tr>\n",
       "    <tr>\n",
       "      <th>39</th>\n",
       "      <td>1.988344e+13</td>\n",
       "      <td>50대(남자)</td>\n",
       "    </tr>\n",
       "    <tr>\n",
       "      <th>40</th>\n",
       "      <td>5.004000e+14</td>\n",
       "      <td>60대(여자)</td>\n",
       "    </tr>\n",
       "    <tr>\n",
       "      <th>41</th>\n",
       "      <td>2.370316e+14</td>\n",
       "      <td>60대(남자)</td>\n",
       "    </tr>\n",
       "    <tr>\n",
       "      <th>42</th>\n",
       "      <td>6.928615e+14</td>\n",
       "      <td>70대(여자)</td>\n",
       "    </tr>\n",
       "    <tr>\n",
       "      <th>43</th>\n",
       "      <td>4.503600e+15</td>\n",
       "      <td>70대(남자)</td>\n",
       "    </tr>\n",
       "    <tr>\n",
       "      <th>44</th>\n",
       "      <td>1.407375e+14</td>\n",
       "      <td>80대(여자)</td>\n",
       "    </tr>\n",
       "    <tr>\n",
       "      <th>45</th>\n",
       "      <td>3.002400e+15</td>\n",
       "      <td>80대(남자)</td>\n",
       "    </tr>\n",
       "    <tr>\n",
       "      <th>46</th>\n",
       "      <td>5.004000e+14</td>\n",
       "      <td>90대(여자)</td>\n",
       "    </tr>\n",
       "    <tr>\n",
       "      <th>47</th>\n",
       "      <td>4.503600e+15</td>\n",
       "      <td>90대(남자)</td>\n",
       "    </tr>\n",
       "    <tr>\n",
       "      <th>48</th>\n",
       "      <td>inf</td>\n",
       "      <td>100대(여자)</td>\n",
       "    </tr>\n",
       "    <tr>\n",
       "      <th>49</th>\n",
       "      <td>5.298353e+14</td>\n",
       "      <td>100대(남자)</td>\n",
       "    </tr>\n",
       "    <tr>\n",
       "      <th>50</th>\n",
       "      <td>2.905548e+14</td>\n",
       "      <td>1인당자동차</td>\n",
       "    </tr>\n",
       "    <tr>\n",
       "      <th>51</th>\n",
       "      <td>9.007199e+15</td>\n",
       "      <td>연면적</td>\n",
       "    </tr>\n",
       "    <tr>\n",
       "      <th>52</th>\n",
       "      <td>1.012045e+14</td>\n",
       "      <td>평균분양가격</td>\n",
       "    </tr>\n",
       "    <tr>\n",
       "      <th>53</th>\n",
       "      <td>5.062439e+01</td>\n",
       "      <td>총면적</td>\n",
       "    </tr>\n",
       "    <tr>\n",
       "      <th>54</th>\n",
       "      <td>3.790455e+01</td>\n",
       "      <td>규모별가격</td>\n",
       "    </tr>\n",
       "    <tr>\n",
       "      <th>55</th>\n",
       "      <td>9.007199e+15</td>\n",
       "      <td>자전거도로비율</td>\n",
       "    </tr>\n",
       "    <tr>\n",
       "      <th>56</th>\n",
       "      <td>inf</td>\n",
       "      <td>운전면허소지자비율</td>\n",
       "    </tr>\n",
       "    <tr>\n",
       "      <th>57</th>\n",
       "      <td>1.958087e+14</td>\n",
       "      <td>강원도</td>\n",
       "    </tr>\n",
       "    <tr>\n",
       "      <th>58</th>\n",
       "      <td>inf</td>\n",
       "      <td>경기도</td>\n",
       "    </tr>\n",
       "    <tr>\n",
       "      <th>59</th>\n",
       "      <td>1.637673e+14</td>\n",
       "      <td>경상남도</td>\n",
       "    </tr>\n",
       "    <tr>\n",
       "      <th>60</th>\n",
       "      <td>2.047091e+14</td>\n",
       "      <td>경상북도</td>\n",
       "    </tr>\n",
       "    <tr>\n",
       "      <th>61</th>\n",
       "      <td>2.094698e+14</td>\n",
       "      <td>광주광역시</td>\n",
       "    </tr>\n",
       "    <tr>\n",
       "      <th>62</th>\n",
       "      <td>1.140152e+14</td>\n",
       "      <td>대구광역시</td>\n",
       "    </tr>\n",
       "    <tr>\n",
       "      <th>63</th>\n",
       "      <td>3.216857e+14</td>\n",
       "      <td>대전광역시</td>\n",
       "    </tr>\n",
       "    <tr>\n",
       "      <th>64</th>\n",
       "      <td>6.148259e+12</td>\n",
       "      <td>부산광역시</td>\n",
       "    </tr>\n",
       "    <tr>\n",
       "      <th>65</th>\n",
       "      <td>4.415294e+13</td>\n",
       "      <td>세종특별자치시</td>\n",
       "    </tr>\n",
       "    <tr>\n",
       "      <th>66</th>\n",
       "      <td>1.429714e+14</td>\n",
       "      <td>울산광역시</td>\n",
       "    </tr>\n",
       "    <tr>\n",
       "      <th>67</th>\n",
       "      <td>1.286743e+15</td>\n",
       "      <td>전라남도</td>\n",
       "    </tr>\n",
       "    <tr>\n",
       "      <th>68</th>\n",
       "      <td>1.552965e+14</td>\n",
       "      <td>전라북도</td>\n",
       "    </tr>\n",
       "    <tr>\n",
       "      <th>69</th>\n",
       "      <td>6.433714e+14</td>\n",
       "      <td>제주특별자치도</td>\n",
       "    </tr>\n",
       "    <tr>\n",
       "      <th>70</th>\n",
       "      <td>1.501200e+14</td>\n",
       "      <td>충청남도</td>\n",
       "    </tr>\n",
       "    <tr>\n",
       "      <th>71</th>\n",
       "      <td>3.588526e+13</td>\n",
       "      <td>충청북도</td>\n",
       "    </tr>\n",
       "  </tbody>\n",
       "</table>\n",
       "</div>"
      ],
      "text/plain": [
       "      VIF Factor    features\n",
       "0   1.924204e+01        총세대수\n",
       "1   1.577415e+11       아파트비율\n",
       "2   2.199958e+10        상가비율\n",
       "3   1.846799e+00         공가수\n",
       "4   1.620752e+00        지하철역\n",
       "5   1.177790e+00       버스정류장\n",
       "6   1.165892e+01     단지내주차면수\n",
       "7   1.178695e+01  전용면적_15_비율\n",
       "8   1.376123e+01  전용면적_20_비율\n",
       "9   5.442327e+01  전용면적_25_비율\n",
       "10  2.345688e+01  전용면적_30_비율\n",
       "11  7.574951e+01  전용면적_35_비율\n",
       "12  5.919719e+00  전용면적_40_비율\n",
       "13  5.411387e+01  전용면적_45_비율\n",
       "14  5.558478e+01  전용면적_50_비율\n",
       "15  4.270860e+01  전용면적_55_비율\n",
       "16  1.170797e+00  전용면적_60_비율\n",
       "17  1.210875e+01  전용면적_70_비율\n",
       "18  2.092480e+00  전용면적_75_비율\n",
       "19  2.051669e+01  전용면적_80_비율\n",
       "20  6.004800e+14       초장기비율\n",
       "21  2.251800e+15        장기비율\n",
       "22  2.251800e+15        단기비율\n",
       "23  8.188363e+14     ABEGH비율\n",
       "24  1.501200e+15         A비율\n",
       "25  1.501200e+15     ACEFI비율\n",
       "26  3.477683e+13         D비율\n",
       "27  1.125900e+15    JKLMNO비율\n",
       "28  1.958087e+14   10대미만(여자)\n",
       "29  1.268620e+14   10대미만(남자)\n",
       "30  7.505999e+14     10대(여자)\n",
       "31  4.415294e+13     10대(남자)\n",
       "32  6.823636e+13     20대(여자)\n",
       "33  2.992425e+13     20대(남자)\n",
       "34  7.505999e+14     30대(여자)\n",
       "35  1.012045e+14     30대(남자)\n",
       "36  8.417943e+13     40대(여자)\n",
       "37  7.148571e+13     40대(남자)\n",
       "38  7.764827e+13     50대(여자)\n",
       "39  1.988344e+13     50대(남자)\n",
       "40  5.004000e+14     60대(여자)\n",
       "41  2.370316e+14     60대(남자)\n",
       "42  6.928615e+14     70대(여자)\n",
       "43  4.503600e+15     70대(남자)\n",
       "44  1.407375e+14     80대(여자)\n",
       "45  3.002400e+15     80대(남자)\n",
       "46  5.004000e+14     90대(여자)\n",
       "47  4.503600e+15     90대(남자)\n",
       "48           inf    100대(여자)\n",
       "49  5.298353e+14    100대(남자)\n",
       "50  2.905548e+14      1인당자동차\n",
       "51  9.007199e+15         연면적\n",
       "52  1.012045e+14      평균분양가격\n",
       "53  5.062439e+01         총면적\n",
       "54  3.790455e+01       규모별가격\n",
       "55  9.007199e+15     자전거도로비율\n",
       "56           inf   운전면허소지자비율\n",
       "57  1.958087e+14         강원도\n",
       "58           inf         경기도\n",
       "59  1.637673e+14        경상남도\n",
       "60  2.047091e+14        경상북도\n",
       "61  2.094698e+14       광주광역시\n",
       "62  1.140152e+14       대구광역시\n",
       "63  3.216857e+14       대전광역시\n",
       "64  6.148259e+12       부산광역시\n",
       "65  4.415294e+13     세종특별자치시\n",
       "66  1.429714e+14       울산광역시\n",
       "67  1.286743e+15        전라남도\n",
       "68  1.552965e+14        전라북도\n",
       "69  6.433714e+14     제주특별자치도\n",
       "70  1.501200e+14        충청남도\n",
       "71  3.588526e+13        충청북도"
      ]
     },
     "execution_count": 191,
     "metadata": {},
     "output_type": "execute_result"
    }
   ],
   "source": [
    "from statsmodels.stats.outliers_influence import variance_inflation_factor\n",
    "\n",
    "vif = pd.DataFrame()\n",
    "vif[\"VIF Factor\"] = [variance_inflation_factor(\n",
    "    X.values, i) for i in range(X.shape[1])]\n",
    "vif[\"features\"] = X.columns\n",
    "vif"
   ]
  },
  {
   "cell_type": "markdown",
   "id": "991e76f6-4dc0-4fe5-bab6-1bafbc3885f8",
   "metadata": {},
   "source": [
    "## Modeling"
   ]
  },
  {
   "cell_type": "code",
   "execution_count": 192,
   "id": "1ffbd5fb-63e8-4bda-ae92-c9173e874dd6",
   "metadata": {},
   "outputs": [],
   "source": [
    "X_train, X_test, y_train, y_test = train_test_split(X, y, test_size = 0.2, random_state = 0)"
   ]
  },
  {
   "cell_type": "code",
   "execution_count": 8,
   "id": "52f6c7d8-18da-4d93-aff1-d73f8ce92e22",
   "metadata": {},
   "outputs": [],
   "source": [
    "from sklearn.linear_model import LinearRegression   ## 회귀 분석\n",
    "from sklearn.svm import SVC                         ## svm 분류모델\n",
    "from sklearn.tree import DecisionTreeClassifier     ## Tree 분류모델\n",
    "from sklearn.ensemble import RandomForestClassifier ## RandomForet\n",
    "from sklearn.linear_model import LogisticRegression ## Logistic Regression\n",
    "from sklearn.ensemble import RandomForestRegressor  ## RandomForet \n",
    "from sklearn.model_selection import train_test_split\n",
    "from sklearn.linear_model import LinearRegression, Ridge, Lasso, ElasticNet\n",
    "import statsmodels.api as sm\n",
    "from sklearn.metrics import mean_absolute_error\n",
    "from xgboost import XGBRegressor\n",
    "from sklearn.ensemble import GradientBoostingRegressor\n",
    "from sklearn.model_selection import GridSearchCV\n",
    "from sklearn.model_selection import KFold\n",
    "from catboost import CatBoostRegressor\n",
    "from sklearn.ensemble import ExtraTreesRegressor\n",
    "from sklearn.ensemble import AdaBoostRegressor \n",
    "from sklearn.svm import SVR\n",
    "from lightgbm import LGBMRegressor\n",
    "from sklearn.ensemble import StackingRegressor\n",
    "import pickle\n",
    "from sklearn.ensemble import VotingRegressor"
   ]
  },
  {
   "cell_type": "code",
   "execution_count": 198,
   "id": "6d1adb4d-d719-436b-8fc5-d4bba7b21f07",
   "metadata": {},
   "outputs": [],
   "source": [
    "cols1 = ['Linear', 'ExtraTrees', 'Gradient', 'RandomForest', 'ElasticNet', 'Ridge', 'Lasso', 'XGB', 'Catboost', 'Voting1', 'Voting2', 'Voting3', 'Voting4', 'Voting5']"
   ]
  },
  {
   "cell_type": "code",
   "execution_count": 200,
   "id": "29c3043d-9462-48fe-889b-e01941a2d098",
   "metadata": {
    "collapsed": true,
    "jupyter": {
     "outputs_hidden": true
    },
    "tags": []
   },
   "outputs": [
    {
     "name": "stderr",
     "output_type": "stream",
     "text": [
      "C:\\Users\\admin\\Anaconda3\\lib\\site-packages\\ipykernel_launcher.py:15: DataConversionWarning: A column-vector y was passed when a 1d array was expected. Please change the shape of y to (n_samples,), for example using ravel().\n",
      "  from ipykernel import kernelapp as app\n",
      "C:\\Users\\admin\\Anaconda3\\lib\\site-packages\\sklearn\\utils\\validation.py:63: DataConversionWarning: A column-vector y was passed when a 1d array was expected. Please change the shape of y to (n_samples, ), for example using ravel().\n",
      "  return f(*args, **kwargs)\n",
      "C:\\Users\\admin\\Anaconda3\\lib\\site-packages\\ipykernel_launcher.py:17: DataConversionWarning: A column-vector y was passed when a 1d array was expected. Please change the shape of y to (n_samples,), for example using ravel().\n",
      "C:\\Users\\admin\\Anaconda3\\lib\\site-packages\\sklearn\\linear_model\\_ridge.py:148: LinAlgWarning: Ill-conditioned matrix (rcond=4.71682e-19): result may not be accurate.\n",
      "  overwrite_a=True).T\n"
     ]
    },
    {
     "name": "stdout",
     "output_type": "stream",
     "text": [
      "0:\tlearn: 363.6018029\ttotal: 3.21ms\tremaining: 318ms\n",
      "1:\tlearn: 345.3591198\ttotal: 6.04ms\tremaining: 296ms\n",
      "2:\tlearn: 328.2984388\ttotal: 9.41ms\tremaining: 304ms\n",
      "3:\tlearn: 311.4208916\ttotal: 11.9ms\tremaining: 286ms\n",
      "4:\tlearn: 298.4063794\ttotal: 14.9ms\tremaining: 284ms\n",
      "5:\tlearn: 287.3181307\ttotal: 17.2ms\tremaining: 269ms\n",
      "6:\tlearn: 273.9307090\ttotal: 18.6ms\tremaining: 247ms\n",
      "7:\tlearn: 264.4766978\ttotal: 20.9ms\tremaining: 241ms\n",
      "8:\tlearn: 253.6759782\ttotal: 23.1ms\tremaining: 234ms\n",
      "9:\tlearn: 243.0543852\ttotal: 25.5ms\tremaining: 229ms\n",
      "10:\tlearn: 234.6307249\ttotal: 27.8ms\tremaining: 225ms\n",
      "11:\tlearn: 227.8370759\ttotal: 29.9ms\tremaining: 220ms\n",
      "12:\tlearn: 221.0415959\ttotal: 32.1ms\tremaining: 215ms\n",
      "13:\tlearn: 215.0515935\ttotal: 34.1ms\tremaining: 209ms\n",
      "14:\tlearn: 208.2495400\ttotal: 36ms\tremaining: 204ms\n",
      "15:\tlearn: 202.3167299\ttotal: 38ms\tremaining: 199ms\n",
      "16:\tlearn: 197.2139967\ttotal: 40ms\tremaining: 195ms\n",
      "17:\tlearn: 192.5561267\ttotal: 42.4ms\tremaining: 193ms\n",
      "18:\tlearn: 188.3145742\ttotal: 44.7ms\tremaining: 191ms\n",
      "19:\tlearn: 183.8549853\ttotal: 47ms\tremaining: 188ms\n",
      "20:\tlearn: 180.0561711\ttotal: 49.3ms\tremaining: 185ms\n",
      "21:\tlearn: 176.3285464\ttotal: 51.1ms\tremaining: 181ms\n",
      "22:\tlearn: 173.0599510\ttotal: 53.2ms\tremaining: 178ms\n",
      "23:\tlearn: 169.0383599\ttotal: 55.1ms\tremaining: 175ms\n",
      "24:\tlearn: 165.6358071\ttotal: 57.6ms\tremaining: 173ms\n",
      "25:\tlearn: 162.3970370\ttotal: 59.9ms\tremaining: 170ms\n",
      "26:\tlearn: 159.5757906\ttotal: 62.3ms\tremaining: 168ms\n",
      "27:\tlearn: 156.6443717\ttotal: 64.5ms\tremaining: 166ms\n",
      "28:\tlearn: 154.8233909\ttotal: 66.5ms\tremaining: 163ms\n",
      "29:\tlearn: 152.1915859\ttotal: 68.6ms\tremaining: 160ms\n",
      "30:\tlearn: 150.6797358\ttotal: 70ms\tremaining: 156ms\n",
      "31:\tlearn: 149.3427459\ttotal: 72ms\tremaining: 153ms\n",
      "32:\tlearn: 147.4494772\ttotal: 74.4ms\tremaining: 151ms\n",
      "33:\tlearn: 146.2313394\ttotal: 76.6ms\tremaining: 149ms\n",
      "34:\tlearn: 143.8317243\ttotal: 78.8ms\tremaining: 146ms\n",
      "35:\tlearn: 142.5419616\ttotal: 80.7ms\tremaining: 143ms\n",
      "36:\tlearn: 141.2439818\ttotal: 82.8ms\tremaining: 141ms\n",
      "37:\tlearn: 139.5588933\ttotal: 84.8ms\tremaining: 138ms\n",
      "38:\tlearn: 138.2353281\ttotal: 86.8ms\tremaining: 136ms\n",
      "39:\tlearn: 136.4777210\ttotal: 88.8ms\tremaining: 133ms\n",
      "40:\tlearn: 135.1805913\ttotal: 90.9ms\tremaining: 131ms\n",
      "41:\tlearn: 134.3319157\ttotal: 93.2ms\tremaining: 129ms\n",
      "42:\tlearn: 133.2742848\ttotal: 95.2ms\tremaining: 126ms\n",
      "43:\tlearn: 131.4298124\ttotal: 97.2ms\tremaining: 124ms\n",
      "44:\tlearn: 130.3961378\ttotal: 99.4ms\tremaining: 121ms\n",
      "45:\tlearn: 129.6810513\ttotal: 101ms\tremaining: 119ms\n",
      "46:\tlearn: 128.7254461\ttotal: 103ms\tremaining: 117ms\n",
      "47:\tlearn: 127.5356081\ttotal: 106ms\tremaining: 115ms\n",
      "48:\tlearn: 126.7928616\ttotal: 108ms\tremaining: 112ms\n",
      "49:\tlearn: 126.1711108\ttotal: 110ms\tremaining: 110ms\n",
      "50:\tlearn: 125.4155616\ttotal: 112ms\tremaining: 108ms\n",
      "51:\tlearn: 125.0310967\ttotal: 114ms\tremaining: 105ms\n",
      "52:\tlearn: 123.7272679\ttotal: 116ms\tremaining: 103ms\n",
      "53:\tlearn: 123.2753375\ttotal: 118ms\tremaining: 101ms\n",
      "54:\tlearn: 122.6033343\ttotal: 120ms\tremaining: 98.3ms\n",
      "55:\tlearn: 122.0340142\ttotal: 122ms\tremaining: 95.9ms\n",
      "56:\tlearn: 121.3288054\ttotal: 124ms\tremaining: 93.5ms\n",
      "57:\tlearn: 120.8634422\ttotal: 126ms\tremaining: 91.2ms\n",
      "58:\tlearn: 119.6785874\ttotal: 128ms\tremaining: 89.1ms\n",
      "59:\tlearn: 119.1406759\ttotal: 130ms\tremaining: 86.9ms\n",
      "60:\tlearn: 118.6271209\ttotal: 132ms\tremaining: 84.7ms\n",
      "61:\tlearn: 117.9945652\ttotal: 135ms\tremaining: 82.6ms\n",
      "62:\tlearn: 117.4822804\ttotal: 137ms\tremaining: 80.4ms\n",
      "63:\tlearn: 116.9458149\ttotal: 139ms\tremaining: 78.3ms\n",
      "64:\tlearn: 116.6176004\ttotal: 141ms\tremaining: 76.1ms\n",
      "65:\tlearn: 116.3603981\ttotal: 143ms\tremaining: 73.8ms\n",
      "66:\tlearn: 115.8536490\ttotal: 145ms\tremaining: 71.5ms\n",
      "67:\tlearn: 115.3199699\ttotal: 147ms\tremaining: 69.3ms\n",
      "68:\tlearn: 114.9718179\ttotal: 149ms\tremaining: 67.1ms\n",
      "69:\tlearn: 114.2754767\ttotal: 152ms\tremaining: 65ms\n",
      "70:\tlearn: 113.9387971\ttotal: 154ms\tremaining: 62.9ms\n",
      "71:\tlearn: 113.2660077\ttotal: 156ms\tremaining: 60.7ms\n",
      "72:\tlearn: 111.8997739\ttotal: 158ms\tremaining: 58.4ms\n",
      "73:\tlearn: 111.2570038\ttotal: 160ms\tremaining: 56.2ms\n",
      "74:\tlearn: 110.3121111\ttotal: 162ms\tremaining: 54ms\n",
      "75:\tlearn: 109.3490387\ttotal: 164ms\tremaining: 51.8ms\n",
      "76:\tlearn: 108.2787246\ttotal: 166ms\tremaining: 49.6ms\n",
      "77:\tlearn: 107.9233821\ttotal: 168ms\tremaining: 47.4ms\n",
      "78:\tlearn: 107.4341396\ttotal: 170ms\tremaining: 45.3ms\n",
      "79:\tlearn: 107.0834796\ttotal: 172ms\tremaining: 43.1ms\n",
      "80:\tlearn: 106.7152220\ttotal: 175ms\tremaining: 41.1ms\n",
      "81:\tlearn: 105.9229567\ttotal: 177ms\tremaining: 38.9ms\n",
      "82:\tlearn: 104.5391650\ttotal: 179ms\tremaining: 36.7ms\n",
      "83:\tlearn: 103.5569515\ttotal: 181ms\tremaining: 34.6ms\n",
      "84:\tlearn: 103.2878905\ttotal: 184ms\tremaining: 32.4ms\n",
      "85:\tlearn: 102.9863335\ttotal: 186ms\tremaining: 30.2ms\n",
      "86:\tlearn: 102.2026218\ttotal: 188ms\tremaining: 28.1ms\n",
      "87:\tlearn: 101.9341634\ttotal: 190ms\tremaining: 26ms\n",
      "88:\tlearn: 100.8317231\ttotal: 193ms\tremaining: 23.8ms\n",
      "89:\tlearn: 99.8964084\ttotal: 195ms\tremaining: 21.6ms\n",
      "90:\tlearn: 99.0174641\ttotal: 197ms\tremaining: 19.5ms\n",
      "91:\tlearn: 98.3652290\ttotal: 199ms\tremaining: 17.3ms\n",
      "92:\tlearn: 96.7423010\ttotal: 202ms\tremaining: 15.2ms\n",
      "93:\tlearn: 96.2130880\ttotal: 204ms\tremaining: 13ms\n",
      "94:\tlearn: 95.9625342\ttotal: 206ms\tremaining: 10.9ms\n",
      "95:\tlearn: 95.7630095\ttotal: 208ms\tremaining: 8.69ms\n",
      "96:\tlearn: 95.5693745\ttotal: 211ms\tremaining: 6.52ms\n",
      "97:\tlearn: 95.2588676\ttotal: 213ms\tremaining: 4.35ms\n",
      "98:\tlearn: 94.4453243\ttotal: 215ms\tremaining: 2.17ms\n",
      "99:\tlearn: 93.3089976\ttotal: 217ms\tremaining: 0us\n"
     ]
    },
    {
     "name": "stderr",
     "output_type": "stream",
     "text": [
      "C:\\Users\\admin\\Anaconda3\\lib\\site-packages\\sklearn\\utils\\validation.py:63: DataConversionWarning: A column-vector y was passed when a 1d array was expected. Please change the shape of y to (n_samples, ), for example using ravel().\n",
      "  return f(*args, **kwargs)\n",
      "C:\\Users\\admin\\Anaconda3\\lib\\site-packages\\sklearn\\utils\\validation.py:63: DataConversionWarning: A column-vector y was passed when a 1d array was expected. Please change the shape of y to (n_samples, ), for example using ravel().\n",
      "  return f(*args, **kwargs)\n",
      "C:\\Users\\admin\\Anaconda3\\lib\\site-packages\\sklearn\\utils\\validation.py:63: DataConversionWarning: A column-vector y was passed when a 1d array was expected. Please change the shape of y to (n_samples, ), for example using ravel().\n",
      "  return f(*args, **kwargs)\n"
     ]
    },
    {
     "name": "stdout",
     "output_type": "stream",
     "text": [
      "0:\tlearn: 363.6018029\ttotal: 2.39ms\tremaining: 237ms\n",
      "1:\tlearn: 345.3591198\ttotal: 4.54ms\tremaining: 222ms\n",
      "2:\tlearn: 328.2984388\ttotal: 6.83ms\tremaining: 221ms\n",
      "3:\tlearn: 311.4208916\ttotal: 9.21ms\tremaining: 221ms\n",
      "4:\tlearn: 298.4063794\ttotal: 11.4ms\tremaining: 217ms\n",
      "5:\tlearn: 287.3181307\ttotal: 13.6ms\tremaining: 213ms\n",
      "6:\tlearn: 273.9307090\ttotal: 15.1ms\tremaining: 200ms\n",
      "7:\tlearn: 264.4766978\ttotal: 17.3ms\tremaining: 199ms\n",
      "8:\tlearn: 253.6759782\ttotal: 19.4ms\tremaining: 196ms\n",
      "9:\tlearn: 243.0543852\ttotal: 21.6ms\tremaining: 195ms\n",
      "10:\tlearn: 234.6307249\ttotal: 23.8ms\tremaining: 193ms\n",
      "11:\tlearn: 227.8370759\ttotal: 25.9ms\tremaining: 190ms\n",
      "12:\tlearn: 221.0415959\ttotal: 28.3ms\tremaining: 189ms\n",
      "13:\tlearn: 215.0515935\ttotal: 30.5ms\tremaining: 187ms\n",
      "14:\tlearn: 208.2495400\ttotal: 32.7ms\tremaining: 185ms\n",
      "15:\tlearn: 202.3167299\ttotal: 34.8ms\tremaining: 183ms\n",
      "16:\tlearn: 197.2139967\ttotal: 37ms\tremaining: 181ms\n",
      "17:\tlearn: 192.5561267\ttotal: 39ms\tremaining: 178ms\n",
      "18:\tlearn: 188.3145742\ttotal: 41.3ms\tremaining: 176ms\n",
      "19:\tlearn: 183.8549853\ttotal: 43.5ms\tremaining: 174ms\n",
      "20:\tlearn: 180.0561711\ttotal: 45.9ms\tremaining: 173ms\n",
      "21:\tlearn: 176.3285464\ttotal: 48.2ms\tremaining: 171ms\n",
      "22:\tlearn: 173.0599510\ttotal: 50.4ms\tremaining: 169ms\n",
      "23:\tlearn: 169.0383599\ttotal: 52.6ms\tremaining: 167ms\n",
      "24:\tlearn: 165.6358071\ttotal: 54.8ms\tremaining: 164ms\n",
      "25:\tlearn: 162.3970370\ttotal: 57.2ms\tremaining: 163ms\n",
      "26:\tlearn: 159.5757906\ttotal: 59.6ms\tremaining: 161ms\n",
      "27:\tlearn: 156.6443717\ttotal: 62.1ms\tremaining: 160ms\n",
      "28:\tlearn: 154.8233909\ttotal: 64.4ms\tremaining: 158ms\n",
      "29:\tlearn: 152.1915859\ttotal: 66.5ms\tremaining: 155ms\n",
      "30:\tlearn: 150.6797358\ttotal: 67.9ms\tremaining: 151ms\n",
      "31:\tlearn: 149.3427459\ttotal: 70ms\tremaining: 149ms\n",
      "32:\tlearn: 147.4494772\ttotal: 72.2ms\tremaining: 147ms\n",
      "33:\tlearn: 146.2313394\ttotal: 74.4ms\tremaining: 144ms\n",
      "34:\tlearn: 143.8317243\ttotal: 76.7ms\tremaining: 142ms\n",
      "35:\tlearn: 142.5419616\ttotal: 80.1ms\tremaining: 142ms\n",
      "36:\tlearn: 141.2439818\ttotal: 82.5ms\tremaining: 140ms\n",
      "37:\tlearn: 139.5588933\ttotal: 84.7ms\tremaining: 138ms\n",
      "38:\tlearn: 138.2353281\ttotal: 87.4ms\tremaining: 137ms\n",
      "39:\tlearn: 136.4777210\ttotal: 89.9ms\tremaining: 135ms\n",
      "40:\tlearn: 135.1805913\ttotal: 92.4ms\tremaining: 133ms\n",
      "41:\tlearn: 134.3319157\ttotal: 94.7ms\tremaining: 131ms\n",
      "42:\tlearn: 133.2742848\ttotal: 97ms\tremaining: 129ms\n",
      "43:\tlearn: 131.4298124\ttotal: 99.7ms\tremaining: 127ms\n",
      "44:\tlearn: 130.3961378\ttotal: 102ms\tremaining: 125ms\n",
      "45:\tlearn: 129.6810513\ttotal: 104ms\tremaining: 122ms\n",
      "46:\tlearn: 128.7254461\ttotal: 107ms\tremaining: 120ms\n",
      "47:\tlearn: 127.5356081\ttotal: 109ms\tremaining: 118ms\n",
      "48:\tlearn: 126.7928616\ttotal: 111ms\tremaining: 116ms\n",
      "49:\tlearn: 126.1711108\ttotal: 114ms\tremaining: 114ms\n",
      "50:\tlearn: 125.4155616\ttotal: 116ms\tremaining: 112ms\n",
      "51:\tlearn: 125.0310967\ttotal: 118ms\tremaining: 109ms\n",
      "52:\tlearn: 123.7272679\ttotal: 122ms\tremaining: 108ms\n",
      "53:\tlearn: 123.2753375\ttotal: 124ms\tremaining: 106ms\n",
      "54:\tlearn: 122.6033343\ttotal: 127ms\tremaining: 104ms\n",
      "55:\tlearn: 122.0340142\ttotal: 130ms\tremaining: 102ms\n",
      "56:\tlearn: 121.3288054\ttotal: 132ms\tremaining: 99.8ms\n",
      "57:\tlearn: 120.8634422\ttotal: 135ms\tremaining: 97.4ms\n",
      "58:\tlearn: 119.6785874\ttotal: 138ms\tremaining: 95.6ms\n",
      "59:\tlearn: 119.1406759\ttotal: 140ms\tremaining: 93.2ms\n",
      "60:\tlearn: 118.6271209\ttotal: 142ms\tremaining: 90.7ms\n",
      "61:\tlearn: 117.9945652\ttotal: 144ms\tremaining: 88.4ms\n",
      "62:\tlearn: 117.4822804\ttotal: 146ms\tremaining: 86ms\n",
      "63:\tlearn: 116.9458149\ttotal: 149ms\tremaining: 83.6ms\n",
      "64:\tlearn: 116.6176004\ttotal: 151ms\tremaining: 81.4ms\n",
      "65:\tlearn: 116.3603981\ttotal: 154ms\tremaining: 79.1ms\n",
      "66:\tlearn: 115.8536490\ttotal: 156ms\tremaining: 76.8ms\n",
      "67:\tlearn: 115.3199699\ttotal: 158ms\tremaining: 74.3ms\n",
      "68:\tlearn: 114.9718179\ttotal: 161ms\tremaining: 72.2ms\n",
      "69:\tlearn: 114.2754767\ttotal: 163ms\tremaining: 69.9ms\n",
      "70:\tlearn: 113.9387971\ttotal: 165ms\tremaining: 67.5ms\n",
      "71:\tlearn: 113.2660077\ttotal: 168ms\tremaining: 65.2ms\n",
      "72:\tlearn: 111.8997739\ttotal: 170ms\tremaining: 62.9ms\n",
      "73:\tlearn: 111.2570038\ttotal: 172ms\tremaining: 60.4ms\n",
      "74:\tlearn: 110.3121111\ttotal: 175ms\tremaining: 58.2ms\n",
      "75:\tlearn: 109.3490387\ttotal: 177ms\tremaining: 55.9ms\n",
      "76:\tlearn: 108.2787246\ttotal: 179ms\tremaining: 53.4ms\n",
      "77:\tlearn: 107.9233821\ttotal: 181ms\tremaining: 51.1ms\n",
      "78:\tlearn: 107.4341396\ttotal: 183ms\tremaining: 48.8ms\n",
      "79:\tlearn: 107.0834796\ttotal: 186ms\tremaining: 46.4ms\n",
      "80:\tlearn: 106.7152220\ttotal: 188ms\tremaining: 44ms\n",
      "81:\tlearn: 105.9229567\ttotal: 190ms\tremaining: 41.6ms\n",
      "82:\tlearn: 104.5391650\ttotal: 192ms\tremaining: 39.3ms\n",
      "83:\tlearn: 103.5569515\ttotal: 194ms\tremaining: 36.9ms\n",
      "84:\tlearn: 103.2878905\ttotal: 196ms\tremaining: 34.6ms\n",
      "85:\tlearn: 102.9863335\ttotal: 198ms\tremaining: 32.2ms\n",
      "86:\tlearn: 102.2026218\ttotal: 200ms\tremaining: 29.9ms\n",
      "87:\tlearn: 101.9341634\ttotal: 202ms\tremaining: 27.6ms\n",
      "88:\tlearn: 100.8317231\ttotal: 205ms\tremaining: 25.3ms\n",
      "89:\tlearn: 99.8964084\ttotal: 207ms\tremaining: 23ms\n",
      "90:\tlearn: 99.0174641\ttotal: 209ms\tremaining: 20.6ms\n",
      "91:\tlearn: 98.3652290\ttotal: 211ms\tremaining: 18.3ms\n",
      "92:\tlearn: 96.7423010\ttotal: 213ms\tremaining: 16ms\n",
      "93:\tlearn: 96.2130880\ttotal: 215ms\tremaining: 13.7ms\n",
      "94:\tlearn: 95.9625342\ttotal: 217ms\tremaining: 11.4ms\n",
      "95:\tlearn: 95.7630095\ttotal: 219ms\tremaining: 9.14ms\n",
      "96:\tlearn: 95.5693745\ttotal: 222ms\tremaining: 6.85ms\n",
      "97:\tlearn: 95.2588676\ttotal: 224ms\tremaining: 4.57ms\n",
      "98:\tlearn: 94.4453243\ttotal: 226ms\tremaining: 2.28ms\n",
      "99:\tlearn: 93.3089976\ttotal: 228ms\tremaining: 0us\n"
     ]
    },
    {
     "name": "stderr",
     "output_type": "stream",
     "text": [
      "C:\\Users\\admin\\Anaconda3\\lib\\site-packages\\sklearn\\utils\\validation.py:63: DataConversionWarning: A column-vector y was passed when a 1d array was expected. Please change the shape of y to (n_samples, ), for example using ravel().\n",
      "  return f(*args, **kwargs)\n",
      "C:\\Users\\admin\\Anaconda3\\lib\\site-packages\\sklearn\\utils\\validation.py:63: DataConversionWarning: A column-vector y was passed when a 1d array was expected. Please change the shape of y to (n_samples, ), for example using ravel().\n",
      "  return f(*args, **kwargs)\n"
     ]
    }
   ],
   "source": [
    "ls1=[]\n",
    "ls2=[]\n",
    "lr=LinearRegression()\n",
    "dt = ExtraTreesRegressor(random_state=1)\n",
    "gbr = GradientBoostingRegressor(random_state=1)\n",
    "rfr = RandomForestRegressor(random_state=1)\n",
    "ela = ElasticNet(random_state=1)\n",
    "rg = Ridge(random_state=1)\n",
    "las = Lasso(random_state=1)\n",
    "xg = XGBRegressor(random_state=1)\n",
    "cb = CatBoostRegressor(depth = 6, iterations=100, learning_rate=0.1)\n",
    "\n",
    "X_train, X_test, y_train, y_test = train_test_split(X, y, test_size = 0.20, random_state = 0)\n",
    "lr.fit(X_train, y_train)\n",
    "dt.fit(X_train, y_train)\n",
    "gbr.fit(X_train, y_train)\n",
    "rfr.fit(X_train,y_train)\n",
    "ela.fit(X_train, y_train)\n",
    "rg.fit(X_train,y_train)\n",
    "las.fit(X_train,y_train)\n",
    "xg.fit(X_train,y_train)\n",
    "cb.fit(X_train, y_train)\n",
    "ereg1 = VotingRegressor([('xg', xg), ('ela', ela), ('las', las)])\n",
    "ereg1.fit(X_train, y_train)\n",
    "ereg2 = VotingRegressor([('rfr', rfr), ('ela', ela), ('las', las)])\n",
    "ereg2.fit(X_train, y_train)\n",
    "ereg3 = VotingRegressor([('cb', cb), ('ela', ela), ('las', las)])\n",
    "ereg3.fit(X_train, y_train)\n",
    "ereg4 = VotingRegressor([('dt', dt), ('ela', ela), ('las', las)])\n",
    "ereg4.fit(X_train, y_train)\n",
    "ereg5 = VotingRegressor([('gbr', gbr), ('ela', ela), ('las', las)])\n",
    "ereg5.fit(X_train, y_train)\n",
    "    \n",
    "ls1.append(round(mean_absolute_error(y_test, lr.predict(X_test)),3))\n",
    "ls1.append(round(mean_absolute_error(y_test, dt.predict(X_test)),3))\n",
    "ls1.append(round(mean_absolute_error(y_test, gbr.predict(X_test)),3))\n",
    "ls1.append(round(mean_absolute_error(y_test, rfr.predict(X_test)),3))\n",
    "ls1.append(round(mean_absolute_error(y_test, ela.predict(X_test)),3))\n",
    "ls1.append(round(mean_absolute_error(y_test, rg.predict(X_test)),3))\n",
    "ls1.append(round(mean_absolute_error(y_test, las.predict(X_test)),3))\n",
    "ls1.append(round(mean_absolute_error(y_test, xg.predict(X_test)),3))\n",
    "ls1.append(round(mean_absolute_error(y_test, cb.predict(X_test)),3))\n",
    "ls1.append(round(mean_absolute_error(y_test, ereg1.predict(X_test)),3))\n",
    "ls1.append(round(mean_absolute_error(y_test, ereg2.predict(X_test)),3))\n",
    "ls1.append(round(mean_absolute_error(y_test, ereg3.predict(X_test)),3))\n",
    "ls1.append(round(mean_absolute_error(y_test, ereg4.predict(X_test)),3))\n",
    "ls1.append(round(mean_absolute_error(y_test, ereg5.predict(X_test)),3))\n",
    "\n",
    "ls2.append(round(mean_absolute_error(y_train, lr.predict(X_train)),3))\n",
    "ls2.append(round(mean_absolute_error(y_train, dt.predict(X_train)),3))\n",
    "ls2.append(round(mean_absolute_error(y_train, gbr.predict(X_train)),3))\n",
    "ls2.append(round(mean_absolute_error(y_train, rfr.predict(X_train)),3))\n",
    "ls2.append(round(mean_absolute_error(y_train, ela.predict(X_train)),3))\n",
    "ls2.append(round(mean_absolute_error(y_train, rg.predict(X_train)),3))\n",
    "ls2.append(round(mean_absolute_error(y_train, las.predict(X_train)),3))\n",
    "ls2.append(round(mean_absolute_error(y_train, xg.predict(X_train)),3))\n",
    "ls2.append(round(mean_absolute_error(y_train, cb.predict(X_train)),3))\n",
    "ls2.append(round(mean_absolute_error(y_train, ereg1.predict(X_train)),3))\n",
    "ls2.append(round(mean_absolute_error(y_train, ereg2.predict(X_train)),3))\n",
    "ls2.append(round(mean_absolute_error(y_train, ereg3.predict(X_train)),3))\n",
    "ls2.append(round(mean_absolute_error(y_train, ereg4.predict(X_train)),3))\n",
    "ls2.append(round(mean_absolute_error(y_train, ereg5.predict(X_train)),3))\n",
    "\n",
    "ls1 = np.array(ls1)\n",
    "ls1 = ls1.reshape(-1, 14)\n",
    "result_test = pd.DataFrame(ls1, columns=cols1)\n",
    "\n",
    "ls2 = np.array(ls2)\n",
    "ls2 = ls2.reshape(-1, 14)\n",
    "result_train = pd.DataFrame(ls2, columns=cols1)"
   ]
  },
  {
   "cell_type": "code",
   "execution_count": 201,
   "id": "cbc98375-b16a-4e92-a0b5-a4e302818224",
   "metadata": {},
   "outputs": [
    {
     "data": {
      "text/html": [
       "<div>\n",
       "<style scoped>\n",
       "    .dataframe tbody tr th:only-of-type {\n",
       "        vertical-align: middle;\n",
       "    }\n",
       "\n",
       "    .dataframe tbody tr th {\n",
       "        vertical-align: top;\n",
       "    }\n",
       "\n",
       "    .dataframe thead th {\n",
       "        text-align: right;\n",
       "    }\n",
       "</style>\n",
       "<table border=\"1\" class=\"dataframe\">\n",
       "  <thead>\n",
       "    <tr style=\"text-align: right;\">\n",
       "      <th></th>\n",
       "      <th>Linear</th>\n",
       "      <th>ExtraTrees</th>\n",
       "      <th>Gradient</th>\n",
       "      <th>RandomForest</th>\n",
       "      <th>ElasticNet</th>\n",
       "      <th>Ridge</th>\n",
       "      <th>Lasso</th>\n",
       "      <th>XGB</th>\n",
       "      <th>Catboost</th>\n",
       "      <th>Voting1</th>\n",
       "      <th>Voting2</th>\n",
       "      <th>Voting3</th>\n",
       "      <th>Voting4</th>\n",
       "      <th>Voting5</th>\n",
       "    </tr>\n",
       "  </thead>\n",
       "  <tbody>\n",
       "    <tr>\n",
       "      <th>0</th>\n",
       "      <td>106.978</td>\n",
       "      <td>119.77</td>\n",
       "      <td>122.237</td>\n",
       "      <td>116.19</td>\n",
       "      <td>101.579</td>\n",
       "      <td>104.825</td>\n",
       "      <td>99.874</td>\n",
       "      <td>126.388</td>\n",
       "      <td>122.635</td>\n",
       "      <td>100.482</td>\n",
       "      <td>100.299</td>\n",
       "      <td>103.449</td>\n",
       "      <td>97.739</td>\n",
       "      <td>103.653</td>\n",
       "    </tr>\n",
       "  </tbody>\n",
       "</table>\n",
       "</div>"
      ],
      "text/plain": [
       "    Linear  ExtraTrees  Gradient  RandomForest  ElasticNet    Ridge   Lasso  \\\n",
       "0  106.978      119.77   122.237        116.19     101.579  104.825  99.874   \n",
       "\n",
       "       XGB  Catboost  Voting1  Voting2  Voting3  Voting4  Voting5  \n",
       "0  126.388   122.635  100.482  100.299  103.449   97.739  103.653  "
      ]
     },
     "execution_count": 201,
     "metadata": {},
     "output_type": "execute_result"
    }
   ],
   "source": [
    "result_test"
   ]
  },
  {
   "cell_type": "code",
   "execution_count": 202,
   "id": "a3be4717-35cd-41c5-a983-cf63f0367284",
   "metadata": {},
   "outputs": [
    {
     "data": {
      "text/html": [
       "<div>\n",
       "<style scoped>\n",
       "    .dataframe tbody tr th:only-of-type {\n",
       "        vertical-align: middle;\n",
       "    }\n",
       "\n",
       "    .dataframe tbody tr th {\n",
       "        vertical-align: top;\n",
       "    }\n",
       "\n",
       "    .dataframe thead th {\n",
       "        text-align: right;\n",
       "    }\n",
       "</style>\n",
       "<table border=\"1\" class=\"dataframe\">\n",
       "  <thead>\n",
       "    <tr style=\"text-align: right;\">\n",
       "      <th></th>\n",
       "      <th>Linear</th>\n",
       "      <th>ExtraTrees</th>\n",
       "      <th>Gradient</th>\n",
       "      <th>RandomForest</th>\n",
       "      <th>ElasticNet</th>\n",
       "      <th>Ridge</th>\n",
       "      <th>Lasso</th>\n",
       "      <th>XGB</th>\n",
       "      <th>Catboost</th>\n",
       "      <th>Voting1</th>\n",
       "      <th>Voting2</th>\n",
       "      <th>Voting3</th>\n",
       "      <th>Voting4</th>\n",
       "      <th>Voting5</th>\n",
       "    </tr>\n",
       "  </thead>\n",
       "  <tbody>\n",
       "    <tr>\n",
       "      <th>0</th>\n",
       "      <td>103.853</td>\n",
       "      <td>0.0</td>\n",
       "      <td>49.742</td>\n",
       "      <td>44.558</td>\n",
       "      <td>118.74</td>\n",
       "      <td>108.21</td>\n",
       "      <td>110.521</td>\n",
       "      <td>0.327</td>\n",
       "      <td>67.806</td>\n",
       "      <td>75.031</td>\n",
       "      <td>87.66</td>\n",
       "      <td>95.21</td>\n",
       "      <td>74.985</td>\n",
       "      <td>89.965</td>\n",
       "    </tr>\n",
       "  </tbody>\n",
       "</table>\n",
       "</div>"
      ],
      "text/plain": [
       "    Linear  ExtraTrees  Gradient  RandomForest  ElasticNet   Ridge    Lasso  \\\n",
       "0  103.853         0.0    49.742        44.558      118.74  108.21  110.521   \n",
       "\n",
       "     XGB  Catboost  Voting1  Voting2  Voting3  Voting4  Voting5  \n",
       "0  0.327    67.806   75.031    87.66    95.21   74.985   89.965  "
      ]
     },
     "execution_count": 202,
     "metadata": {},
     "output_type": "execute_result"
    }
   ],
   "source": [
    "result_train"
   ]
  },
  {
   "cell_type": "code",
   "execution_count": 910,
   "id": "636883f0-5424-4a50-921f-1a68e6c734d3",
   "metadata": {
    "collapsed": true,
    "jupyter": {
     "outputs_hidden": true
    },
    "tags": []
   },
   "outputs": [
    {
     "data": {
      "text/html": [
       "<div>\n",
       "<style scoped>\n",
       "    .dataframe tbody tr th:only-of-type {\n",
       "        vertical-align: middle;\n",
       "    }\n",
       "\n",
       "    .dataframe tbody tr th {\n",
       "        vertical-align: top;\n",
       "    }\n",
       "\n",
       "    .dataframe thead th {\n",
       "        text-align: right;\n",
       "    }\n",
       "</style>\n",
       "<table border=\"1\" class=\"dataframe\">\n",
       "  <thead>\n",
       "    <tr style=\"text-align: right;\">\n",
       "      <th></th>\n",
       "      <th>X</th>\n",
       "      <th>변수중요도</th>\n",
       "    </tr>\n",
       "  </thead>\n",
       "  <tbody>\n",
       "    <tr>\n",
       "      <th>6</th>\n",
       "      <td>단지내주차면수</td>\n",
       "      <td>0.213751</td>\n",
       "    </tr>\n",
       "    <tr>\n",
       "      <th>27</th>\n",
       "      <td>JKLMNO비율</td>\n",
       "      <td>0.118544</td>\n",
       "    </tr>\n",
       "    <tr>\n",
       "      <th>53</th>\n",
       "      <td>총면적</td>\n",
       "      <td>0.112933</td>\n",
       "    </tr>\n",
       "    <tr>\n",
       "      <th>61</th>\n",
       "      <td>대전광역시</td>\n",
       "      <td>0.112622</td>\n",
       "    </tr>\n",
       "    <tr>\n",
       "      <th>43</th>\n",
       "      <td>70대(남자)</td>\n",
       "      <td>0.094958</td>\n",
       "    </tr>\n",
       "    <tr>\n",
       "      <th>1</th>\n",
       "      <td>아파트비율</td>\n",
       "      <td>0.032990</td>\n",
       "    </tr>\n",
       "    <tr>\n",
       "      <th>28</th>\n",
       "      <td>10대미만(여자)</td>\n",
       "      <td>0.028399</td>\n",
       "    </tr>\n",
       "    <tr>\n",
       "      <th>24</th>\n",
       "      <td>A비율</td>\n",
       "      <td>0.026527</td>\n",
       "    </tr>\n",
       "    <tr>\n",
       "      <th>31</th>\n",
       "      <td>10대(남자)</td>\n",
       "      <td>0.025616</td>\n",
       "    </tr>\n",
       "    <tr>\n",
       "      <th>34</th>\n",
       "      <td>30대(여자)</td>\n",
       "      <td>0.024195</td>\n",
       "    </tr>\n",
       "    <tr>\n",
       "      <th>19</th>\n",
       "      <td>전용면적_80_세대수</td>\n",
       "      <td>0.018889</td>\n",
       "    </tr>\n",
       "    <tr>\n",
       "      <th>10</th>\n",
       "      <td>전용면적_30_세대수</td>\n",
       "      <td>0.018493</td>\n",
       "    </tr>\n",
       "    <tr>\n",
       "      <th>47</th>\n",
       "      <td>90대(남자)</td>\n",
       "      <td>0.014366</td>\n",
       "    </tr>\n",
       "    <tr>\n",
       "      <th>20</th>\n",
       "      <td>초장기비율</td>\n",
       "      <td>0.013872</td>\n",
       "    </tr>\n",
       "    <tr>\n",
       "      <th>14</th>\n",
       "      <td>전용면적_50_세대수</td>\n",
       "      <td>0.012757</td>\n",
       "    </tr>\n",
       "    <tr>\n",
       "      <th>37</th>\n",
       "      <td>40대(남자)</td>\n",
       "      <td>0.012114</td>\n",
       "    </tr>\n",
       "    <tr>\n",
       "      <th>4</th>\n",
       "      <td>지하철역</td>\n",
       "      <td>0.011455</td>\n",
       "    </tr>\n",
       "    <tr>\n",
       "      <th>45</th>\n",
       "      <td>80대(남자)</td>\n",
       "      <td>0.010812</td>\n",
       "    </tr>\n",
       "    <tr>\n",
       "      <th>29</th>\n",
       "      <td>10대미만(남자)</td>\n",
       "      <td>0.010334</td>\n",
       "    </tr>\n",
       "    <tr>\n",
       "      <th>18</th>\n",
       "      <td>전용면적_75_세대수</td>\n",
       "      <td>0.009984</td>\n",
       "    </tr>\n",
       "    <tr>\n",
       "      <th>38</th>\n",
       "      <td>50대(여자)</td>\n",
       "      <td>0.008714</td>\n",
       "    </tr>\n",
       "    <tr>\n",
       "      <th>33</th>\n",
       "      <td>20대(남자)</td>\n",
       "      <td>0.007025</td>\n",
       "    </tr>\n",
       "    <tr>\n",
       "      <th>54</th>\n",
       "      <td>규모별가격</td>\n",
       "      <td>0.006517</td>\n",
       "    </tr>\n",
       "    <tr>\n",
       "      <th>44</th>\n",
       "      <td>80대(여자)</td>\n",
       "      <td>0.006133</td>\n",
       "    </tr>\n",
       "    <tr>\n",
       "      <th>21</th>\n",
       "      <td>장기비율</td>\n",
       "      <td>0.005340</td>\n",
       "    </tr>\n",
       "    <tr>\n",
       "      <th>12</th>\n",
       "      <td>전용면적_40_세대수</td>\n",
       "      <td>0.005099</td>\n",
       "    </tr>\n",
       "    <tr>\n",
       "      <th>3</th>\n",
       "      <td>공가수</td>\n",
       "      <td>0.003866</td>\n",
       "    </tr>\n",
       "    <tr>\n",
       "      <th>11</th>\n",
       "      <td>전용면적_35_세대수</td>\n",
       "      <td>0.003474</td>\n",
       "    </tr>\n",
       "    <tr>\n",
       "      <th>0</th>\n",
       "      <td>총세대수</td>\n",
       "      <td>0.003452</td>\n",
       "    </tr>\n",
       "    <tr>\n",
       "      <th>32</th>\n",
       "      <td>20대(여자)</td>\n",
       "      <td>0.003282</td>\n",
       "    </tr>\n",
       "    <tr>\n",
       "      <th>35</th>\n",
       "      <td>30대(남자)</td>\n",
       "      <td>0.003163</td>\n",
       "    </tr>\n",
       "    <tr>\n",
       "      <th>15</th>\n",
       "      <td>전용면적_55_세대수</td>\n",
       "      <td>0.002648</td>\n",
       "    </tr>\n",
       "    <tr>\n",
       "      <th>13</th>\n",
       "      <td>전용면적_45_세대수</td>\n",
       "      <td>0.002405</td>\n",
       "    </tr>\n",
       "    <tr>\n",
       "      <th>5</th>\n",
       "      <td>버스정류장</td>\n",
       "      <td>0.002348</td>\n",
       "    </tr>\n",
       "    <tr>\n",
       "      <th>17</th>\n",
       "      <td>전용면적_70_세대수</td>\n",
       "      <td>0.002007</td>\n",
       "    </tr>\n",
       "    <tr>\n",
       "      <th>30</th>\n",
       "      <td>10대(여자)</td>\n",
       "      <td>0.001786</td>\n",
       "    </tr>\n",
       "    <tr>\n",
       "      <th>9</th>\n",
       "      <td>전용면적_25_세대수</td>\n",
       "      <td>0.001390</td>\n",
       "    </tr>\n",
       "    <tr>\n",
       "      <th>36</th>\n",
       "      <td>40대(여자)</td>\n",
       "      <td>0.001235</td>\n",
       "    </tr>\n",
       "    <tr>\n",
       "      <th>8</th>\n",
       "      <td>전용면적_20_세대수</td>\n",
       "      <td>0.000856</td>\n",
       "    </tr>\n",
       "    <tr>\n",
       "      <th>50</th>\n",
       "      <td>1인당자동차</td>\n",
       "      <td>0.000728</td>\n",
       "    </tr>\n",
       "    <tr>\n",
       "      <th>48</th>\n",
       "      <td>100대(여자)</td>\n",
       "      <td>0.000626</td>\n",
       "    </tr>\n",
       "    <tr>\n",
       "      <th>51</th>\n",
       "      <td>연면적</td>\n",
       "      <td>0.000609</td>\n",
       "    </tr>\n",
       "    <tr>\n",
       "      <th>25</th>\n",
       "      <td>ACEFI비율</td>\n",
       "      <td>0.000559</td>\n",
       "    </tr>\n",
       "    <tr>\n",
       "      <th>39</th>\n",
       "      <td>50대(남자)</td>\n",
       "      <td>0.000538</td>\n",
       "    </tr>\n",
       "    <tr>\n",
       "      <th>22</th>\n",
       "      <td>단기비율</td>\n",
       "      <td>0.000525</td>\n",
       "    </tr>\n",
       "    <tr>\n",
       "      <th>49</th>\n",
       "      <td>100대(남자)</td>\n",
       "      <td>0.000417</td>\n",
       "    </tr>\n",
       "    <tr>\n",
       "      <th>46</th>\n",
       "      <td>90대(여자)</td>\n",
       "      <td>0.000394</td>\n",
       "    </tr>\n",
       "    <tr>\n",
       "      <th>40</th>\n",
       "      <td>60대(여자)</td>\n",
       "      <td>0.000386</td>\n",
       "    </tr>\n",
       "    <tr>\n",
       "      <th>42</th>\n",
       "      <td>70대(여자)</td>\n",
       "      <td>0.000319</td>\n",
       "    </tr>\n",
       "    <tr>\n",
       "      <th>52</th>\n",
       "      <td>평균분양가격</td>\n",
       "      <td>0.000269</td>\n",
       "    </tr>\n",
       "    <tr>\n",
       "      <th>7</th>\n",
       "      <td>전용면적_15_세대수</td>\n",
       "      <td>0.000254</td>\n",
       "    </tr>\n",
       "    <tr>\n",
       "      <th>68</th>\n",
       "      <td>충청남도</td>\n",
       "      <td>0.000013</td>\n",
       "    </tr>\n",
       "    <tr>\n",
       "      <th>16</th>\n",
       "      <td>전용면적_60_세대수</td>\n",
       "      <td>0.000009</td>\n",
       "    </tr>\n",
       "    <tr>\n",
       "      <th>41</th>\n",
       "      <td>60대(남자)</td>\n",
       "      <td>0.000005</td>\n",
       "    </tr>\n",
       "    <tr>\n",
       "      <th>65</th>\n",
       "      <td>전라남도</td>\n",
       "      <td>0.000000</td>\n",
       "    </tr>\n",
       "    <tr>\n",
       "      <th>63</th>\n",
       "      <td>세종특별자치시</td>\n",
       "      <td>0.000000</td>\n",
       "    </tr>\n",
       "    <tr>\n",
       "      <th>64</th>\n",
       "      <td>울산광역시</td>\n",
       "      <td>0.000000</td>\n",
       "    </tr>\n",
       "    <tr>\n",
       "      <th>67</th>\n",
       "      <td>제주특별자치도</td>\n",
       "      <td>0.000000</td>\n",
       "    </tr>\n",
       "    <tr>\n",
       "      <th>66</th>\n",
       "      <td>전라북도</td>\n",
       "      <td>0.000000</td>\n",
       "    </tr>\n",
       "    <tr>\n",
       "      <th>2</th>\n",
       "      <td>상가비율</td>\n",
       "      <td>0.000000</td>\n",
       "    </tr>\n",
       "    <tr>\n",
       "      <th>62</th>\n",
       "      <td>부산광역시</td>\n",
       "      <td>0.000000</td>\n",
       "    </tr>\n",
       "    <tr>\n",
       "      <th>55</th>\n",
       "      <td>강원도</td>\n",
       "      <td>0.000000</td>\n",
       "    </tr>\n",
       "    <tr>\n",
       "      <th>60</th>\n",
       "      <td>대구광역시</td>\n",
       "      <td>0.000000</td>\n",
       "    </tr>\n",
       "    <tr>\n",
       "      <th>59</th>\n",
       "      <td>광주광역시</td>\n",
       "      <td>0.000000</td>\n",
       "    </tr>\n",
       "    <tr>\n",
       "      <th>58</th>\n",
       "      <td>경상북도</td>\n",
       "      <td>0.000000</td>\n",
       "    </tr>\n",
       "    <tr>\n",
       "      <th>57</th>\n",
       "      <td>경상남도</td>\n",
       "      <td>0.000000</td>\n",
       "    </tr>\n",
       "    <tr>\n",
       "      <th>56</th>\n",
       "      <td>경기도</td>\n",
       "      <td>0.000000</td>\n",
       "    </tr>\n",
       "    <tr>\n",
       "      <th>26</th>\n",
       "      <td>D비율</td>\n",
       "      <td>0.000000</td>\n",
       "    </tr>\n",
       "    <tr>\n",
       "      <th>23</th>\n",
       "      <td>ABEGH비율</td>\n",
       "      <td>0.000000</td>\n",
       "    </tr>\n",
       "    <tr>\n",
       "      <th>69</th>\n",
       "      <td>충청북도</td>\n",
       "      <td>0.000000</td>\n",
       "    </tr>\n",
       "  </tbody>\n",
       "</table>\n",
       "</div>"
      ],
      "text/plain": [
       "              X     변수중요도\n",
       "6       단지내주차면수  0.213751\n",
       "27     JKLMNO비율  0.118544\n",
       "53          총면적  0.112933\n",
       "61        대전광역시  0.112622\n",
       "43      70대(남자)  0.094958\n",
       "1         아파트비율  0.032990\n",
       "28    10대미만(여자)  0.028399\n",
       "24          A비율  0.026527\n",
       "31      10대(남자)  0.025616\n",
       "34      30대(여자)  0.024195\n",
       "19  전용면적_80_세대수  0.018889\n",
       "10  전용면적_30_세대수  0.018493\n",
       "47      90대(남자)  0.014366\n",
       "20        초장기비율  0.013872\n",
       "14  전용면적_50_세대수  0.012757\n",
       "37      40대(남자)  0.012114\n",
       "4          지하철역  0.011455\n",
       "45      80대(남자)  0.010812\n",
       "29    10대미만(남자)  0.010334\n",
       "18  전용면적_75_세대수  0.009984\n",
       "38      50대(여자)  0.008714\n",
       "33      20대(남자)  0.007025\n",
       "54        규모별가격  0.006517\n",
       "44      80대(여자)  0.006133\n",
       "21         장기비율  0.005340\n",
       "12  전용면적_40_세대수  0.005099\n",
       "3           공가수  0.003866\n",
       "11  전용면적_35_세대수  0.003474\n",
       "0          총세대수  0.003452\n",
       "32      20대(여자)  0.003282\n",
       "35      30대(남자)  0.003163\n",
       "15  전용면적_55_세대수  0.002648\n",
       "13  전용면적_45_세대수  0.002405\n",
       "5         버스정류장  0.002348\n",
       "17  전용면적_70_세대수  0.002007\n",
       "30      10대(여자)  0.001786\n",
       "9   전용면적_25_세대수  0.001390\n",
       "36      40대(여자)  0.001235\n",
       "8   전용면적_20_세대수  0.000856\n",
       "50       1인당자동차  0.000728\n",
       "48     100대(여자)  0.000626\n",
       "51          연면적  0.000609\n",
       "25      ACEFI비율  0.000559\n",
       "39      50대(남자)  0.000538\n",
       "22         단기비율  0.000525\n",
       "49     100대(남자)  0.000417\n",
       "46      90대(여자)  0.000394\n",
       "40      60대(여자)  0.000386\n",
       "42      70대(여자)  0.000319\n",
       "52       평균분양가격  0.000269\n",
       "7   전용면적_15_세대수  0.000254\n",
       "68         충청남도  0.000013\n",
       "16  전용면적_60_세대수  0.000009\n",
       "41      60대(남자)  0.000005\n",
       "65         전라남도  0.000000\n",
       "63      세종특별자치시  0.000000\n",
       "64        울산광역시  0.000000\n",
       "67      제주특별자치도  0.000000\n",
       "66         전라북도  0.000000\n",
       "2          상가비율  0.000000\n",
       "62        부산광역시  0.000000\n",
       "55          강원도  0.000000\n",
       "60        대구광역시  0.000000\n",
       "59        광주광역시  0.000000\n",
       "58         경상북도  0.000000\n",
       "57         경상남도  0.000000\n",
       "56          경기도  0.000000\n",
       "26          D비율  0.000000\n",
       "23      ABEGH비율  0.000000\n",
       "69         충청북도  0.000000"
      ]
     },
     "execution_count": 910,
     "metadata": {},
     "output_type": "execute_result"
    }
   ],
   "source": [
    "feature_df = pd.DataFrame({'X' : X.columns, '변수중요도':xg.feature_importances_})\n",
    "feature_df.sort_values('변수중요도', ascending=False)"
   ]
  },
  {
   "cell_type": "code",
   "execution_count": 926,
   "id": "f24c8cd9-8be1-4d09-b140-d77ea73b240e",
   "metadata": {},
   "outputs": [
    {
     "name": "stdout",
     "output_type": "stream",
     "text": [
      "저장완료\n"
     ]
    }
   ],
   "source": [
    "with open('model_ereg1_ratio_count.pickle', 'wb') as fp:\n",
    "    pickle.dump(ereg1, fp)\n",
    "print('저장완료')"
   ]
  },
  {
   "cell_type": "code",
   "execution_count": null,
   "id": "881a9ce3-58c4-401d-9607-c7782b8caee5",
   "metadata": {},
   "outputs": [],
   "source": []
  }
 ],
 "metadata": {
  "kernelspec": {
   "display_name": "Python 3",
   "language": "python",
   "name": "python3"
  },
  "language_info": {
   "codemirror_mode": {
    "name": "ipython",
    "version": 3
   },
   "file_extension": ".py",
   "mimetype": "text/x-python",
   "name": "python",
   "nbconvert_exporter": "python",
   "pygments_lexer": "ipython3",
   "version": "3.7.4"
  }
 },
 "nbformat": 4,
 "nbformat_minor": 5
}
