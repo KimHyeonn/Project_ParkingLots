{
 "cells": [
  {
   "cell_type": "markdown",
   "id": "2320627b-6982-432f-847e-74e483e373ac",
   "metadata": {},
   "source": [
    "# - 준비물 : 전처리가 끝난 train, test data"
   ]
  },
  {
   "cell_type": "markdown",
   "id": "bd400b74-d235-4b75-921b-dc300a6893f1",
   "metadata": {},
   "source": [
    "## 1. 데이터 불러오기"
   ]
  },
  {
   "cell_type": "code",
   "execution_count": 209,
   "id": "68ba3657-639b-4396-a842-c37e0c025225",
   "metadata": {},
   "outputs": [],
   "source": [
    "df = pd.read_csv('data/train_ratio.csv') #비율만 넣은 train data"
   ]
  },
  {
   "cell_type": "code",
   "execution_count": 210,
   "id": "49674910-cc4f-4cab-bc5d-43c49087ea95",
   "metadata": {},
   "outputs": [
    {
     "name": "stdout",
     "output_type": "stream",
     "text": [
      "pandas version:  1.3.0\n"
     ]
    }
   ],
   "source": [
    "print(\"pandas version: \", pd.__version__)\n",
    "pd.set_option('display.max_row', 100)\n",
    "pd.set_option('display.max_columns', 85)"
   ]
  },
  {
   "cell_type": "markdown",
   "id": "78d795b4-d152-48f3-9c2f-1b40dc3aabc6",
   "metadata": {},
   "source": [
    "## 2. 필요 모듈 불러오기"
   ]
  },
  {
   "cell_type": "code",
   "execution_count": 211,
   "id": "8ac333fe-6722-4979-be15-5f70b687811f",
   "metadata": {},
   "outputs": [],
   "source": [
    "from sklearn.linear_model import LinearRegression   ## 회귀 분석\n",
    "from sklearn.svm import SVC                         ## svm 분류모델\n",
    "from sklearn.tree import DecisionTreeClassifier     ## Tree 분류모델\n",
    "from sklearn.ensemble import RandomForestClassifier ## RandomForet\n",
    "from sklearn.linear_model import LogisticRegression ## Logistic Regression\n",
    "from sklearn.ensemble import RandomForestRegressor  ## RandomForet \n",
    "from sklearn.model_selection import train_test_split\n",
    "from sklearn.linear_model import LinearRegression, Ridge, Lasso, ElasticNet\n",
    "import statsmodels.api as sm\n",
    "from sklearn.metrics import mean_absolute_error\n",
    "from xgboost import XGBRegressor\n",
    "from sklearn.ensemble import GradientBoostingRegressor\n",
    "from sklearn.model_selection import GridSearchCV\n",
    "from sklearn.model_selection import KFold\n",
    "from catboost import CatBoostRegressor\n",
    "from sklearn.ensemble import ExtraTreesRegressor\n",
    "from sklearn.ensemble import AdaBoostRegressor \n",
    "from sklearn.svm import SVR\n",
    "from lightgbm import LGBMRegressor\n",
    "from sklearn.ensemble import StackingRegressor\n",
    "import pickle\n",
    "from sklearn.ensemble import VotingRegressor"
   ]
  },
  {
   "cell_type": "markdown",
   "id": "15e56655-7072-4170-8eff-3f779b135686",
   "metadata": {},
   "source": [
    "## 3. X, y"
   ]
  },
  {
   "cell_type": "code",
   "execution_count": 187,
   "id": "83d1a23f-cc81-4d55-8475-386ef7045752",
   "metadata": {},
   "outputs": [],
   "source": [
    "# 데이콘용 모델 생성시 포함\n",
    "# df = df.drop('전용면적_65_세대수', axis=1)\n",
    "# df = df.drop('서울특별시', axis=1)"
   ]
  },
  {
   "cell_type": "code",
   "execution_count": 212,
   "id": "578df253-0ab9-43e3-aa01-c4394df1a890",
   "metadata": {},
   "outputs": [],
   "source": [
    "x = df.columns.difference(['등록차량수'], sort=False).difference(['단지코드'], sort=False)\n",
    "X= df[x]\n",
    "y = pd.DataFrame(df['등록차량수'])"
   ]
  },
  {
   "cell_type": "code",
   "execution_count": 213,
   "id": "a816f536-065b-45d4-8951-73dea33a9a91",
   "metadata": {},
   "outputs": [],
   "source": [
    "X_train, X_test, y_train, y_test = train_test_split(X, y, test_size = 0.2, random_state = 0)"
   ]
  },
  {
   "cell_type": "markdown",
   "id": "dc87bb21-9f74-44db-8549-4cab1169335c",
   "metadata": {},
   "source": [
    "## 4. 모델링"
   ]
  },
  {
   "cell_type": "code",
   "execution_count": 214,
   "id": "a020a8ed-81b3-44e9-9840-87d0429a6dd7",
   "metadata": {},
   "outputs": [],
   "source": [
    "cols1 = ['Linear', 'ExtraTrees', 'Gradient', 'RandomForest', 'ElasticNet', 'Ridge', 'Lasso', 'XGB', 'Catboost', 'Voting1', 'Voting2', 'Voting3', 'Voting4', 'Voting5']"
   ]
  },
  {
   "cell_type": "code",
   "execution_count": 215,
   "id": "b7749b7a-1f62-4b8c-8294-35cc9d6cdec4",
   "metadata": {
    "collapsed": true,
    "jupyter": {
     "outputs_hidden": true
    },
    "tags": []
   },
   "outputs": [
    {
     "name": "stderr",
     "output_type": "stream",
     "text": [
      "C:\\Users\\admin\\Anaconda3\\lib\\site-packages\\ipykernel_launcher.py:15: DataConversionWarning: A column-vector y was passed when a 1d array was expected. Please change the shape of y to (n_samples,), for example using ravel().\n",
      "  from ipykernel import kernelapp as app\n",
      "C:\\Users\\admin\\Anaconda3\\lib\\site-packages\\sklearn\\utils\\validation.py:63: DataConversionWarning: A column-vector y was passed when a 1d array was expected. Please change the shape of y to (n_samples, ), for example using ravel().\n",
      "  return f(*args, **kwargs)\n",
      "C:\\Users\\admin\\Anaconda3\\lib\\site-packages\\ipykernel_launcher.py:17: DataConversionWarning: A column-vector y was passed when a 1d array was expected. Please change the shape of y to (n_samples,), for example using ravel().\n",
      "C:\\Users\\admin\\Anaconda3\\lib\\site-packages\\sklearn\\linear_model\\_coordinate_descent.py:532: ConvergenceWarning: Objective did not converge. You might want to increase the number of iterations. Duality gap: 3717299.9570091013, tolerance: 4820.225437804878\n",
      "  positive)\n",
      "C:\\Users\\admin\\Anaconda3\\lib\\site-packages\\sklearn\\linear_model\\_ridge.py:148: LinAlgWarning: Ill-conditioned matrix (rcond=4.05166e-19): result may not be accurate.\n",
      "  overwrite_a=True).T\n",
      "C:\\Users\\admin\\Anaconda3\\lib\\site-packages\\sklearn\\linear_model\\_coordinate_descent.py:532: ConvergenceWarning: Objective did not converge. You might want to increase the number of iterations. Duality gap: 3843794.5544773247, tolerance: 4820.225437804878\n",
      "  positive)\n"
     ]
    },
    {
     "name": "stdout",
     "output_type": "stream",
     "text": [
      "0:\tlearn: 363.8116887\ttotal: 13.4ms\tremaining: 1.32s\n",
      "1:\tlearn: 343.9088762\ttotal: 15.4ms\tremaining: 757ms\n",
      "2:\tlearn: 330.8736390\ttotal: 17.6ms\tremaining: 570ms\n",
      "3:\tlearn: 315.5458023\ttotal: 19.7ms\tremaining: 472ms\n",
      "4:\tlearn: 300.8813646\ttotal: 21.7ms\tremaining: 412ms\n",
      "5:\tlearn: 288.1172890\ttotal: 23.9ms\tremaining: 374ms\n",
      "6:\tlearn: 276.0534149\ttotal: 26ms\tremaining: 346ms\n",
      "7:\tlearn: 266.3020749\ttotal: 28.2ms\tremaining: 324ms\n",
      "8:\tlearn: 256.2825273\ttotal: 30.4ms\tremaining: 307ms\n",
      "9:\tlearn: 245.3927606\ttotal: 32.7ms\tremaining: 294ms\n",
      "10:\tlearn: 237.6862137\ttotal: 34.6ms\tremaining: 280ms\n",
      "11:\tlearn: 229.7963052\ttotal: 36.5ms\tremaining: 268ms\n",
      "12:\tlearn: 224.3471188\ttotal: 38.4ms\tremaining: 257ms\n",
      "13:\tlearn: 219.7292306\ttotal: 40.3ms\tremaining: 248ms\n",
      "14:\tlearn: 213.8093874\ttotal: 42.2ms\tremaining: 239ms\n",
      "15:\tlearn: 207.9150870\ttotal: 44.2ms\tremaining: 232ms\n",
      "16:\tlearn: 201.2004415\ttotal: 46.3ms\tremaining: 226ms\n",
      "17:\tlearn: 197.1704283\ttotal: 48.2ms\tremaining: 220ms\n",
      "18:\tlearn: 193.1384521\ttotal: 50.3ms\tremaining: 214ms\n",
      "19:\tlearn: 188.1337701\ttotal: 52.4ms\tremaining: 210ms\n",
      "20:\tlearn: 184.6193244\ttotal: 54.3ms\tremaining: 204ms\n",
      "21:\tlearn: 181.3208482\ttotal: 56.2ms\tremaining: 199ms\n",
      "22:\tlearn: 179.7306846\ttotal: 58.1ms\tremaining: 195ms\n",
      "23:\tlearn: 175.8681325\ttotal: 60ms\tremaining: 190ms\n",
      "24:\tlearn: 173.6499166\ttotal: 62.1ms\tremaining: 186ms\n",
      "25:\tlearn: 170.8947555\ttotal: 64ms\tremaining: 182ms\n",
      "26:\tlearn: 167.5388173\ttotal: 66ms\tremaining: 178ms\n",
      "27:\tlearn: 164.2967226\ttotal: 67.8ms\tremaining: 174ms\n",
      "28:\tlearn: 161.9727714\ttotal: 69.7ms\tremaining: 171ms\n",
      "29:\tlearn: 159.4755119\ttotal: 71.9ms\tremaining: 168ms\n",
      "30:\tlearn: 156.6480088\ttotal: 73.6ms\tremaining: 164ms\n",
      "31:\tlearn: 153.8933907\ttotal: 75.7ms\tremaining: 161ms\n",
      "32:\tlearn: 152.0735942\ttotal: 77.8ms\tremaining: 158ms\n",
      "33:\tlearn: 150.1061484\ttotal: 79.7ms\tremaining: 155ms\n",
      "34:\tlearn: 148.3480986\ttotal: 81.7ms\tremaining: 152ms\n",
      "35:\tlearn: 146.1883299\ttotal: 83.4ms\tremaining: 148ms\n",
      "36:\tlearn: 144.8781004\ttotal: 85.2ms\tremaining: 145ms\n",
      "37:\tlearn: 143.1579591\ttotal: 87.1ms\tremaining: 142ms\n",
      "38:\tlearn: 142.2295031\ttotal: 89.1ms\tremaining: 139ms\n",
      "39:\tlearn: 140.1526543\ttotal: 91ms\tremaining: 136ms\n",
      "40:\tlearn: 138.5321755\ttotal: 92.9ms\tremaining: 134ms\n",
      "41:\tlearn: 137.6947754\ttotal: 94.7ms\tremaining: 131ms\n",
      "42:\tlearn: 136.1594053\ttotal: 96.7ms\tremaining: 128ms\n",
      "43:\tlearn: 135.2825550\ttotal: 98.6ms\tremaining: 125ms\n",
      "44:\tlearn: 134.6817530\ttotal: 100ms\tremaining: 123ms\n",
      "45:\tlearn: 134.0023470\ttotal: 102ms\tremaining: 120ms\n",
      "46:\tlearn: 132.9734145\ttotal: 104ms\tremaining: 117ms\n",
      "47:\tlearn: 131.4679957\ttotal: 106ms\tremaining: 115ms\n",
      "48:\tlearn: 130.8937645\ttotal: 108ms\tremaining: 112ms\n",
      "49:\tlearn: 129.4553386\ttotal: 110ms\tremaining: 110ms\n",
      "50:\tlearn: 128.0381762\ttotal: 112ms\tremaining: 107ms\n",
      "51:\tlearn: 127.2084990\ttotal: 113ms\tremaining: 105ms\n",
      "52:\tlearn: 125.3691994\ttotal: 115ms\tremaining: 102ms\n",
      "53:\tlearn: 124.5330046\ttotal: 117ms\tremaining: 99.8ms\n",
      "54:\tlearn: 123.2451640\ttotal: 119ms\tremaining: 97.5ms\n",
      "55:\tlearn: 122.7469585\ttotal: 121ms\tremaining: 95.1ms\n",
      "56:\tlearn: 121.6145008\ttotal: 123ms\tremaining: 92.8ms\n",
      "57:\tlearn: 120.6829426\ttotal: 125ms\tremaining: 90.4ms\n",
      "58:\tlearn: 120.2890733\ttotal: 127ms\tremaining: 88.1ms\n",
      "59:\tlearn: 119.6831380\ttotal: 129ms\tremaining: 85.7ms\n",
      "60:\tlearn: 118.9619742\ttotal: 130ms\tremaining: 83.4ms\n",
      "61:\tlearn: 118.4479440\ttotal: 132ms\tremaining: 81ms\n",
      "62:\tlearn: 117.8299642\ttotal: 134ms\tremaining: 78.8ms\n",
      "63:\tlearn: 117.3266624\ttotal: 136ms\tremaining: 76.5ms\n",
      "64:\tlearn: 116.3859741\ttotal: 138ms\tremaining: 74.2ms\n",
      "65:\tlearn: 115.6303263\ttotal: 140ms\tremaining: 72ms\n",
      "66:\tlearn: 115.2538304\ttotal: 142ms\tremaining: 69.8ms\n",
      "67:\tlearn: 114.0932012\ttotal: 143ms\tremaining: 67.5ms\n",
      "68:\tlearn: 113.6880047\ttotal: 145ms\tremaining: 65.3ms\n",
      "69:\tlearn: 113.1883398\ttotal: 147ms\tremaining: 63.1ms\n",
      "70:\tlearn: 112.7699664\ttotal: 149ms\tremaining: 60.9ms\n",
      "71:\tlearn: 111.5770050\ttotal: 151ms\tremaining: 58.7ms\n",
      "72:\tlearn: 111.1841857\ttotal: 153ms\tremaining: 56.5ms\n",
      "73:\tlearn: 110.6538788\ttotal: 155ms\tremaining: 54.3ms\n",
      "74:\tlearn: 110.1135486\ttotal: 157ms\tremaining: 52.2ms\n",
      "75:\tlearn: 109.1482991\ttotal: 158ms\tremaining: 50ms\n",
      "76:\tlearn: 108.6942341\ttotal: 160ms\tremaining: 47.9ms\n",
      "77:\tlearn: 108.2677404\ttotal: 162ms\tremaining: 45.7ms\n",
      "78:\tlearn: 107.9713796\ttotal: 164ms\tremaining: 43.6ms\n",
      "79:\tlearn: 107.5710496\ttotal: 166ms\tremaining: 41.6ms\n",
      "80:\tlearn: 106.6601324\ttotal: 169ms\tremaining: 39.6ms\n",
      "81:\tlearn: 105.2710755\ttotal: 171ms\tremaining: 37.5ms\n",
      "82:\tlearn: 104.9256599\ttotal: 173ms\tremaining: 35.4ms\n",
      "83:\tlearn: 103.8067136\ttotal: 175ms\tremaining: 33.3ms\n",
      "84:\tlearn: 102.9671903\ttotal: 177ms\tremaining: 31.2ms\n",
      "85:\tlearn: 101.6558042\ttotal: 179ms\tremaining: 29.1ms\n",
      "86:\tlearn: 100.3389979\ttotal: 181ms\tremaining: 27ms\n",
      "87:\tlearn: 100.0137775\ttotal: 183ms\tremaining: 24.9ms\n",
      "88:\tlearn: 99.7288464\ttotal: 184ms\tremaining: 22.8ms\n",
      "89:\tlearn: 98.3247811\ttotal: 186ms\tremaining: 20.7ms\n",
      "90:\tlearn: 97.2951413\ttotal: 188ms\tremaining: 18.6ms\n",
      "91:\tlearn: 96.3339297\ttotal: 190ms\tremaining: 16.5ms\n",
      "92:\tlearn: 96.1032561\ttotal: 192ms\tremaining: 14.4ms\n",
      "93:\tlearn: 95.6999865\ttotal: 194ms\tremaining: 12.4ms\n",
      "94:\tlearn: 94.7249730\ttotal: 197ms\tremaining: 10.3ms\n",
      "95:\tlearn: 94.1041805\ttotal: 199ms\tremaining: 8.28ms\n",
      "96:\tlearn: 93.8889828\ttotal: 201ms\tremaining: 6.21ms\n",
      "97:\tlearn: 92.9584370\ttotal: 203ms\tremaining: 4.15ms\n",
      "98:\tlearn: 92.3553467\ttotal: 205ms\tremaining: 2.07ms\n",
      "99:\tlearn: 91.8393303\ttotal: 208ms\tremaining: 0us\n"
     ]
    },
    {
     "name": "stderr",
     "output_type": "stream",
     "text": [
      "C:\\Users\\admin\\Anaconda3\\lib\\site-packages\\sklearn\\utils\\validation.py:63: DataConversionWarning: A column-vector y was passed when a 1d array was expected. Please change the shape of y to (n_samples, ), for example using ravel().\n",
      "  return f(*args, **kwargs)\n",
      "C:\\Users\\admin\\Anaconda3\\lib\\site-packages\\sklearn\\linear_model\\_coordinate_descent.py:532: ConvergenceWarning: Objective did not converge. You might want to increase the number of iterations. Duality gap: 3717299.9570091013, tolerance: 4820.225437804878\n",
      "  positive)\n",
      "C:\\Users\\admin\\Anaconda3\\lib\\site-packages\\sklearn\\linear_model\\_coordinate_descent.py:532: ConvergenceWarning: Objective did not converge. You might want to increase the number of iterations. Duality gap: 3843794.5544773247, tolerance: 4820.225437804878\n",
      "  positive)\n",
      "C:\\Users\\admin\\Anaconda3\\lib\\site-packages\\sklearn\\utils\\validation.py:63: DataConversionWarning: A column-vector y was passed when a 1d array was expected. Please change the shape of y to (n_samples, ), for example using ravel().\n",
      "  return f(*args, **kwargs)\n",
      "C:\\Users\\admin\\Anaconda3\\lib\\site-packages\\sklearn\\linear_model\\_coordinate_descent.py:532: ConvergenceWarning: Objective did not converge. You might want to increase the number of iterations. Duality gap: 3717299.9570091013, tolerance: 4820.225437804878\n",
      "  positive)\n",
      "C:\\Users\\admin\\Anaconda3\\lib\\site-packages\\sklearn\\linear_model\\_coordinate_descent.py:532: ConvergenceWarning: Objective did not converge. You might want to increase the number of iterations. Duality gap: 3843794.5544773247, tolerance: 4820.225437804878\n",
      "  positive)\n",
      "C:\\Users\\admin\\Anaconda3\\lib\\site-packages\\sklearn\\utils\\validation.py:63: DataConversionWarning: A column-vector y was passed when a 1d array was expected. Please change the shape of y to (n_samples, ), for example using ravel().\n",
      "  return f(*args, **kwargs)\n"
     ]
    },
    {
     "name": "stdout",
     "output_type": "stream",
     "text": [
      "0:\tlearn: 363.8116887\ttotal: 14.1ms\tremaining: 1.4s\n",
      "1:\tlearn: 343.9088762\ttotal: 16.7ms\tremaining: 819ms\n",
      "2:\tlearn: 330.8736390\ttotal: 18.8ms\tremaining: 607ms\n",
      "3:\tlearn: 315.5458023\ttotal: 21ms\tremaining: 503ms\n",
      "4:\tlearn: 300.8813646\ttotal: 23.1ms\tremaining: 438ms\n",
      "5:\tlearn: 288.1172890\ttotal: 25ms\tremaining: 392ms\n",
      "6:\tlearn: 276.0534149\ttotal: 27.2ms\tremaining: 361ms\n",
      "7:\tlearn: 266.3020749\ttotal: 29.3ms\tremaining: 337ms\n",
      "8:\tlearn: 256.2825273\ttotal: 31.3ms\tremaining: 317ms\n",
      "9:\tlearn: 245.3927606\ttotal: 33.4ms\tremaining: 301ms\n",
      "10:\tlearn: 237.6862137\ttotal: 35.8ms\tremaining: 290ms\n",
      "11:\tlearn: 229.7963052\ttotal: 38.1ms\tremaining: 279ms\n",
      "12:\tlearn: 224.3471188\ttotal: 40.1ms\tremaining: 268ms\n",
      "13:\tlearn: 219.7292306\ttotal: 42.3ms\tremaining: 260ms\n",
      "14:\tlearn: 213.8093874\ttotal: 44.5ms\tremaining: 252ms\n",
      "15:\tlearn: 207.9150870\ttotal: 46.6ms\tremaining: 245ms\n",
      "16:\tlearn: 201.2004415\ttotal: 48.8ms\tremaining: 238ms\n",
      "17:\tlearn: 197.1704283\ttotal: 50.9ms\tremaining: 232ms\n",
      "18:\tlearn: 193.1384521\ttotal: 53ms\tremaining: 226ms\n",
      "19:\tlearn: 188.1337701\ttotal: 54.9ms\tremaining: 220ms\n",
      "20:\tlearn: 184.6193244\ttotal: 57.1ms\tremaining: 215ms\n",
      "21:\tlearn: 181.3208482\ttotal: 59.1ms\tremaining: 210ms\n",
      "22:\tlearn: 179.7306846\ttotal: 61.1ms\tremaining: 205ms\n",
      "23:\tlearn: 175.8681325\ttotal: 63.2ms\tremaining: 200ms\n",
      "24:\tlearn: 173.6499166\ttotal: 65.1ms\tremaining: 195ms\n",
      "25:\tlearn: 170.8947555\ttotal: 67.2ms\tremaining: 191ms\n",
      "26:\tlearn: 167.5388173\ttotal: 69.3ms\tremaining: 187ms\n",
      "27:\tlearn: 164.2967226\ttotal: 71.7ms\tremaining: 184ms\n",
      "28:\tlearn: 161.9727714\ttotal: 73.8ms\tremaining: 181ms\n",
      "29:\tlearn: 159.4755119\ttotal: 76.1ms\tremaining: 177ms\n",
      "30:\tlearn: 156.6480088\ttotal: 78.1ms\tremaining: 174ms\n",
      "31:\tlearn: 153.8933907\ttotal: 80ms\tremaining: 170ms\n",
      "32:\tlearn: 152.0735942\ttotal: 82.1ms\tremaining: 167ms\n",
      "33:\tlearn: 150.1061484\ttotal: 84ms\tremaining: 163ms\n",
      "34:\tlearn: 148.3480986\ttotal: 86ms\tremaining: 160ms\n",
      "35:\tlearn: 146.1883299\ttotal: 88.2ms\tremaining: 157ms\n",
      "36:\tlearn: 144.8781004\ttotal: 90.3ms\tremaining: 154ms\n",
      "37:\tlearn: 143.1579591\ttotal: 92.3ms\tremaining: 151ms\n",
      "38:\tlearn: 142.2295031\ttotal: 94.4ms\tremaining: 148ms\n",
      "39:\tlearn: 140.1526543\ttotal: 96.5ms\tremaining: 145ms\n",
      "40:\tlearn: 138.5321755\ttotal: 98.6ms\tremaining: 142ms\n",
      "41:\tlearn: 137.6947754\ttotal: 101ms\tremaining: 139ms\n",
      "42:\tlearn: 136.1594053\ttotal: 103ms\tremaining: 136ms\n",
      "43:\tlearn: 135.2825550\ttotal: 105ms\tremaining: 133ms\n",
      "44:\tlearn: 134.6817530\ttotal: 107ms\tremaining: 130ms\n",
      "45:\tlearn: 134.0023470\ttotal: 109ms\tremaining: 127ms\n",
      "46:\tlearn: 132.9734145\ttotal: 111ms\tremaining: 125ms\n",
      "47:\tlearn: 131.4679957\ttotal: 113ms\tremaining: 122ms\n",
      "48:\tlearn: 130.8937645\ttotal: 115ms\tremaining: 120ms\n",
      "49:\tlearn: 129.4553386\ttotal: 117ms\tremaining: 117ms\n",
      "50:\tlearn: 128.0381762\ttotal: 119ms\tremaining: 114ms\n",
      "51:\tlearn: 127.2084990\ttotal: 121ms\tremaining: 112ms\n",
      "52:\tlearn: 125.3691994\ttotal: 123ms\tremaining: 109ms\n",
      "53:\tlearn: 124.5330046\ttotal: 125ms\tremaining: 107ms\n",
      "54:\tlearn: 123.2451640\ttotal: 127ms\tremaining: 104ms\n",
      "55:\tlearn: 122.7469585\ttotal: 129ms\tremaining: 102ms\n",
      "56:\tlearn: 121.6145008\ttotal: 131ms\tremaining: 99ms\n",
      "57:\tlearn: 120.6829426\ttotal: 134ms\tremaining: 96.7ms\n",
      "58:\tlearn: 120.2890733\ttotal: 136ms\tremaining: 94.4ms\n",
      "59:\tlearn: 119.6831380\ttotal: 138ms\tremaining: 92.3ms\n",
      "60:\tlearn: 118.9619742\ttotal: 141ms\tremaining: 90ms\n",
      "61:\tlearn: 118.4479440\ttotal: 144ms\tremaining: 88ms\n",
      "62:\tlearn: 117.8299642\ttotal: 146ms\tremaining: 85.8ms\n",
      "63:\tlearn: 117.3266624\ttotal: 149ms\tremaining: 83.6ms\n",
      "64:\tlearn: 116.3859741\ttotal: 151ms\tremaining: 81.3ms\n",
      "65:\tlearn: 115.6303263\ttotal: 153ms\tremaining: 79ms\n",
      "66:\tlearn: 115.2538304\ttotal: 156ms\tremaining: 76.7ms\n",
      "67:\tlearn: 114.0932012\ttotal: 158ms\tremaining: 74.3ms\n",
      "68:\tlearn: 113.6880047\ttotal: 160ms\tremaining: 72.1ms\n",
      "69:\tlearn: 113.1883398\ttotal: 163ms\tremaining: 69.8ms\n",
      "70:\tlearn: 112.7699664\ttotal: 165ms\tremaining: 67.5ms\n",
      "71:\tlearn: 111.5770050\ttotal: 168ms\tremaining: 65.2ms\n",
      "72:\tlearn: 111.1841857\ttotal: 170ms\tremaining: 62.9ms\n",
      "73:\tlearn: 110.6538788\ttotal: 172ms\tremaining: 60.5ms\n",
      "74:\tlearn: 110.1135486\ttotal: 175ms\tremaining: 58.2ms\n",
      "75:\tlearn: 109.1482991\ttotal: 177ms\tremaining: 55.9ms\n",
      "76:\tlearn: 108.6942341\ttotal: 179ms\tremaining: 53.4ms\n",
      "77:\tlearn: 108.2677404\ttotal: 181ms\tremaining: 51.1ms\n",
      "78:\tlearn: 107.9713796\ttotal: 184ms\tremaining: 48.8ms\n",
      "79:\tlearn: 107.5710496\ttotal: 186ms\tremaining: 46.4ms\n",
      "80:\tlearn: 106.6601324\ttotal: 188ms\tremaining: 44.1ms\n",
      "81:\tlearn: 105.2710755\ttotal: 191ms\tremaining: 42ms\n",
      "82:\tlearn: 104.9256599\ttotal: 194ms\tremaining: 39.8ms\n",
      "83:\tlearn: 103.8067136\ttotal: 197ms\tremaining: 37.5ms\n",
      "84:\tlearn: 102.9671903\ttotal: 199ms\tremaining: 35.1ms\n",
      "85:\tlearn: 101.6558042\ttotal: 201ms\tremaining: 32.7ms\n",
      "86:\tlearn: 100.3389979\ttotal: 203ms\tremaining: 30.4ms\n",
      "87:\tlearn: 100.0137775\ttotal: 206ms\tremaining: 28ms\n",
      "88:\tlearn: 99.7288464\ttotal: 208ms\tremaining: 25.8ms\n",
      "89:\tlearn: 98.3247811\ttotal: 211ms\tremaining: 23.4ms\n",
      "90:\tlearn: 97.2951413\ttotal: 213ms\tremaining: 21.1ms\n",
      "91:\tlearn: 96.3339297\ttotal: 215ms\tremaining: 18.7ms\n",
      "92:\tlearn: 96.1032561\ttotal: 217ms\tremaining: 16.4ms\n",
      "93:\tlearn: 95.6999865\ttotal: 220ms\tremaining: 14ms\n",
      "94:\tlearn: 94.7249730\ttotal: 223ms\tremaining: 11.7ms\n",
      "95:\tlearn: 94.1041805\ttotal: 225ms\tremaining: 9.37ms\n",
      "96:\tlearn: 93.8889828\ttotal: 227ms\tremaining: 7.03ms\n",
      "97:\tlearn: 92.9584370\ttotal: 229ms\tremaining: 4.68ms\n",
      "98:\tlearn: 92.3553467\ttotal: 231ms\tremaining: 2.34ms\n",
      "99:\tlearn: 91.8393303\ttotal: 234ms\tremaining: 0us\n"
     ]
    },
    {
     "name": "stderr",
     "output_type": "stream",
     "text": [
      "C:\\Users\\admin\\Anaconda3\\lib\\site-packages\\sklearn\\linear_model\\_coordinate_descent.py:532: ConvergenceWarning: Objective did not converge. You might want to increase the number of iterations. Duality gap: 3717299.9570091013, tolerance: 4820.225437804878\n",
      "  positive)\n",
      "C:\\Users\\admin\\Anaconda3\\lib\\site-packages\\sklearn\\linear_model\\_coordinate_descent.py:532: ConvergenceWarning: Objective did not converge. You might want to increase the number of iterations. Duality gap: 3843794.5544773247, tolerance: 4820.225437804878\n",
      "  positive)\n",
      "C:\\Users\\admin\\Anaconda3\\lib\\site-packages\\sklearn\\utils\\validation.py:63: DataConversionWarning: A column-vector y was passed when a 1d array was expected. Please change the shape of y to (n_samples, ), for example using ravel().\n",
      "  return f(*args, **kwargs)\n",
      "C:\\Users\\admin\\Anaconda3\\lib\\site-packages\\sklearn\\linear_model\\_coordinate_descent.py:532: ConvergenceWarning: Objective did not converge. You might want to increase the number of iterations. Duality gap: 3717299.9570091013, tolerance: 4820.225437804878\n",
      "  positive)\n",
      "C:\\Users\\admin\\Anaconda3\\lib\\site-packages\\sklearn\\linear_model\\_coordinate_descent.py:532: ConvergenceWarning: Objective did not converge. You might want to increase the number of iterations. Duality gap: 3843794.5544773247, tolerance: 4820.225437804878\n",
      "  positive)\n",
      "C:\\Users\\admin\\Anaconda3\\lib\\site-packages\\sklearn\\utils\\validation.py:63: DataConversionWarning: A column-vector y was passed when a 1d array was expected. Please change the shape of y to (n_samples, ), for example using ravel().\n",
      "  return f(*args, **kwargs)\n",
      "C:\\Users\\admin\\Anaconda3\\lib\\site-packages\\sklearn\\linear_model\\_coordinate_descent.py:532: ConvergenceWarning: Objective did not converge. You might want to increase the number of iterations. Duality gap: 3717299.9570091013, tolerance: 4820.225437804878\n",
      "  positive)\n",
      "C:\\Users\\admin\\Anaconda3\\lib\\site-packages\\sklearn\\linear_model\\_coordinate_descent.py:532: ConvergenceWarning: Objective did not converge. You might want to increase the number of iterations. Duality gap: 3843794.5544773247, tolerance: 4820.225437804878\n",
      "  positive)\n"
     ]
    }
   ],
   "source": [
    "ls1=[]\n",
    "ls2=[]\n",
    "lr=LinearRegression()\n",
    "dt = ExtraTreesRegressor(random_state=1)\n",
    "gbr = GradientBoostingRegressor(random_state=1)\n",
    "rfr = RandomForestRegressor(random_state=1)\n",
    "ela = ElasticNet(random_state=1)\n",
    "rg = Ridge(random_state=1)\n",
    "las = Lasso(random_state=1)\n",
    "xg = XGBRegressor(random_state=1)\n",
    "cb = CatBoostRegressor(depth = 6, iterations=100, learning_rate=0.1)\n",
    "\n",
    "X_train, X_test, y_train, y_test = train_test_split(X, y, test_size = 0.20, random_state = 0)\n",
    "lr.fit(X_train, y_train)\n",
    "dt.fit(X_train, y_train)\n",
    "gbr.fit(X_train, y_train)\n",
    "rfr.fit(X_train,y_train)\n",
    "ela.fit(X_train, y_train)\n",
    "rg.fit(X_train,y_train)\n",
    "las.fit(X_train,y_train)\n",
    "xg.fit(X_train,y_train)\n",
    "cb.fit(X_train, y_train)\n",
    "ereg1 = VotingRegressor([('xg', xg), ('ela', ela), ('las', las)])\n",
    "ereg1.fit(X_train, y_train)\n",
    "ereg2 = VotingRegressor([('rfr', rfr), ('ela', ela), ('las', las)])\n",
    "ereg2.fit(X_train, y_train)\n",
    "ereg3 = VotingRegressor([('cb', cb), ('ela', ela), ('las', las)])\n",
    "ereg3.fit(X_train, y_train)\n",
    "ereg4 = VotingRegressor([('dt', dt), ('ela', ela), ('las', las)])\n",
    "ereg4.fit(X_train, y_train)\n",
    "ereg5 = VotingRegressor([('gbr', gbr), ('ela', ela), ('las', las)])\n",
    "ereg5.fit(X_train, y_train)\n",
    "    \n",
    "ls1.append(round(mean_absolute_error(y_test, lr.predict(X_test)),3))\n",
    "ls1.append(round(mean_absolute_error(y_test, dt.predict(X_test)),3))\n",
    "ls1.append(round(mean_absolute_error(y_test, gbr.predict(X_test)),3))\n",
    "ls1.append(round(mean_absolute_error(y_test, rfr.predict(X_test)),3))\n",
    "ls1.append(round(mean_absolute_error(y_test, ela.predict(X_test)),3))\n",
    "ls1.append(round(mean_absolute_error(y_test, rg.predict(X_test)),3))\n",
    "ls1.append(round(mean_absolute_error(y_test, las.predict(X_test)),3))\n",
    "ls1.append(round(mean_absolute_error(y_test, xg.predict(X_test)),3))\n",
    "ls1.append(round(mean_absolute_error(y_test, cb.predict(X_test)),3))\n",
    "ls1.append(round(mean_absolute_error(y_test, ereg1.predict(X_test)),3))\n",
    "ls1.append(round(mean_absolute_error(y_test, ereg2.predict(X_test)),3))\n",
    "ls1.append(round(mean_absolute_error(y_test, ereg3.predict(X_test)),3))\n",
    "ls1.append(round(mean_absolute_error(y_test, ereg4.predict(X_test)),3))\n",
    "ls1.append(round(mean_absolute_error(y_test, ereg5.predict(X_test)),3))\n",
    "\n",
    "ls2.append(round(mean_absolute_error(y_train, lr.predict(X_train)),3))\n",
    "ls2.append(round(mean_absolute_error(y_train, dt.predict(X_train)),3))\n",
    "ls2.append(round(mean_absolute_error(y_train, gbr.predict(X_train)),3))\n",
    "ls2.append(round(mean_absolute_error(y_train, rfr.predict(X_train)),3))\n",
    "ls2.append(round(mean_absolute_error(y_train, ela.predict(X_train)),3))\n",
    "ls2.append(round(mean_absolute_error(y_train, rg.predict(X_train)),3))\n",
    "ls2.append(round(mean_absolute_error(y_train, las.predict(X_train)),3))\n",
    "ls2.append(round(mean_absolute_error(y_train, xg.predict(X_train)),3))\n",
    "ls2.append(round(mean_absolute_error(y_train, cb.predict(X_train)),3))\n",
    "ls2.append(round(mean_absolute_error(y_train, ereg1.predict(X_train)),3))\n",
    "ls2.append(round(mean_absolute_error(y_train, ereg2.predict(X_train)),3))\n",
    "ls2.append(round(mean_absolute_error(y_train, ereg3.predict(X_train)),3))\n",
    "ls2.append(round(mean_absolute_error(y_train, ereg4.predict(X_train)),3))\n",
    "ls2.append(round(mean_absolute_error(y_train, ereg5.predict(X_train)),3))\n",
    "\n",
    "ls1 = np.array(ls1)\n",
    "ls1 = ls1.reshape(-1, 14)\n",
    "result_test = pd.DataFrame(ls1, columns=cols1)\n",
    "\n",
    "ls2 = np.array(ls2)\n",
    "ls2 = ls2.reshape(-1, 14)\n",
    "result_train = pd.DataFrame(ls2, columns=cols1)"
   ]
  },
  {
   "cell_type": "code",
   "execution_count": 216,
   "id": "64c8c606-3e2d-424a-9033-69049f06f9ca",
   "metadata": {},
   "outputs": [
    {
     "data": {
      "text/html": [
       "<div>\n",
       "<style scoped>\n",
       "    .dataframe tbody tr th:only-of-type {\n",
       "        vertical-align: middle;\n",
       "    }\n",
       "\n",
       "    .dataframe tbody tr th {\n",
       "        vertical-align: top;\n",
       "    }\n",
       "\n",
       "    .dataframe thead th {\n",
       "        text-align: right;\n",
       "    }\n",
       "</style>\n",
       "<table border=\"1\" class=\"dataframe\">\n",
       "  <thead>\n",
       "    <tr style=\"text-align: right;\">\n",
       "      <th></th>\n",
       "      <th>Linear</th>\n",
       "      <th>ExtraTrees</th>\n",
       "      <th>Gradient</th>\n",
       "      <th>RandomForest</th>\n",
       "      <th>ElasticNet</th>\n",
       "      <th>Ridge</th>\n",
       "      <th>Lasso</th>\n",
       "      <th>XGB</th>\n",
       "      <th>Catboost</th>\n",
       "      <th>Voting1</th>\n",
       "      <th>Voting2</th>\n",
       "      <th>Voting3</th>\n",
       "      <th>Voting4</th>\n",
       "      <th>Voting5</th>\n",
       "    </tr>\n",
       "  </thead>\n",
       "  <tbody>\n",
       "    <tr>\n",
       "      <th>0</th>\n",
       "      <td>100.186</td>\n",
       "      <td>111.858</td>\n",
       "      <td>123.769</td>\n",
       "      <td>115.67</td>\n",
       "      <td>101.488</td>\n",
       "      <td>98.667</td>\n",
       "      <td>97.106</td>\n",
       "      <td>125.451</td>\n",
       "      <td>118.743</td>\n",
       "      <td>102.198</td>\n",
       "      <td>98.801</td>\n",
       "      <td>100.266</td>\n",
       "      <td>94.905</td>\n",
       "      <td>101.26</td>\n",
       "    </tr>\n",
       "  </tbody>\n",
       "</table>\n",
       "</div>"
      ],
      "text/plain": [
       "    Linear  ExtraTrees  Gradient  RandomForest  ElasticNet   Ridge   Lasso  \\\n",
       "0  100.186     111.858   123.769        115.67     101.488  98.667  97.106   \n",
       "\n",
       "       XGB  Catboost  Voting1  Voting2  Voting3  Voting4  Voting5  \n",
       "0  125.451   118.743  102.198   98.801  100.266   94.905   101.26  "
      ]
     },
     "execution_count": 216,
     "metadata": {},
     "output_type": "execute_result"
    }
   ],
   "source": [
    "result_test"
   ]
  },
  {
   "cell_type": "code",
   "execution_count": 217,
   "id": "d0e2feef-e4b2-4f01-a750-a474b2ba8577",
   "metadata": {},
   "outputs": [
    {
     "data": {
      "text/html": [
       "<div>\n",
       "<style scoped>\n",
       "    .dataframe tbody tr th:only-of-type {\n",
       "        vertical-align: middle;\n",
       "    }\n",
       "\n",
       "    .dataframe tbody tr th {\n",
       "        vertical-align: top;\n",
       "    }\n",
       "\n",
       "    .dataframe thead th {\n",
       "        text-align: right;\n",
       "    }\n",
       "</style>\n",
       "<table border=\"1\" class=\"dataframe\">\n",
       "  <thead>\n",
       "    <tr style=\"text-align: right;\">\n",
       "      <th></th>\n",
       "      <th>Linear</th>\n",
       "      <th>ExtraTrees</th>\n",
       "      <th>Gradient</th>\n",
       "      <th>RandomForest</th>\n",
       "      <th>ElasticNet</th>\n",
       "      <th>Ridge</th>\n",
       "      <th>Lasso</th>\n",
       "      <th>XGB</th>\n",
       "      <th>Catboost</th>\n",
       "      <th>Voting1</th>\n",
       "      <th>Voting2</th>\n",
       "      <th>Voting3</th>\n",
       "      <th>Voting4</th>\n",
       "      <th>Voting5</th>\n",
       "    </tr>\n",
       "  </thead>\n",
       "  <tbody>\n",
       "    <tr>\n",
       "      <th>0</th>\n",
       "      <td>101.46</td>\n",
       "      <td>0.0</td>\n",
       "      <td>52.152</td>\n",
       "      <td>45.191</td>\n",
       "      <td>109.775</td>\n",
       "      <td>101.708</td>\n",
       "      <td>102.182</td>\n",
       "      <td>0.414</td>\n",
       "      <td>67.818</td>\n",
       "      <td>69.881</td>\n",
       "      <td>82.083</td>\n",
       "      <td>88.859</td>\n",
       "      <td>69.812</td>\n",
       "      <td>84.042</td>\n",
       "    </tr>\n",
       "  </tbody>\n",
       "</table>\n",
       "</div>"
      ],
      "text/plain": [
       "   Linear  ExtraTrees  Gradient  RandomForest  ElasticNet    Ridge    Lasso  \\\n",
       "0  101.46         0.0    52.152        45.191     109.775  101.708  102.182   \n",
       "\n",
       "     XGB  Catboost  Voting1  Voting2  Voting3  Voting4  Voting5  \n",
       "0  0.414    67.818   69.881   82.083   88.859   69.812   84.042  "
      ]
     },
     "execution_count": 217,
     "metadata": {},
     "output_type": "execute_result"
    }
   ],
   "source": [
    "result_train"
   ]
  },
  {
   "cell_type": "markdown",
   "id": "fc4ebea6-328a-4719-aa55-f71dda8a366a",
   "metadata": {},
   "source": [
    "### 변수중요도 확인"
   ]
  },
  {
   "cell_type": "code",
   "execution_count": 197,
   "id": "211d0315-7e1b-41b7-865b-3637fa4a4543",
   "metadata": {},
   "outputs": [],
   "source": [
    "feature_gbr = pd.DataFrame({'Gradient Boost' : X.columns, '변수중요도':gbr.feature_importances_})\n",
    "feature_gbr = feature_gbr.sort_values('변수중요도', ascending=False).reset_index(drop=True)"
   ]
  },
  {
   "cell_type": "code",
   "execution_count": 198,
   "id": "d326f3a3-184c-4678-b1b6-1a003de1dc9d",
   "metadata": {},
   "outputs": [],
   "source": [
    "feature_dt = pd.DataFrame({'ExtraTrees' : X.columns, '변수중요도':dt.feature_importances_})\n",
    "feature_dt = feature_dt.sort_values('변수중요도', ascending=False).reset_index(drop=True)"
   ]
  },
  {
   "cell_type": "code",
   "execution_count": 199,
   "id": "8ec4d50e-b903-4fb2-bfa3-6438e4e997ab",
   "metadata": {},
   "outputs": [],
   "source": [
    "feature_cat = pd.DataFrame({'Catboost' : X.columns, '변수중요도':cb.feature_importances_})\n",
    "feature_cat = feature_cat.sort_values('변수중요도', ascending=False).reset_index(drop=True)"
   ]
  },
  {
   "cell_type": "code",
   "execution_count": 200,
   "id": "9d2c7d7f-e621-47d0-ba53-c6b75b02d800",
   "metadata": {},
   "outputs": [],
   "source": [
    "feature_xg = pd.DataFrame({'XGB' : X.columns, '변수중요도':xg.feature_importances_})\n",
    "feature_xg = feature_xg.sort_values('변수중요도', ascending=False).reset_index(drop=True)"
   ]
  },
  {
   "cell_type": "code",
   "execution_count": 201,
   "id": "d4ccaa8d-d82a-451a-a54a-e83c734bc328",
   "metadata": {},
   "outputs": [],
   "source": [
    "feature_rfr = pd.DataFrame({'RandomForest' : X.columns, '변수중요도':rfr.feature_importances_})\n",
    "feature_rfr = feature_rfr.sort_values('변수중요도', ascending=False).reset_index(drop=True)"
   ]
  },
  {
   "cell_type": "code",
   "execution_count": 202,
   "id": "e9e16eb4-242d-406b-959b-e9c15267d1cb",
   "metadata": {},
   "outputs": [],
   "source": [
    "feature = pd.concat([feature_cat, feature_rfr, feature_xg, feature_dt, feature_gbr], axis=1)"
   ]
  },
  {
   "cell_type": "code",
   "execution_count": 205,
   "id": "befe3acb-0c35-40f4-98db-7fed30cffafd",
   "metadata": {
    "tags": []
   },
   "outputs": [],
   "source": [
    "feature.to_csv('변수중요도.csv', index=False)"
   ]
  },
  {
   "cell_type": "markdown",
   "id": "de56d707-d1a1-4940-bd83-f749d6764631",
   "metadata": {},
   "source": [
    "## 5. 모델 저장"
   ]
  },
  {
   "cell_type": "code",
   "execution_count": 218,
   "id": "d4a9d17a-1420-4896-b075-353cc29e2361",
   "metadata": {},
   "outputs": [
    {
     "name": "stdout",
     "output_type": "stream",
     "text": [
      "저장완료\n"
     ]
    }
   ],
   "source": [
    "with open('model_dash.pickle', 'wb') as fp:\n",
    "    pickle.dump(ereg5, fp)\n",
    "print('저장완료')"
   ]
  },
  {
   "cell_type": "markdown",
   "id": "8f493637-142c-421d-b83e-c7ef82c536ce",
   "metadata": {},
   "source": [
    "## 6. Submission 만들기"
   ]
  },
  {
   "cell_type": "markdown",
   "id": "b77d4ff5-ed35-44d6-986c-960ee7585376",
   "metadata": {},
   "source": [
    "### 1) 데이터 불러오기"
   ]
  },
  {
   "cell_type": "code",
   "execution_count": 177,
   "id": "2554d427-7c75-43f8-937a-59f9a874eead",
   "metadata": {},
   "outputs": [],
   "source": [
    "df = pd.read_csv('data/test_ratio.csv')"
   ]
  },
  {
   "cell_type": "markdown",
   "id": "dd9f564e-c826-48ed-9176-d9555824a3e8",
   "metadata": {},
   "source": [
    "### 2) 모델 부르기"
   ]
  },
  {
   "cell_type": "code",
   "execution_count": 207,
   "id": "a8579ab5-d7fb-42e6-a689-434a2b38a65d",
   "metadata": {},
   "outputs": [],
   "source": [
    "with open('model_ereg1_ratio.pickle', 'rb') as fp:\n",
    "    model = pickle.load(fp)"
   ]
  },
  {
   "cell_type": "code",
   "execution_count": 208,
   "id": "e71052dc-d98f-4ba6-a086-74af5eba2fea",
   "metadata": {},
   "outputs": [
    {
     "data": {
      "text/plain": [
       "(411, 70)"
      ]
     },
     "execution_count": 208,
     "metadata": {},
     "output_type": "execute_result"
    }
   ],
   "source": [
    "X.shape"
   ]
  },
  {
   "cell_type": "code",
   "execution_count": null,
   "id": "48ff13f4-95a6-498f-81d4-aaee6debcc8b",
   "metadata": {},
   "outputs": [],
   "source": [
    "model"
   ]
  },
  {
   "cell_type": "markdown",
   "id": "7db0db45-ff9e-4720-ad5f-18823f526cec",
   "metadata": {},
   "source": [
    "### 3) 단지코드 제외"
   ]
  },
  {
   "cell_type": "code",
   "execution_count": 179,
   "id": "e473633a-58ad-4e60-9f18-12f370f4809b",
   "metadata": {},
   "outputs": [],
   "source": [
    "X = df.iloc[:, 1:]"
   ]
  },
  {
   "cell_type": "markdown",
   "id": "0b3bbaba-a3e4-4094-a2a4-ef0b99554bd1",
   "metadata": {},
   "source": [
    "### 4) submission 생성"
   ]
  },
  {
   "cell_type": "code",
   "execution_count": 180,
   "id": "5d2b40d4-a08d-4343-aedc-b8963095b93a",
   "metadata": {},
   "outputs": [],
   "source": [
    "submission16 = pd.DataFrame({'code' : df.단지코드, 'predict' : model.predict(X)}) #비율만 넣은 것 test_2_semi"
   ]
  },
  {
   "cell_type": "code",
   "execution_count": 181,
   "id": "95f49141-9d48-4cf1-8ed4-113169212ee5",
   "metadata": {},
   "outputs": [],
   "source": [
    "sub = pd.read_csv('sample_submission.csv')\n",
    "sub = sub.merge(submission16, on='code', how='left')\n",
    "sub = sub.drop('num', axis=1)\n",
    "sub.columns = ['code', 'num']\n",
    "sub.to_csv('submission/submission16.csv', index=False)"
   ]
  },
  {
   "cell_type": "markdown",
   "id": "3d483834-1cca-4851-8dc9-da3b9ed8230c",
   "metadata": {},
   "source": [
    "## Submission 정보 기입\n",
    "- submission16 : xgboost, lasso, elasticnet, train_ratio.csv, test_ratio.csv 106.7\n",
    "- submission15 : catboost, lasso, elasticnet, train_ratio.csv, test_ratio.csv 114"
   ]
  },
  {
   "cell_type": "code",
   "execution_count": null,
   "id": "4bf1f172-8d4d-4469-9a3e-62c0bf772eae",
   "metadata": {},
   "outputs": [],
   "source": []
  }
 ],
 "metadata": {
  "kernelspec": {
   "display_name": "Python 3",
   "language": "python",
   "name": "python3"
  },
  "language_info": {
   "codemirror_mode": {
    "name": "ipython",
    "version": 3
   },
   "file_extension": ".py",
   "mimetype": "text/x-python",
   "name": "python",
   "nbconvert_exporter": "python",
   "pygments_lexer": "ipython3",
   "version": "3.7.10"
  }
 },
 "nbformat": 4,
 "nbformat_minor": 5
}
