{
 "cells": [
  {
   "cell_type": "markdown",
   "id": "ddd1a9fe-4cb9-47d9-917f-4684f3538851",
   "metadata": {},
   "source": [
    "# 비율컬럼 추가"
   ]
  },
  {
   "cell_type": "code",
   "execution_count": 216,
   "id": "4efce28a-1555-44c3-9497-825e0aea12a2",
   "metadata": {},
   "outputs": [],
   "source": [
    "import matplotlib.pyplot as plt"
   ]
  },
  {
   "cell_type": "code",
   "execution_count": 217,
   "id": "3ac255b6-5eac-43f3-919b-c3cb8b3df208",
   "metadata": {},
   "outputs": [],
   "source": [
    "df = pd.read_csv('test.csv')"
   ]
  },
  {
   "cell_type": "code",
   "execution_count": 144,
   "id": "18779e9e-298d-40db-adfc-ccd518b69fa7",
   "metadata": {},
   "outputs": [
    {
     "name": "stdout",
     "output_type": "stream",
     "text": [
      "pandas version:  1.3.0\n"
     ]
    }
   ],
   "source": [
    "print(\"pandas version: \", pd.__version__)\n",
    "pd.set_option('display.max_row', 100)\n",
    "pd.set_option('display.max_columns', 85)"
   ]
  },
  {
   "cell_type": "code",
   "execution_count": 145,
   "id": "24c96f0d-89a1-49f4-8b28-16b8f44e5037",
   "metadata": {},
   "outputs": [],
   "source": [
    "df.columns = ['단지코드', '총세대수', '임대건물구분', '지역', '공급유형', '전용면적', '전용면적별세대수', '공가수',\n",
    "       '자격유형', '임대보증금', '임대료', '지하철역', '버스정류장', '단지내주차면수']"
   ]
  },
  {
   "cell_type": "markdown",
   "id": "5985dc8e-0177-410c-be2f-6ff0f368b543",
   "metadata": {},
   "source": [
    "## 1. 데이터 오류 처리"
   ]
  },
  {
   "cell_type": "code",
   "execution_count": 146,
   "id": "8a11d314-93d7-4513-8cf8-638f1a29f33f",
   "metadata": {},
   "outputs": [
    {
     "data": {
      "text/plain": [
       "15"
      ]
     },
     "execution_count": 146,
     "metadata": {},
     "output_type": "execute_result"
    }
   ],
   "source": [
    "error_list=['C2335', 'C1327', 'C1095', 'C2051', 'C1218', 'C1894', 'C2483', 'C1502', 'C1988', 'C2085', 'C1397', 'C2431', 'C1649', 'C1036', 'C2675'] \n",
    "len(error_list)"
   ]
  },
  {
   "cell_type": "code",
   "execution_count": 147,
   "id": "50e8b3d6-bbbc-4e46-a2c5-2fd81e563e34",
   "metadata": {},
   "outputs": [
    {
     "data": {
      "text/plain": [
       "150"
      ]
     },
     "execution_count": 147,
     "metadata": {},
     "output_type": "execute_result"
    }
   ],
   "source": [
    "df.단지코드.nunique()"
   ]
  },
  {
   "cell_type": "code",
   "execution_count": 148,
   "id": "d2956473-67f6-46f2-bc34-007044719cf8",
   "metadata": {},
   "outputs": [
    {
     "data": {
      "text/plain": [
       "147"
      ]
     },
     "execution_count": 148,
     "metadata": {},
     "output_type": "execute_result"
    }
   ],
   "source": [
    "code_list = [i for i in df.단지코드.unique() if i not in error_list]\n",
    "len(code_list)"
   ]
  },
  {
   "cell_type": "code",
   "execution_count": 149,
   "id": "7fd0f54c-3343-4e8d-9ff4-45a8f4039ef7",
   "metadata": {},
   "outputs": [],
   "source": [
    "df_r = pd.DataFrame()\n",
    "\n",
    "for i in code_list:\n",
    "    temp = df[df.단지코드 == i]\n",
    "    df_r = pd.concat([df_r, temp])"
   ]
  },
  {
   "cell_type": "code",
   "execution_count": 150,
   "id": "4e5ac032-eb66-403a-90a6-4bcf8c7f3367",
   "metadata": {},
   "outputs": [],
   "source": [
    "df_r.to_csv('data/test_0_semi.csv')"
   ]
  },
  {
   "cell_type": "code",
   "execution_count": 151,
   "id": "318c6d4c-7256-4927-bb6f-22f749f2eb72",
   "metadata": {},
   "outputs": [],
   "source": [
    "df = df_r.copy()"
   ]
  },
  {
   "cell_type": "markdown",
   "id": "0af3f4cb-cacb-4b31-8981-c02dbd06d9c2",
   "metadata": {},
   "source": [
    "## 2.결측치 처리"
   ]
  },
  {
   "cell_type": "code",
   "execution_count": 152,
   "id": "eeb1e328-2c71-466e-847f-3110e84bcb0e",
   "metadata": {},
   "outputs": [],
   "source": [
    "df['임대료'] = df.임대료.replace('-', np.nan)\n",
    "df['임대보증금'] = df.임대보증금.replace('-', np.nan)"
   ]
  },
  {
   "cell_type": "code",
   "execution_count": 153,
   "id": "b9afaa81-d200-42ae-ad3d-a1908976ee34",
   "metadata": {},
   "outputs": [],
   "source": [
    "df['임대료'] = df['임대료'].fillna(0)\n",
    "df['임대보증금'] = df['임대보증금'].fillna(0)"
   ]
  },
  {
   "cell_type": "markdown",
   "id": "dae40562-9f3b-400e-b285-9c23ba2c86cf",
   "metadata": {},
   "source": [
    "### 지하철역수\n",
    "- 대전은 1, 충청남도는 0"
   ]
  },
  {
   "cell_type": "code",
   "execution_count": 154,
   "id": "94c033b1-ccd0-4451-a02c-6465b481482f",
   "metadata": {},
   "outputs": [
    {
     "data": {
      "text/plain": [
       "1.2765957446808511"
      ]
     },
     "execution_count": 154,
     "metadata": {},
     "output_type": "execute_result"
    }
   ],
   "source": [
    "np.mean(df[df['지역'] == '대전광역시']['지하철역'])"
   ]
  },
  {
   "cell_type": "code",
   "execution_count": 155,
   "id": "512cac08-1272-4f8c-9ded-153a7fc14f9e",
   "metadata": {},
   "outputs": [
    {
     "data": {
      "text/plain": [
       "0.0"
      ]
     },
     "execution_count": 155,
     "metadata": {},
     "output_type": "execute_result"
    }
   ],
   "source": [
    "np.mean(df[df['지역'] == '충청남도']['지하철역'])"
   ]
  },
  {
   "cell_type": "code",
   "execution_count": 156,
   "id": "5f16f40d-b244-4671-abf1-764f97638a2c",
   "metadata": {},
   "outputs": [],
   "source": [
    "df['지하철역'] = np.where((df.지역 =='대전광역시') & (df['지하철역'].isnull()), 1, df['지하철역'])\n",
    "df['지하철역'] = np.where((df.지역 =='충청남도') & (df['지하철역'].isnull()), 0, df['지하철역'])"
   ]
  },
  {
   "cell_type": "markdown",
   "id": "dbdc0567-79c5-4c2c-81a9-85c5c6683e43",
   "metadata": {},
   "source": [
    "## 3.이상치 처리"
   ]
  },
  {
   "cell_type": "code",
   "execution_count": 157,
   "id": "719ce549-a9bf-4511-9272-c7a75b1d5454",
   "metadata": {},
   "outputs": [
    {
     "data": {
      "text/plain": [
       "Index(['단지코드', '총세대수', '임대건물구분', '지역', '공급유형', '전용면적', '전용면적별세대수', '공가수',\n",
       "       '자격유형', '임대보증금', '임대료', '지하철역', '버스정류장', '단지내주차면수'],\n",
       "      dtype='object')"
      ]
     },
     "execution_count": 157,
     "metadata": {},
     "output_type": "execute_result"
    }
   ],
   "source": [
    "df.columns"
   ]
  },
  {
   "cell_type": "code",
   "execution_count": 158,
   "id": "b9c51c61-4586-4aed-b1a8-aeccf1225e5c",
   "metadata": {
    "tags": []
   },
   "outputs": [
    {
     "data": {
      "image/png": "[encoded data removed]",
      "text/plain": [
       "<Figure size 432x288 with 1 Axes>"
      ]
     },
     "metadata": {
      "image/png": {
       "height": 251,
       "width": 370
      }
     },
     "output_type": "display_data"
    }
   ],
   "source": [
    "plt.boxplot(df['버스정류장'])\n",
    "plt.show()"
   ]
  },
  {
   "cell_type": "code",
   "execution_count": 159,
   "id": "fc6ba5c9-231d-44ab-892b-3ec5d288bf10",
   "metadata": {},
   "outputs": [],
   "source": [
    "q25 = np.percentile(df['버스정류장'], 25)\n",
    "q75 = np.percentile(df['버스정류장'], 75)\n",
    "IQR = q75 - q25\n",
    "df['버스정류장'] = np.where(df['버스정류장'] > 7, 7, df['버스정류장'])"
   ]
  },
  {
   "cell_type": "code",
   "execution_count": 160,
   "id": "38d89469-fc45-4dfc-abf5-a6679ed863bc",
   "metadata": {},
   "outputs": [
    {
     "data": {
      "text/plain": [
       "3.7331349206349205"
      ]
     },
     "execution_count": 160,
     "metadata": {},
     "output_type": "execute_result"
    }
   ],
   "source": [
    "np.mean(df['버스정류장']) "
   ]
  },
  {
   "cell_type": "code",
   "execution_count": 161,
   "id": "ca93287d-bb0b-4dd2-aa4f-024d8e0e586d",
   "metadata": {},
   "outputs": [
    {
     "data": {
      "text/plain": [
       "(array([115., 252.,   0., 158.,   0., 134., 112.,   0.,  85., 152.]),\n",
       " array([1. , 1.6, 2.2, 2.8, 3.4, 4. , 4.6, 5.2, 5.8, 6.4, 7. ]),\n",
       " <BarContainer object of 10 artists>)"
      ]
     },
     "execution_count": 161,
     "metadata": {},
     "output_type": "execute_result"
    },
    {
     "data": {
      "image/png": "[encoded data removed]",
      "text/plain": [
       "<Figure size 432x288 with 1 Axes>"
      ]
     },
     "metadata": {
      "image/png": {
       "height": 251,
       "width": 376
      }
     },
     "output_type": "display_data"
    }
   ],
   "source": [
    "plt.hist(df['버스정류장'])"
   ]
  },
  {
   "cell_type": "code",
   "execution_count": 162,
   "id": "31989d17-a139-41ee-a48d-705adc348846",
   "metadata": {},
   "outputs": [],
   "source": [
    "df.to_csv('data/test_1_semi.csv', index=False)"
   ]
  },
  {
   "cell_type": "code",
   "execution_count": 163,
   "id": "da33c294-68c0-4bd0-b7a4-e72bbe8c552d",
   "metadata": {},
   "outputs": [],
   "source": [
    "#전처리 완료\n",
    "df = pd.read_csv('data/test_1_semi.csv')"
   ]
  },
  {
   "cell_type": "markdown",
   "id": "a033072f-8055-4d9e-98d0-94b936a0909f",
   "metadata": {},
   "source": [
    "## 4.그룹"
   ]
  },
  {
   "cell_type": "markdown",
   "id": "8c2a1c2e-02b8-49b7-bdfc-daaff85f1bf5",
   "metadata": {},
   "source": [
    "### 공급유형 그룹"
   ]
  },
  {
   "cell_type": "code",
   "execution_count": 164,
   "id": "2435e5c6-b09a-4faa-8f29-64da63b95d37",
   "metadata": {},
   "outputs": [],
   "source": [
    "df['period'] = np.where((df.공급유형=='영구임대')|(df.공급유형=='공공임대(50년)')|(df.공급유형=='공공분양'), 'exL',\n",
    "        np.where((df.공급유형=='국민임대')|(df.공급유형 =='장기전세'), 'L', 'S'))"
   ]
  },
  {
   "cell_type": "code",
   "execution_count": 165,
   "id": "9c9f4ddb-54fe-42f5-8c7f-299b2164c02e",
   "metadata": {},
   "outputs": [],
   "source": [
    "# from collections import Counter"
   ]
  },
  {
   "cell_type": "code",
   "execution_count": 166,
   "id": "04b651d0-19bd-47bc-bf5e-2f121140045e",
   "metadata": {},
   "outputs": [
    {
     "data": {
      "text/plain": [
       "(array([614.,   0.,   0.,   0.,   0.,  56.,   0.,   0.,   0., 338.]),\n",
       " array([0. , 0.2, 0.4, 0.6, 0.8, 1. , 1.2, 1.4, 1.6, 1.8, 2. ]),\n",
       " <BarContainer object of 10 artists>)"
      ]
     },
     "execution_count": 166,
     "metadata": {},
     "output_type": "execute_result"
    },
    {
     "data": {
      "image/png": "[encoded data removed]",
      "text/plain": [
       "<Figure size 432x288 with 1 Axes>"
      ]
     },
     "metadata": {
      "image/png": {
       "height": 251,
       "width": 376
      }
     },
     "output_type": "display_data"
    }
   ],
   "source": [
    "plt.hist(df.period)"
   ]
  },
  {
   "cell_type": "markdown",
   "id": "3669c425-2010-47de-bb78-9bcac437ebd3",
   "metadata": {},
   "source": [
    "### 자격유형 그룹"
   ]
  },
  {
   "cell_type": "code",
   "execution_count": 167,
   "id": "dbe7f3c2-b467-4aa8-bf28-4a2ee1b7483d",
   "metadata": {},
   "outputs": [],
   "source": [
    "ls=[]\n",
    "for i in df.공급유형.unique():\n",
    "    temp = df[df.공급유형 == i]\n",
    "    cert = temp.자격유형.unique()\n",
    "    ls.append([i, cert])"
   ]
  },
  {
   "cell_type": "markdown",
   "id": "5f445b06-bd80-488f-9fdc-2be704e70816",
   "metadata": {},
   "source": [
    "- A : 공공임대(50년), 공공임대(10년), 공공임대(분납), 장기전세, 공공임대(5년) - \n",
    "- D : 임대상가, 공공분양 - \n",
    "- A, C, E, F, I : 영구임대\n",
    "- J, K, L, M, N, O : 행복주택\n",
    "- A, B, E, G, H : 국민임대"
   ]
  },
  {
   "cell_type": "code",
   "execution_count": 168,
   "id": "99256a0a-cb0a-4be5-91d0-549d5a312efd",
   "metadata": {},
   "outputs": [],
   "source": [
    "df['자격유형_cat'] = np.where(df.공급유형 =='행복주택', 'JKLMNO',\n",
    "        np.where(df.공급유형 == '국민임대', 'ABEGH',\n",
    "                np.where(df.공급유형 =='영구임대', 'ACEFI',\n",
    "                        np.where((df.공급유형 =='임대상가') | (df.공급유형 =='공공분양'), 'D', 'A'))))"
   ]
  },
  {
   "cell_type": "code",
   "execution_count": 169,
   "id": "a1eac826-e8f6-4cf2-81ec-12f0f357bd99",
   "metadata": {},
   "outputs": [
    {
     "data": {
      "text/plain": [
       "array(['ABEGH', 'ACEFI', 'D', 'A', 'JKLMNO'], dtype=object)"
      ]
     },
     "execution_count": 169,
     "metadata": {},
     "output_type": "execute_result"
    }
   ],
   "source": [
    "df['자격유형_cat'].unique()"
   ]
  },
  {
   "cell_type": "code",
   "execution_count": 170,
   "id": "201bb71a-1337-40b4-afa2-e85892fc3979",
   "metadata": {},
   "outputs": [
    {
     "data": {
      "text/plain": [
       "(array([614.,   0.,  43.,   0.,   0., 177.,   0.,  54.,   0., 120.]),\n",
       " array([0. , 0.4, 0.8, 1.2, 1.6, 2. , 2.4, 2.8, 3.2, 3.6, 4. ]),\n",
       " <BarContainer object of 10 artists>)"
      ]
     },
     "execution_count": 170,
     "metadata": {},
     "output_type": "execute_result"
    },
    {
     "data": {
      "image/png": "[encoded data removed]",
      "text/plain": [
       "<Figure size 432x288 with 1 Axes>"
      ]
     },
     "metadata": {
      "image/png": {
       "height": 251,
       "width": 384
      }
     },
     "output_type": "display_data"
    }
   ],
   "source": [
    "plt.hist(df['자격유형_cat'])"
   ]
  },
  {
   "cell_type": "markdown",
   "id": "80c31a71-c243-4855-b096-55810f5a7c21",
   "metadata": {},
   "source": [
    "### 전용면적 그룹\n",
    "- 상한선 100, 하한선 15"
   ]
  },
  {
   "cell_type": "code",
   "execution_count": 171,
   "id": "680f4c3c-2330-4032-aff5-c7ce0c63c45a",
   "metadata": {},
   "outputs": [
    {
     "data": {
      "text/plain": [
       "count    1008.000000\n",
       "mean       43.788462\n",
       "std        36.105647\n",
       "min         9.960000\n",
       "25%        33.150000\n",
       "50%        39.720000\n",
       "75%        47.410000\n",
       "max       583.400000\n",
       "Name: 전용면적, dtype: float64"
      ]
     },
     "execution_count": 171,
     "metadata": {},
     "output_type": "execute_result"
    }
   ],
   "source": [
    "df.전용면적.describe()"
   ]
  },
  {
   "cell_type": "code",
   "execution_count": 172,
   "id": "59a98804-15d9-4a4f-a72d-2f42f75ee3d1",
   "metadata": {},
   "outputs": [],
   "source": [
    "df['전용면적'] = df.전용면적//5 *5"
   ]
  },
  {
   "cell_type": "code",
   "execution_count": 173,
   "id": "b85de580-a71d-46f2-a082-949afef7ad18",
   "metadata": {},
   "outputs": [],
   "source": [
    "df.전용면적 = np.where(df.전용면적 > 80, 80,\n",
    "        np.where(df.전용면적 < 15, 15, df.전용면적))\n",
    "df.전용면적 = df.전용면적.astype('int64')"
   ]
  },
  {
   "cell_type": "code",
   "execution_count": 174,
   "id": "6d049daa-ea32-4500-8f3c-32ce878e4c8d",
   "metadata": {},
   "outputs": [
    {
     "data": {
      "text/plain": [
       "count    1008.000000\n",
       "mean       38.611111\n",
       "std        13.228027\n",
       "min        15.000000\n",
       "25%        30.000000\n",
       "50%        35.000000\n",
       "75%        45.000000\n",
       "max        80.000000\n",
       "Name: 전용면적, dtype: float64"
      ]
     },
     "execution_count": 174,
     "metadata": {},
     "output_type": "execute_result"
    }
   ],
   "source": [
    "df.전용면적.describe()"
   ]
  },
  {
   "cell_type": "code",
   "execution_count": 175,
   "id": "be923d7e-5010-48f0-80e5-e554ebaf5d69",
   "metadata": {},
   "outputs": [
    {
     "data": {
      "text/plain": [
       "(array([109., 129.,  41., 285., 205., 136.,  68.,   0.,   8.,  27.]),\n",
       " array([15. , 21.5, 28. , 34.5, 41. , 47.5, 54. , 60.5, 67. , 73.5, 80. ]),\n",
       " <BarContainer object of 10 artists>)"
      ]
     },
     "execution_count": 175,
     "metadata": {},
     "output_type": "execute_result"
    },
    {
     "data": {
      "image/png": "[encoded data removed]",
      "text/plain": [
       "<Figure size 432x288 with 1 Axes>"
      ]
     },
     "metadata": {
      "image/png": {
       "height": 251,
       "width": 376
      }
     },
     "output_type": "display_data"
    }
   ],
   "source": [
    "plt.hist(df.전용면적)"
   ]
  },
  {
   "cell_type": "markdown",
   "id": "882f323f-5c0b-4f8b-a761-8a6841e72d81",
   "metadata": {},
   "source": [
    "# 5. 데이터프레임 만들기 시작"
   ]
  },
  {
   "cell_type": "code",
   "execution_count": 176,
   "id": "3a825c7b-7231-498b-aa4b-6801f18a6f45",
   "metadata": {},
   "outputs": [],
   "source": [
    "df1 = pd.DataFrame(df.groupby('단지코드').sum().reset_index()['단지코드'], columns=['단지코드']) #단지코드 데이터프레임"
   ]
  },
  {
   "cell_type": "markdown",
   "id": "f72a9cd1-93b1-4eb7-b30e-2cc4a535765c",
   "metadata": {},
   "source": [
    "## 1)임대건물구분"
   ]
  },
  {
   "cell_type": "markdown",
   "id": "f81cb8a1-bbe0-4b77-99e5-6f98827e4b7d",
   "metadata": {},
   "source": [
    "### 아파트/상가 세대수"
   ]
  },
  {
   "cell_type": "code",
   "execution_count": 177,
   "id": "f39c782c-bc20-4ea5-ade4-04876a8f4aa1",
   "metadata": {},
   "outputs": [],
   "source": [
    "df1 = pd.DataFrame(df.groupby('단지코드').sum()['전용면적별세대수'].reset_index()['단지코드'], columns = ['단지코드'])\n",
    "temp = df.groupby(['단지코드', '임대건물구분']).sum()['전용면적별세대수'].reset_index()\n",
    "\n",
    "df1 = df1.merge(temp.loc[temp['임대건물구분'] == '아파트'].reset_index(drop=True)[['단지코드','전용면적별세대수']], on = '단지코드', how = 'left')\n",
    "\n",
    "df1.columns = ['단지코드','아파트세대수']\n",
    "\n",
    "df1 = df1.merge(temp.loc[temp['임대건물구분'] == '상가'].reset_index(drop=True)[['단지코드','전용면적별세대수']], on = '단지코드', how = 'left' )\n",
    "\n",
    "df1.columns = ['단지코드','아파트세대수', '상가세대수']\n",
    "\n",
    "df1 = df1.fillna(0)"
   ]
  },
  {
   "cell_type": "markdown",
   "id": "cea5c1a4-70e0-45f5-a618-a96d38ab1246",
   "metadata": {},
   "source": [
    "### 총세대수 & 아파트/상가 비율"
   ]
  },
  {
   "cell_type": "code",
   "execution_count": 178,
   "id": "7ea16965-f911-4566-939e-83e1a0e73664",
   "metadata": {},
   "outputs": [],
   "source": [
    "# temp = df[['단지코드', '총세대수']].drop_duplicates() #총세대수\n",
    "# df1 = df1.merge(temp, on='단지코드', how='left')"
   ]
  },
  {
   "cell_type": "code",
   "execution_count": 179,
   "id": "f752cd93-a191-49de-9e78-b7d1e36f3c12",
   "metadata": {},
   "outputs": [],
   "source": [
    "df1['총세대수'] = df1['아파트세대수'] + df1['상가세대수']"
   ]
  },
  {
   "cell_type": "code",
   "execution_count": 180,
   "id": "fabea427-d37c-40d2-8b27-3d610eb8f810",
   "metadata": {},
   "outputs": [],
   "source": [
    "df1['아파트비율'] = df1['아파트세대수']/df1['총세대수']\n",
    "df1['상가비율'] = df1['상가세대수']/df1['총세대수']"
   ]
  },
  {
   "cell_type": "code",
   "execution_count": 181,
   "id": "e11653aa-2d07-4b57-a9f2-4c84ffadb3b0",
   "metadata": {},
   "outputs": [],
   "source": [
    "df1 = df1.drop(['아파트세대수', '상가세대수'], axis=1)"
   ]
  },
  {
   "cell_type": "markdown",
   "id": "a9168a6c-93d5-4926-9e64-0a1314a0907e",
   "metadata": {},
   "source": [
    "## 2) 기본정보"
   ]
  },
  {
   "cell_type": "code",
   "execution_count": 182,
   "id": "3bfc2483-b2d5-4133-b7ea-d1c87460ee15",
   "metadata": {},
   "outputs": [],
   "source": [
    "#제외 : 총세대수, 임대건물구분(df1), 전용면적별세대수, 전용면적, 공급유형, 자격유형\n",
    "#포함 : 단지코드, 지역, 공가수, 도보 10분거리 내 지하철역 수(환승노선 수 반영),  도보 10분거리 내 버스정류장 수, 단지내주차면수, 등록차량수"
   ]
  },
  {
   "cell_type": "code",
   "execution_count": 183,
   "id": "ea9c5cbd-4178-4e75-9556-78001f416f0d",
   "metadata": {},
   "outputs": [],
   "source": [
    "temp = df[['단지코드', '지역', '공가수', '지하철역',\n",
    "                     '버스정류장', '단지내주차면수']].drop_duplicates()\n",
    "df1=df1.merge(temp, on='단지코드', how='left')"
   ]
  },
  {
   "cell_type": "code",
   "execution_count": 184,
   "id": "992fd1a6-6f21-4056-b1b5-e8507fb29295",
   "metadata": {
    "tags": []
   },
   "outputs": [],
   "source": [
    "#비율만\n",
    "df1.columns = ['단지코드', '총세대수', '아파트비율', '상가비율', '지역', '공가수',\n",
    "       '지하철역', '버스정류장', '단지내주차면수']"
   ]
  },
  {
   "cell_type": "markdown",
   "id": "477691bc-48aa-4d04-8bca-f11c5d235111",
   "metadata": {},
   "source": [
    "## 3) 전용면적"
   ]
  },
  {
   "cell_type": "markdown",
   "id": "2e22383a-7056-427c-86e4-1b3a2422d990",
   "metadata": {},
   "source": [
    "### 전용면적 세대수 \n",
    "- 10번 후에 삭제"
   ]
  },
  {
   "cell_type": "code",
   "execution_count": 185,
   "id": "e9071248-7c49-43b4-8906-ac6c22eb7d80",
   "metadata": {},
   "outputs": [],
   "source": [
    "for i in df.sort_values('전용면적').전용면적.unique():\n",
    "    temp = df[df.전용면적 ==i].groupby('단지코드').sum().reset_index()[['단지코드', '전용면적별세대수']]\n",
    "    temp.columns = ['단지코드', '전용면적_{}_세대수'.format(i)]\n",
    "    df1 = df1.merge(temp,on='단지코드', how='left')\n",
    "    \n",
    "df1 = df1.fillna(0)"
   ]
  },
  {
   "cell_type": "code",
   "execution_count": 186,
   "id": "7d349be0-5d28-436a-8ca4-ec09a73eabc1",
   "metadata": {},
   "outputs": [
    {
     "data": {
      "text/plain": [
       "Index(['단지코드', '총세대수', '아파트비율', '상가비율', '지역', '공가수', '지하철역', '버스정류장',\n",
       "       '단지내주차면수', '전용면적_15_세대수', '전용면적_20_세대수', '전용면적_25_세대수', '전용면적_30_세대수',\n",
       "       '전용면적_35_세대수', '전용면적_40_세대수', '전용면적_45_세대수', '전용면적_50_세대수',\n",
       "       '전용면적_55_세대수', '전용면적_60_세대수', '전용면적_70_세대수', '전용면적_75_세대수',\n",
       "       '전용면적_80_세대수'],\n",
       "      dtype='object')"
      ]
     },
     "execution_count": 186,
     "metadata": {},
     "output_type": "execute_result"
    }
   ],
   "source": [
    "df1.columns"
   ]
  },
  {
   "cell_type": "markdown",
   "id": "532094b9-e4be-4f07-bd7e-303fffe78b2a",
   "metadata": {},
   "source": [
    "### 전용면적 비율 ★"
   ]
  },
  {
   "cell_type": "code",
   "execution_count": 187,
   "id": "ce646ae2-0f19-4c9d-9afb-aaa471009592",
   "metadata": {},
   "outputs": [],
   "source": [
    "ls = ['전용면적_15_세대수', '전용면적_20_세대수', '전용면적_25_세대수', '전용면적_30_세대수',\n",
    "       '전용면적_35_세대수', '전용면적_40_세대수', '전용면적_45_세대수', '전용면적_50_세대수',\n",
    "       '전용면적_55_세대수', '전용면적_60_세대수', '전용면적_70_세대수', '전용면적_75_세대수',\n",
    "       '전용면적_80_세대수']"
   ]
  },
  {
   "cell_type": "code",
   "execution_count": 188,
   "id": "76943be0-6047-4ab3-9977-a81de47d9750",
   "metadata": {},
   "outputs": [],
   "source": [
    "ls1 = df.sort_values('전용면적').전용면적.unique()\n",
    "for i in ls1:\n",
    "    df1['전용면적_{}_비율'.format(i)] = df1['전용면적_{}_세대수'.format(i)] / df1['총세대수']"
   ]
  },
  {
   "cell_type": "markdown",
   "id": "9503be2f-4497-4b80-aaaf-cdf4452e6c3d",
   "metadata": {},
   "source": [
    "## 4) 공급유형"
   ]
  },
  {
   "cell_type": "markdown",
   "id": "adeb01b5-85bb-4a6b-8aab-56a67a59df2d",
   "metadata": {},
   "source": [
    "### 공급유형 cat 비율"
   ]
  },
  {
   "cell_type": "code",
   "execution_count": 189,
   "id": "e71c00e8-70e4-405a-96b6-ddad0cfb2407",
   "metadata": {},
   "outputs": [],
   "source": [
    "df2 = pd.DataFrame(df.groupby('단지코드').sum().reset_index()['단지코드'], columns=['단지코드']) #단지코드 데이터프레임\n",
    "\n",
    "temp = df.groupby(['단지코드', 'period']).sum().reset_index()\n",
    "\n",
    "temp1 = temp.loc[temp['period'] == 'exL'][['단지코드', '전용면적별세대수']]\n",
    "temp1.columns = ['단지코드', '초장기세대수']\n",
    "df2 = df2.merge(temp1, on = '단지코드', how = 'left')\n",
    "\n",
    "temp2 = temp.loc[temp['period'] == 'L'][['단지코드', '전용면적별세대수']]\n",
    "temp2.columns = ['단지코드', '장기세대수']\n",
    "df2 = df2.merge(temp2, on = '단지코드', how = 'left')\n",
    "\n",
    "temp3 = temp.loc[temp['period'] == 'S'][['단지코드', '전용면적별세대수']]\n",
    "temp3.columns = ['단지코드', '단기세대수']\n",
    "df2 = df2.merge(temp3, on = '단지코드', how = 'left')\n",
    "\n",
    "df2 = df2.fillna(0)"
   ]
  },
  {
   "cell_type": "code",
   "execution_count": 190,
   "id": "25665f09-cb45-4975-9eeb-339895e60f66",
   "metadata": {},
   "outputs": [],
   "source": [
    "df2['총세대수'] = df2['초장기세대수'] + df2['장기세대수'] + df2['단기세대수']\n",
    "df2['초장기비율'] = df2['초장기세대수'] / df2['총세대수']\n",
    "df2['장기비율'] = df2['장기세대수'] / df2['총세대수']\n",
    "df2['단기비율'] = df2['단기세대수'] / df2['총세대수']\n",
    "df2 = df2.drop(['초장기세대수', '장기세대수', '단기세대수', '총세대수'], axis=1)\n",
    "df1 = df1.merge(df2, on='단지코드', how='left')"
   ]
  },
  {
   "cell_type": "markdown",
   "id": "15f1aaac-f69f-43d7-8843-dac006a23a7f",
   "metadata": {},
   "source": [
    "## 5) 자격유형"
   ]
  },
  {
   "cell_type": "markdown",
   "id": "a9668625-ebb6-4e08-a7db-8a484c26b60e",
   "metadata": {},
   "source": [
    "### 자격유형cat 비율"
   ]
  },
  {
   "cell_type": "code",
   "execution_count": 191,
   "id": "21554c2c-ba62-4ef1-8893-c63a52b3eef9",
   "metadata": {},
   "outputs": [
    {
     "data": {
      "text/plain": [
       "array(['ABEGH', 'ACEFI', 'D', 'A', 'JKLMNO'], dtype=object)"
      ]
     },
     "execution_count": 191,
     "metadata": {},
     "output_type": "execute_result"
    }
   ],
   "source": [
    "df['자격유형_cat'].unique()"
   ]
  },
  {
   "cell_type": "code",
   "execution_count": 192,
   "id": "54582d67-d757-4043-adb1-cd4e862cccbe",
   "metadata": {},
   "outputs": [],
   "source": [
    "df2 = pd.DataFrame(df.groupby('단지코드').sum().reset_index()['단지코드'], columns=['단지코드']) #단지코드 데이터프레임\n",
    "\n",
    "temp = df.groupby(['단지코드', '자격유형_cat']).sum().reset_index()\n",
    "\n",
    "temp1 = temp.loc[temp['자격유형_cat'] == 'ABEGH'][['단지코드', '전용면적별세대수']]\n",
    "temp1.columns = ['단지코드', 'ABEGH세대수']\n",
    "df2 = df2.merge(temp1, on = '단지코드', how = 'left')\n",
    "\n",
    "temp2 = temp.loc[temp['자격유형_cat'] == 'A'][['단지코드', '전용면적별세대수']]\n",
    "temp2.columns = ['단지코드', 'A세대수']\n",
    "df2 = df2.merge(temp2, on = '단지코드', how = 'left')\n",
    "\n",
    "temp3 = temp.loc[temp['자격유형_cat'] == 'ACEFI'][['단지코드', '전용면적별세대수']]\n",
    "temp3.columns = ['단지코드', 'ACEFI세대수']\n",
    "df2 = df2.merge(temp3, on = '단지코드', how = 'left')\n",
    "\n",
    "temp4 = temp.loc[temp['자격유형_cat'] == 'D'][['단지코드', '전용면적별세대수']]\n",
    "temp4.columns = ['단지코드', 'D세대수']\n",
    "df2 = df2.merge(temp4, on = '단지코드', how = 'left')\n",
    "\n",
    "temp5 = temp.loc[temp['자격유형_cat'] == 'JKLMNO'][['단지코드', '전용면적별세대수']]\n",
    "temp5.columns = ['단지코드', 'JKLMNO세대수']\n",
    "df2 = df2.merge(temp5, on = '단지코드', how = 'left')\n",
    "\n",
    "df2 = df2.fillna(0)\n",
    "\n",
    "df2['총세대수'] = df2.iloc[:, 1] + df2.iloc[:, 2] + df2.iloc[:, 3] + df2.iloc[:, 4] + df2.iloc[:, 5]\n",
    "df2['ABEGH비율'] = df2['ABEGH세대수'] / df2['총세대수']\n",
    "df2['A비율'] = df2['A세대수'] / df2['총세대수']\n",
    "df2['ACEFI비율'] = df2['ACEFI세대수'] / df2['총세대수']\n",
    "df2['D비율'] = df2['D세대수'] / df2['총세대수']\n",
    "df2['JKLMNO비율'] = df2['JKLMNO세대수'] / df2['총세대수']"
   ]
  },
  {
   "cell_type": "code",
   "execution_count": 193,
   "id": "cbdcc591-2c61-4e8f-b4ae-85f50447171a",
   "metadata": {},
   "outputs": [],
   "source": [
    "df2 = df2.drop(['ABEGH세대수', 'A세대수', 'ACEFI세대수', 'D세대수', 'JKLMNO세대수', '총세대수'], axis=1)"
   ]
  },
  {
   "cell_type": "code",
   "execution_count": 194,
   "id": "3e6f9e67-7d35-4e54-b3e6-48a501b3c2ae",
   "metadata": {},
   "outputs": [],
   "source": [
    "df1 = df1.merge(df2, on='단지코드', how='left')"
   ]
  },
  {
   "cell_type": "markdown",
   "id": "7d015c2f-22c8-48a5-90ab-e583f75513f0",
   "metadata": {},
   "source": [
    "## 6) 나이/성별 인구수\n",
    "- 나이대별로 합치는건 결과에 그다지 영향 안 미침. 그대로 붙여도 무관"
   ]
  },
  {
   "cell_type": "code",
   "execution_count": 195,
   "id": "64e44a42-2ba0-416b-a207-5f3b13786c36",
   "metadata": {},
   "outputs": [],
   "source": [
    "ageinfo = pd.read_csv('data/age_gender_info.csv')\n",
    "df1 = df1.merge(ageinfo, on = '지역', how = 'left')"
   ]
  },
  {
   "cell_type": "markdown",
   "id": "bdb46319-0a14-457d-b7ea-229a68e40f17",
   "metadata": {},
   "source": [
    "## 7) 1인당 자동차등록수"
   ]
  },
  {
   "cell_type": "code",
   "execution_count": 196,
   "id": "0c8b4876-fd5b-4ca2-ada3-79227274b9bf",
   "metadata": {},
   "outputs": [],
   "source": [
    "car_2019 = pd.read_csv('data/1인당자동차_2019.csv', encoding='euc-kr', header=1)"
   ]
  },
  {
   "cell_type": "code",
   "execution_count": 197,
   "id": "4a36e0b2-0fed-40fe-a7b0-38d52b7d1011",
   "metadata": {},
   "outputs": [],
   "source": [
    "car_2019.columns = ['지역', '1인당_자동차등록대수', '자동차등록대수', '주민등록인구']\n",
    "car_2019['1인당자동차'] = car_2019.자동차등록대수 / car_2019.주민등록인구\n",
    "car_2019 = car_2019[['지역', '1인당자동차']]\n",
    "df1 = df1.merge(car_2019, on='지역', how='left')"
   ]
  },
  {
   "cell_type": "markdown",
   "id": "c269beeb-0190-4d0b-b541-5e07a664b38f",
   "metadata": {},
   "source": [
    "## 8) 주택연면적"
   ]
  },
  {
   "cell_type": "code",
   "execution_count": 198,
   "id": "29090c60-8bc4-428a-b495-5b3b5484edf6",
   "metadata": {},
   "outputs": [],
   "source": [
    "size = pd.read_csv('data/주택연면적_2019.csv', encoding='euc-kr', header=1)"
   ]
  },
  {
   "cell_type": "code",
   "execution_count": 199,
   "id": "4d6533db-6278-4790-b6b1-ae91f1390ffd",
   "metadata": {},
   "outputs": [],
   "source": [
    "size = size[['행정구역별(시군구)', '2019년']].iloc[4:, :].reset_index(drop=True)\n",
    "size.columns = ['지역', '연면적']"
   ]
  },
  {
   "cell_type": "code",
   "execution_count": 200,
   "id": "ca04d0cb-70d7-477f-a23b-480c21da1d96",
   "metadata": {},
   "outputs": [],
   "source": [
    "df1 = df1.merge(size, on='지역', how='left')"
   ]
  },
  {
   "cell_type": "markdown",
   "id": "c0449fde-d052-4af8-8e76-c319523d9a00",
   "metadata": {},
   "source": [
    "## 9) 평당가격"
   ]
  },
  {
   "cell_type": "code",
   "execution_count": 201,
   "id": "60fa09cb-590c-4119-a4c2-0b634f7f21df",
   "metadata": {
    "tags": []
   },
   "outputs": [],
   "source": [
    "price = pd.read_csv('data/평균분양가격_2019.csv', encoding='euc-kr', header=1)\n",
    "price = price[['지역별(2)', '전체.11']]\n",
    "price = price.iloc[2:, :]\n",
    "idx = price.index.difference([5]).difference([12]).difference([3]).difference([2])\n",
    "price = price.loc[idx, :].reset_index(drop=True)\n",
    "price.columns = ['지역', '평균분양가격']\n",
    "price = price.sort_values('지역').reset_index(drop=True)\n",
    "price['지역'] = df.sort_values('지역').지역.unique()"
   ]
  },
  {
   "cell_type": "code",
   "execution_count": 202,
   "id": "b922c27e-77c6-493a-987f-1a2a90407c49",
   "metadata": {},
   "outputs": [],
   "source": [
    "df1 = df1.merge(price, on='지역', how='left')"
   ]
  },
  {
   "cell_type": "markdown",
   "id": "5ce5e02c-efaa-4dfa-bf09-9ca3eea3a373",
   "metadata": {},
   "source": [
    "## 10) 총면적구하기 ★\n",
    "- 전용면적별 세대수 사용"
   ]
  },
  {
   "cell_type": "code",
   "execution_count": 203,
   "id": "98b7a6e3-be9c-456a-9c26-2af0d0e0a7de",
   "metadata": {},
   "outputs": [],
   "source": [
    "size_ls = df.sort_values('전용면적')['전용면적'].unique()"
   ]
  },
  {
   "cell_type": "code",
   "execution_count": 204,
   "id": "56aed120-9e0b-4377-880e-fba61b4c77e9",
   "metadata": {},
   "outputs": [
    {
     "data": {
      "text/plain": [
       "13"
      ]
     },
     "execution_count": 204,
     "metadata": {},
     "output_type": "execute_result"
    }
   ],
   "source": [
    "len(size_ls) #65 전용면적 없어서 1개 적음."
   ]
  },
  {
   "cell_type": "code",
   "execution_count": 205,
   "id": "889ae684-041a-41ea-b6c0-00b8ca3b8d50",
   "metadata": {},
   "outputs": [],
   "source": [
    "all_size=0\n",
    "for i in range(13):\n",
    "    all_size += df1.iloc[:,i+9] * size_ls[i]"
   ]
  },
  {
   "cell_type": "code",
   "execution_count": 206,
   "id": "ea3de8e8-0ff5-4bcf-8d9b-b94f6eb6fd4f",
   "metadata": {},
   "outputs": [],
   "source": [
    "df1['총면적'] = all_size"
   ]
  },
  {
   "cell_type": "code",
   "execution_count": 207,
   "id": "f743d026-ace5-46e2-986d-3e89da4847ee",
   "metadata": {},
   "outputs": [],
   "source": [
    "df1 = df1.drop(ls, axis=1) #전용면적세대수 없애주기"
   ]
  },
  {
   "cell_type": "markdown",
   "id": "6cb9cf15-f1d2-4f6a-8873-d74ed1a1ad2c",
   "metadata": {
    "tags": []
   },
   "source": [
    "## 11) 규모별 가격"
   ]
  },
  {
   "cell_type": "code",
   "execution_count": 208,
   "id": "e49915c0-3817-41d0-8f81-37498925dc34",
   "metadata": {},
   "outputs": [],
   "source": [
    "df1['규모별가격'] = df1['총면적'] * df1['평균분양가격']"
   ]
  },
  {
   "cell_type": "code",
   "execution_count": 220,
   "id": "5cb52db5-7538-4beb-8f75-cc20c78e207c",
   "metadata": {},
   "outputs": [
    {
     "data": {
      "text/plain": [
       "(147, 73)"
      ]
     },
     "execution_count": 220,
     "metadata": {},
     "output_type": "execute_result"
    }
   ],
   "source": [
    "df1.shape"
   ]
  },
  {
   "cell_type": "markdown",
   "id": "37390a33-fe3c-4450-b06b-5339a9a66e6a",
   "metadata": {},
   "source": [
    "## 12) 자전거도로"
   ]
  },
  {
   "cell_type": "code",
   "execution_count": 210,
   "id": "76d959f2-6068-4960-86c9-e13617718592",
   "metadata": {},
   "outputs": [],
   "source": [
    "bicycle = pd.read_csv('data/자전거도로_2019.csv', encoding='euc-kr', header=1)\n",
    "bicycle = bicycle.iloc[:, :2]\n",
    "bicycle.columns = ['지역', '자전거도로']\n",
    "bicycle['전국'] =23849.87\n",
    "bicycle['자전거도로비율'] = bicycle.자전거도로 / bicycle.전국\n",
    "bicycle = bicycle.iloc[1:, :]\n",
    "bicycle = bicycle.drop(['자전거도로', '전국'], axis=1)"
   ]
  },
  {
   "cell_type": "code",
   "execution_count": 211,
   "id": "eb88b407-4c5a-41e2-b3c0-2433e9c037a9",
   "metadata": {
    "tags": []
   },
   "outputs": [],
   "source": [
    "df1 = df1.merge(bicycle, on='지역', how='left')"
   ]
  },
  {
   "cell_type": "markdown",
   "id": "f5293ca8-a62a-415c-a728-c59ab3120e0f",
   "metadata": {},
   "source": [
    "## 13) 운전면허소지자현황"
   ]
  },
  {
   "cell_type": "code",
   "execution_count": 212,
   "id": "22b7c109-6382-4cb0-837f-b37cca45cfca",
   "metadata": {},
   "outputs": [],
   "source": [
    "driver = pd.read_csv('data/운전면허소지자현황.csv', encoding='euc-kr')\n",
    "driver = driver.iloc[3:, :2].reset_index(drop=True)\n",
    "driver['2019'] = driver['2019'].astype('int64')\n",
    "경기 = driver.iloc[7, :] + driver.iloc[8, :]\n",
    "driver.iloc[7, :] = 경기\n",
    "driver.iloc[8, :] = 경기\n",
    "driver = driver.drop_duplicates()\n",
    "driver.columns = ['지역', '운전면허소지자현황']\n",
    "idx = driver.index.difference([3]).difference([0])\n",
    "driver = driver.loc[idx, :].reset_index(drop=True)\n",
    "driver = driver.sort_values('지역').reset_index(drop=True)\n",
    "driver.지역 = df.sort_values('지역').지역.unique()\n",
    "driver['운전면허소지자비율'] = driver['운전면허소지자현황'].apply(lambda x : x/driver.운전면허소지자현황.sum())\n",
    "driver = driver.drop('운전면허소지자현황', axis=1)"
   ]
  },
  {
   "cell_type": "code",
   "execution_count": 213,
   "id": "89af63d2-ba82-4a02-8495-87d575dbf339",
   "metadata": {},
   "outputs": [],
   "source": [
    "df1 = df1.merge(driver, on='지역', how='left')"
   ]
  },
  {
   "cell_type": "markdown",
   "id": "e912419d-b116-4ecf-8381-68b5ec870e90",
   "metadata": {},
   "source": [
    "## 14) 지역인코딩"
   ]
  },
  {
   "cell_type": "code",
   "execution_count": 214,
   "id": "2a41f740-cc71-4f8f-a88d-581c41d94a78",
   "metadata": {},
   "outputs": [],
   "source": [
    "df1 = pd.concat([df1.drop('지역', axis = 1),pd.get_dummies(df1.지역)], axis = 1)"
   ]
  },
  {
   "cell_type": "markdown",
   "id": "8b515ea3-5789-48ec-bea3-aa6195df921a",
   "metadata": {},
   "source": [
    "## 15) test data 저장"
   ]
  },
  {
   "cell_type": "code",
   "execution_count": 215,
   "id": "e87f2bbe-f705-41b4-903a-f423e9d7e58b",
   "metadata": {},
   "outputs": [],
   "source": [
    "# df1.to_csv('data/test_ratio_0728.csv', index=False)"
   ]
  },
  {
   "cell_type": "code",
   "execution_count": 219,
   "id": "81d5fe51-1986-4795-8874-eb9b9c587002",
   "metadata": {},
   "outputs": [],
   "source": [
    "df1 = pd.read_csv('data/test_try0728_2.csv')"
   ]
  },
  {
   "cell_type": "code",
   "execution_count": null,
   "id": "40b05607-8002-4919-aca0-4d72be8164b6",
   "metadata": {},
   "outputs": [],
   "source": []
  }
 ],
 "metadata": {
  "kernelspec": {
   "display_name": "Python 3",
   "language": "python",
   "name": "python3"
  },
  "language_info": {
   "codemirror_mode": {
    "name": "ipython",
    "version": 3
   },
   "file_extension": ".py",
   "mimetype": "text/x-python",
   "name": "python",
   "nbconvert_exporter": "python",
   "pygments_lexer": "ipython3",
   "version": "3.7.4"
  }
 },
 "nbformat": 4,
 "nbformat_minor": 5
}
